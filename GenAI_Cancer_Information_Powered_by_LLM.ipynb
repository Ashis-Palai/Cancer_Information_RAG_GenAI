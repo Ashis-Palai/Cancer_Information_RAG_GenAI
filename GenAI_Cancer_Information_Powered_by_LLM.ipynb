{
  "nbformat": 4,
  "nbformat_minor": 0,
  "metadata": {
    "colab": {
      "provenance": [],
      "authorship_tag": "ABX9TyOQACA31brrLxegWTl3mSV0"
    },
    "kernelspec": {
      "name": "python3",
      "display_name": "Python 3"
    },
    "language_info": {
      "name": "python"
    }
  },
  "cells": [
    {
      "cell_type": "markdown",
      "source": [
        "# **DATA EXTRACTION:**\n",
        "\n"
      ],
      "metadata": {
        "id": "AGGL_JFf-49m"
      }
    },
    {
      "cell_type": "markdown",
      "source": [
        "## **Sources**\n",
        "\n",
        "* **Cervical , Breast & Oral Cancers:**\n",
        "\n",
        "\n",
        "> ```\n",
        "https://tmc.gov.in/ncg/docs/PDF/DraftGuidelines/Preventive/3_%20NCG_INDIA_Rev_Preventive%20Oncology_Primary_Care.pdf\n",
        "```\n",
        "\n",
        "\n",
        "* **Ovarian_Cancer:**\n",
        "\n",
        "> ```\n",
        "https://main.icmr.nic.in/sites/default/files/guidelines/Ovarian_Cancer.pdf\n",
        "```\n",
        "\n",
        "\n",
        "* **Generic Information About Cancer**\n",
        "\n",
        ">```\n",
        "https://www.mayoclinic.org/diseases-conditions/cancer/diagnosis-treatment/drc-20370594\n",
        "```\n",
        "\n",
        "\n",
        "\n",
        "* **Breast Cancer:**\n",
        "\n",
        ">```\n",
        "https://www.cancer.org/cancer/types/breast-cancer/screening-tests-and-early-detection.html\n",
        "```\n",
        "\n",
        "\n",
        "\n",
        "\n"
      ],
      "metadata": {
        "id": "ES25Box0--7Z"
      }
    },
    {
      "cell_type": "code",
      "source": [
        "!curl -O \"https://raw.githubusercontent.com/Ashis-Palai/Cancer_Information_RAG_GenAI/main/helper.py\"\n"
      ],
      "metadata": {
        "id": "_-dW0Bbf4BEE"
      },
      "execution_count": null,
      "outputs": []
    },
    {
      "cell_type": "code",
      "source": [
        "all_url = [ 'https://www.cancer.org/cancer/types/breast-cancer/screening-tests-and-early-detection.html',\n",
        "'https://www.cancer.org/cancer/types/breast-cancer/screening-tests-and-early-detection/american-cancer-society-recommendations-for-the-early-detection-of-breast-cancer.html',\n",
        "'https://www.cancer.org/cancer/types/breast-cancer/screening-tests-and-early-detection/mammograms.html',\n",
        "'https://www.cancer.org/cancer/types/breast-cancer/screening-tests-and-early-detection/breast-ultrasound.html',\n",
        "'https://www.cancer.org/cancer/types/breast-cancer/screening-tests-and-early-detection/breast-mri-scans.html',\n",
        "'https://www.cancer.org/cancer/types/breast-cancer/screening-tests-and-early-detection/breast-cancer-signs-and-symptoms.html',\n",
        "'https://tmc.gov.in/ncg/docs/PDF/DraftGuidelines/Preventive/3_%20NCG_INDIA_Rev_Preventive%20Oncology_Primary_Care.pdf',\n",
        "'https://main.icmr.nic.in/sites/default/files/guidelines/Ovarian_Cancer.pdf'\n",
        "            ]"
      ],
      "metadata": {
        "id": "UrUQZmsDquJU"
      },
      "execution_count": 2,
      "outputs": []
    },
    {
      "cell_type": "code",
      "source": [
        "from helper import extract_headings_and_content"
      ],
      "metadata": {
        "id": "t41HJY5I4LgI"
      },
      "execution_count": 3,
      "outputs": []
    },
    {
      "cell_type": "code",
      "source": [
        "for i, url in enumerate(all_url, start=1):\n",
        "    result_message = extract_headings_and_content(url, i)\n",
        "    print(result_message)"
      ],
      "metadata": {
        "id": "ra4zIgYFnMZj",
        "colab": {
          "base_uri": "https://localhost:8080/"
        },
        "outputId": "ed959d63-939a-4a93-bd01-682af6df4bc9"
      },
      "execution_count": 4,
      "outputs": [
        {
          "output_type": "stream",
          "name": "stdout",
          "text": [
            "Extraction and saving successful for https://www.cancer.org/cancer/types/breast-cancer/screening-tests-and-early-detection.html. File saved as data/html_data/html_file_1.html\n",
            "Extraction and saving successful for https://www.cancer.org/cancer/types/breast-cancer/screening-tests-and-early-detection/american-cancer-society-recommendations-for-the-early-detection-of-breast-cancer.html. File saved as data/html_data/html_file_2.html\n",
            "Extraction and saving successful for https://www.cancer.org/cancer/types/breast-cancer/screening-tests-and-early-detection/mammograms.html. File saved as data/html_data/html_file_3.html\n",
            "Extraction and saving successful for https://www.cancer.org/cancer/types/breast-cancer/screening-tests-and-early-detection/breast-ultrasound.html. File saved as data/html_data/html_file_4.html\n",
            "Extraction and saving successful for https://www.cancer.org/cancer/types/breast-cancer/screening-tests-and-early-detection/breast-mri-scans.html. File saved as data/html_data/html_file_5.html\n",
            "Extraction and saving successful for https://www.cancer.org/cancer/types/breast-cancer/screening-tests-and-early-detection/breast-cancer-signs-and-symptoms.html. File saved as data/html_data/html_file_6.html\n",
            "Extraction and saving successful for https://tmc.gov.in/ncg/docs/PDF/DraftGuidelines/Preventive/3_%20NCG_INDIA_Rev_Preventive%20Oncology_Primary_Care.pdf. File saved as data/pdf_data/pdf_file_7.pdf\n",
            "Extraction and saving successful for https://main.icmr.nic.in/sites/default/files/guidelines/Ovarian_Cancer.pdf. File saved as data/pdf_data/pdf_file_8.pdf\n"
          ]
        }
      ]
    },
    {
      "cell_type": "markdown",
      "source": [
        "# **Data Transformation Using Langchain**"
      ],
      "metadata": {
        "id": "eO_38z9L82LS"
      }
    },
    {
      "cell_type": "code",
      "source": [
        "!pip install langchain"
      ],
      "metadata": {
        "id": "eHY4-YKqnMbk"
      },
      "execution_count": null,
      "outputs": []
    },
    {
      "cell_type": "code",
      "source": [],
      "metadata": {
        "id": "Xzc7Qj5oYBRL"
      },
      "execution_count": null,
      "outputs": []
    },
    {
      "cell_type": "code",
      "source": [],
      "metadata": {
        "id": "Arp8boOxvI_W"
      },
      "execution_count": null,
      "outputs": []
    },
    {
      "cell_type": "code",
      "source": [],
      "metadata": {
        "id": "KvsuUA4op8TZ"
      },
      "execution_count": null,
      "outputs": []
    }
  ]
}