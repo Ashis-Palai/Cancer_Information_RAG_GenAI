{
  "nbformat": 4,
  "nbformat_minor": 0,
  "metadata": {
    "colab": {
      "provenance": [],
      "collapsed_sections": [
        "eO_38z9L82LS",
        "iLnrF4ByeXq9",
        "oIzPgduJe9RS",
        "bFaqVR1aiNWc"
      ],
      "authorship_tag": "ABX9TyMQHWBjvW2LO21fyPocDNiB",
      "include_colab_link": true
    },
    "kernelspec": {
      "name": "python3",
      "display_name": "Python 3"
    },
    "language_info": {
      "name": "python"
    },
    "widgets": {
      "application/vnd.jupyter.widget-state+json": {
        "548b010fc5174571b635ebb112345081": {
          "model_module": "@jupyter-widgets/controls",
          "model_name": "HBoxModel",
          "model_module_version": "1.5.0",
          "state": {
            "_dom_classes": [],
            "_model_module": "@jupyter-widgets/controls",
            "_model_module_version": "1.5.0",
            "_model_name": "HBoxModel",
            "_view_count": null,
            "_view_module": "@jupyter-widgets/controls",
            "_view_module_version": "1.5.0",
            "_view_name": "HBoxView",
            "box_style": "",
            "children": [
              "IPY_MODEL_0a64c58d46fb4e9b9f22444823d3aa74",
              "IPY_MODEL_0e0c1270f6b748019a462123f77cd8bf",
              "IPY_MODEL_2a26c737a9524b948d2893ea2b30044b"
            ],
            "layout": "IPY_MODEL_2495643eb4204852aa3363ec870df1e3"
          }
        },
        "0a64c58d46fb4e9b9f22444823d3aa74": {
          "model_module": "@jupyter-widgets/controls",
          "model_name": "HTMLModel",
          "model_module_version": "1.5.0",
          "state": {
            "_dom_classes": [],
            "_model_module": "@jupyter-widgets/controls",
            "_model_module_version": "1.5.0",
            "_model_name": "HTMLModel",
            "_view_count": null,
            "_view_module": "@jupyter-widgets/controls",
            "_view_module_version": "1.5.0",
            "_view_name": "HTMLView",
            "description": "",
            "description_tooltip": null,
            "layout": "IPY_MODEL_8c4a52f6ace04529a1a3476d873efcd1",
            "placeholder": "​",
            "style": "IPY_MODEL_c54dc6c286df459d9f378315bbcfb218",
            "value": "modules.json: 100%"
          }
        },
        "0e0c1270f6b748019a462123f77cd8bf": {
          "model_module": "@jupyter-widgets/controls",
          "model_name": "FloatProgressModel",
          "model_module_version": "1.5.0",
          "state": {
            "_dom_classes": [],
            "_model_module": "@jupyter-widgets/controls",
            "_model_module_version": "1.5.0",
            "_model_name": "FloatProgressModel",
            "_view_count": null,
            "_view_module": "@jupyter-widgets/controls",
            "_view_module_version": "1.5.0",
            "_view_name": "ProgressView",
            "bar_style": "success",
            "description": "",
            "description_tooltip": null,
            "layout": "IPY_MODEL_17d66a44d4d14c0badac81e36d17a956",
            "max": 349,
            "min": 0,
            "orientation": "horizontal",
            "style": "IPY_MODEL_a9f9e87c32464ec6b06cae1e403c94b9",
            "value": 349
          }
        },
        "2a26c737a9524b948d2893ea2b30044b": {
          "model_module": "@jupyter-widgets/controls",
          "model_name": "HTMLModel",
          "model_module_version": "1.5.0",
          "state": {
            "_dom_classes": [],
            "_model_module": "@jupyter-widgets/controls",
            "_model_module_version": "1.5.0",
            "_model_name": "HTMLModel",
            "_view_count": null,
            "_view_module": "@jupyter-widgets/controls",
            "_view_module_version": "1.5.0",
            "_view_name": "HTMLView",
            "description": "",
            "description_tooltip": null,
            "layout": "IPY_MODEL_3bafa90963564f449731eab809bcd6e4",
            "placeholder": "​",
            "style": "IPY_MODEL_e34ef9a5aca743bdaf1d5f4a8655682f",
            "value": " 349/349 [00:00&lt;00:00, 13.7kB/s]"
          }
        },
        "2495643eb4204852aa3363ec870df1e3": {
          "model_module": "@jupyter-widgets/base",
          "model_name": "LayoutModel",
          "model_module_version": "1.2.0",
          "state": {
            "_model_module": "@jupyter-widgets/base",
            "_model_module_version": "1.2.0",
            "_model_name": "LayoutModel",
            "_view_count": null,
            "_view_module": "@jupyter-widgets/base",
            "_view_module_version": "1.2.0",
            "_view_name": "LayoutView",
            "align_content": null,
            "align_items": null,
            "align_self": null,
            "border": null,
            "bottom": null,
            "display": null,
            "flex": null,
            "flex_flow": null,
            "grid_area": null,
            "grid_auto_columns": null,
            "grid_auto_flow": null,
            "grid_auto_rows": null,
            "grid_column": null,
            "grid_gap": null,
            "grid_row": null,
            "grid_template_areas": null,
            "grid_template_columns": null,
            "grid_template_rows": null,
            "height": null,
            "justify_content": null,
            "justify_items": null,
            "left": null,
            "margin": null,
            "max_height": null,
            "max_width": null,
            "min_height": null,
            "min_width": null,
            "object_fit": null,
            "object_position": null,
            "order": null,
            "overflow": null,
            "overflow_x": null,
            "overflow_y": null,
            "padding": null,
            "right": null,
            "top": null,
            "visibility": null,
            "width": null
          }
        },
        "8c4a52f6ace04529a1a3476d873efcd1": {
          "model_module": "@jupyter-widgets/base",
          "model_name": "LayoutModel",
          "model_module_version": "1.2.0",
          "state": {
            "_model_module": "@jupyter-widgets/base",
            "_model_module_version": "1.2.0",
            "_model_name": "LayoutModel",
            "_view_count": null,
            "_view_module": "@jupyter-widgets/base",
            "_view_module_version": "1.2.0",
            "_view_name": "LayoutView",
            "align_content": null,
            "align_items": null,
            "align_self": null,
            "border": null,
            "bottom": null,
            "display": null,
            "flex": null,
            "flex_flow": null,
            "grid_area": null,
            "grid_auto_columns": null,
            "grid_auto_flow": null,
            "grid_auto_rows": null,
            "grid_column": null,
            "grid_gap": null,
            "grid_row": null,
            "grid_template_areas": null,
            "grid_template_columns": null,
            "grid_template_rows": null,
            "height": null,
            "justify_content": null,
            "justify_items": null,
            "left": null,
            "margin": null,
            "max_height": null,
            "max_width": null,
            "min_height": null,
            "min_width": null,
            "object_fit": null,
            "object_position": null,
            "order": null,
            "overflow": null,
            "overflow_x": null,
            "overflow_y": null,
            "padding": null,
            "right": null,
            "top": null,
            "visibility": null,
            "width": null
          }
        },
        "c54dc6c286df459d9f378315bbcfb218": {
          "model_module": "@jupyter-widgets/controls",
          "model_name": "DescriptionStyleModel",
          "model_module_version": "1.5.0",
          "state": {
            "_model_module": "@jupyter-widgets/controls",
            "_model_module_version": "1.5.0",
            "_model_name": "DescriptionStyleModel",
            "_view_count": null,
            "_view_module": "@jupyter-widgets/base",
            "_view_module_version": "1.2.0",
            "_view_name": "StyleView",
            "description_width": ""
          }
        },
        "17d66a44d4d14c0badac81e36d17a956": {
          "model_module": "@jupyter-widgets/base",
          "model_name": "LayoutModel",
          "model_module_version": "1.2.0",
          "state": {
            "_model_module": "@jupyter-widgets/base",
            "_model_module_version": "1.2.0",
            "_model_name": "LayoutModel",
            "_view_count": null,
            "_view_module": "@jupyter-widgets/base",
            "_view_module_version": "1.2.0",
            "_view_name": "LayoutView",
            "align_content": null,
            "align_items": null,
            "align_self": null,
            "border": null,
            "bottom": null,
            "display": null,
            "flex": null,
            "flex_flow": null,
            "grid_area": null,
            "grid_auto_columns": null,
            "grid_auto_flow": null,
            "grid_auto_rows": null,
            "grid_column": null,
            "grid_gap": null,
            "grid_row": null,
            "grid_template_areas": null,
            "grid_template_columns": null,
            "grid_template_rows": null,
            "height": null,
            "justify_content": null,
            "justify_items": null,
            "left": null,
            "margin": null,
            "max_height": null,
            "max_width": null,
            "min_height": null,
            "min_width": null,
            "object_fit": null,
            "object_position": null,
            "order": null,
            "overflow": null,
            "overflow_x": null,
            "overflow_y": null,
            "padding": null,
            "right": null,
            "top": null,
            "visibility": null,
            "width": null
          }
        },
        "a9f9e87c32464ec6b06cae1e403c94b9": {
          "model_module": "@jupyter-widgets/controls",
          "model_name": "ProgressStyleModel",
          "model_module_version": "1.5.0",
          "state": {
            "_model_module": "@jupyter-widgets/controls",
            "_model_module_version": "1.5.0",
            "_model_name": "ProgressStyleModel",
            "_view_count": null,
            "_view_module": "@jupyter-widgets/base",
            "_view_module_version": "1.2.0",
            "_view_name": "StyleView",
            "bar_color": null,
            "description_width": ""
          }
        },
        "3bafa90963564f449731eab809bcd6e4": {
          "model_module": "@jupyter-widgets/base",
          "model_name": "LayoutModel",
          "model_module_version": "1.2.0",
          "state": {
            "_model_module": "@jupyter-widgets/base",
            "_model_module_version": "1.2.0",
            "_model_name": "LayoutModel",
            "_view_count": null,
            "_view_module": "@jupyter-widgets/base",
            "_view_module_version": "1.2.0",
            "_view_name": "LayoutView",
            "align_content": null,
            "align_items": null,
            "align_self": null,
            "border": null,
            "bottom": null,
            "display": null,
            "flex": null,
            "flex_flow": null,
            "grid_area": null,
            "grid_auto_columns": null,
            "grid_auto_flow": null,
            "grid_auto_rows": null,
            "grid_column": null,
            "grid_gap": null,
            "grid_row": null,
            "grid_template_areas": null,
            "grid_template_columns": null,
            "grid_template_rows": null,
            "height": null,
            "justify_content": null,
            "justify_items": null,
            "left": null,
            "margin": null,
            "max_height": null,
            "max_width": null,
            "min_height": null,
            "min_width": null,
            "object_fit": null,
            "object_position": null,
            "order": null,
            "overflow": null,
            "overflow_x": null,
            "overflow_y": null,
            "padding": null,
            "right": null,
            "top": null,
            "visibility": null,
            "width": null
          }
        },
        "e34ef9a5aca743bdaf1d5f4a8655682f": {
          "model_module": "@jupyter-widgets/controls",
          "model_name": "DescriptionStyleModel",
          "model_module_version": "1.5.0",
          "state": {
            "_model_module": "@jupyter-widgets/controls",
            "_model_module_version": "1.5.0",
            "_model_name": "DescriptionStyleModel",
            "_view_count": null,
            "_view_module": "@jupyter-widgets/base",
            "_view_module_version": "1.2.0",
            "_view_name": "StyleView",
            "description_width": ""
          }
        },
        "d5912b9784e74f8c8df0ad1d8cffff52": {
          "model_module": "@jupyter-widgets/controls",
          "model_name": "HBoxModel",
          "model_module_version": "1.5.0",
          "state": {
            "_dom_classes": [],
            "_model_module": "@jupyter-widgets/controls",
            "_model_module_version": "1.5.0",
            "_model_name": "HBoxModel",
            "_view_count": null,
            "_view_module": "@jupyter-widgets/controls",
            "_view_module_version": "1.5.0",
            "_view_name": "HBoxView",
            "box_style": "",
            "children": [
              "IPY_MODEL_7338f51ee2744f8e90fad56574c516d1",
              "IPY_MODEL_5ca93de71b0243ff8c948f06314ca609",
              "IPY_MODEL_299b396b52fe4cb98dfd3f190b637600"
            ],
            "layout": "IPY_MODEL_08c63722354d45b28eb8c94adc0ede11"
          }
        },
        "7338f51ee2744f8e90fad56574c516d1": {
          "model_module": "@jupyter-widgets/controls",
          "model_name": "HTMLModel",
          "model_module_version": "1.5.0",
          "state": {
            "_dom_classes": [],
            "_model_module": "@jupyter-widgets/controls",
            "_model_module_version": "1.5.0",
            "_model_name": "HTMLModel",
            "_view_count": null,
            "_view_module": "@jupyter-widgets/controls",
            "_view_module_version": "1.5.0",
            "_view_name": "HTMLView",
            "description": "",
            "description_tooltip": null,
            "layout": "IPY_MODEL_2e10b5c4aea745cb9bbe931e726a32d3",
            "placeholder": "​",
            "style": "IPY_MODEL_f7445284f04149bbacf6bbe2db9a0a29",
            "value": "config_sentence_transformers.json: 100%"
          }
        },
        "5ca93de71b0243ff8c948f06314ca609": {
          "model_module": "@jupyter-widgets/controls",
          "model_name": "FloatProgressModel",
          "model_module_version": "1.5.0",
          "state": {
            "_dom_classes": [],
            "_model_module": "@jupyter-widgets/controls",
            "_model_module_version": "1.5.0",
            "_model_name": "FloatProgressModel",
            "_view_count": null,
            "_view_module": "@jupyter-widgets/controls",
            "_view_module_version": "1.5.0",
            "_view_name": "ProgressView",
            "bar_style": "success",
            "description": "",
            "description_tooltip": null,
            "layout": "IPY_MODEL_294b170a1d0d444db3384b7afc12605f",
            "max": 116,
            "min": 0,
            "orientation": "horizontal",
            "style": "IPY_MODEL_1628c25cc93c4134a46fc415c8410bf4",
            "value": 116
          }
        },
        "299b396b52fe4cb98dfd3f190b637600": {
          "model_module": "@jupyter-widgets/controls",
          "model_name": "HTMLModel",
          "model_module_version": "1.5.0",
          "state": {
            "_dom_classes": [],
            "_model_module": "@jupyter-widgets/controls",
            "_model_module_version": "1.5.0",
            "_model_name": "HTMLModel",
            "_view_count": null,
            "_view_module": "@jupyter-widgets/controls",
            "_view_module_version": "1.5.0",
            "_view_name": "HTMLView",
            "description": "",
            "description_tooltip": null,
            "layout": "IPY_MODEL_07f6b008344a4dd08bb8740994b0e4f3",
            "placeholder": "​",
            "style": "IPY_MODEL_7bf47da3f2e14b25848185230ddf8fdc",
            "value": " 116/116 [00:00&lt;00:00, 3.91kB/s]"
          }
        },
        "08c63722354d45b28eb8c94adc0ede11": {
          "model_module": "@jupyter-widgets/base",
          "model_name": "LayoutModel",
          "model_module_version": "1.2.0",
          "state": {
            "_model_module": "@jupyter-widgets/base",
            "_model_module_version": "1.2.0",
            "_model_name": "LayoutModel",
            "_view_count": null,
            "_view_module": "@jupyter-widgets/base",
            "_view_module_version": "1.2.0",
            "_view_name": "LayoutView",
            "align_content": null,
            "align_items": null,
            "align_self": null,
            "border": null,
            "bottom": null,
            "display": null,
            "flex": null,
            "flex_flow": null,
            "grid_area": null,
            "grid_auto_columns": null,
            "grid_auto_flow": null,
            "grid_auto_rows": null,
            "grid_column": null,
            "grid_gap": null,
            "grid_row": null,
            "grid_template_areas": null,
            "grid_template_columns": null,
            "grid_template_rows": null,
            "height": null,
            "justify_content": null,
            "justify_items": null,
            "left": null,
            "margin": null,
            "max_height": null,
            "max_width": null,
            "min_height": null,
            "min_width": null,
            "object_fit": null,
            "object_position": null,
            "order": null,
            "overflow": null,
            "overflow_x": null,
            "overflow_y": null,
            "padding": null,
            "right": null,
            "top": null,
            "visibility": null,
            "width": null
          }
        },
        "2e10b5c4aea745cb9bbe931e726a32d3": {
          "model_module": "@jupyter-widgets/base",
          "model_name": "LayoutModel",
          "model_module_version": "1.2.0",
          "state": {
            "_model_module": "@jupyter-widgets/base",
            "_model_module_version": "1.2.0",
            "_model_name": "LayoutModel",
            "_view_count": null,
            "_view_module": "@jupyter-widgets/base",
            "_view_module_version": "1.2.0",
            "_view_name": "LayoutView",
            "align_content": null,
            "align_items": null,
            "align_self": null,
            "border": null,
            "bottom": null,
            "display": null,
            "flex": null,
            "flex_flow": null,
            "grid_area": null,
            "grid_auto_columns": null,
            "grid_auto_flow": null,
            "grid_auto_rows": null,
            "grid_column": null,
            "grid_gap": null,
            "grid_row": null,
            "grid_template_areas": null,
            "grid_template_columns": null,
            "grid_template_rows": null,
            "height": null,
            "justify_content": null,
            "justify_items": null,
            "left": null,
            "margin": null,
            "max_height": null,
            "max_width": null,
            "min_height": null,
            "min_width": null,
            "object_fit": null,
            "object_position": null,
            "order": null,
            "overflow": null,
            "overflow_x": null,
            "overflow_y": null,
            "padding": null,
            "right": null,
            "top": null,
            "visibility": null,
            "width": null
          }
        },
        "f7445284f04149bbacf6bbe2db9a0a29": {
          "model_module": "@jupyter-widgets/controls",
          "model_name": "DescriptionStyleModel",
          "model_module_version": "1.5.0",
          "state": {
            "_model_module": "@jupyter-widgets/controls",
            "_model_module_version": "1.5.0",
            "_model_name": "DescriptionStyleModel",
            "_view_count": null,
            "_view_module": "@jupyter-widgets/base",
            "_view_module_version": "1.2.0",
            "_view_name": "StyleView",
            "description_width": ""
          }
        },
        "294b170a1d0d444db3384b7afc12605f": {
          "model_module": "@jupyter-widgets/base",
          "model_name": "LayoutModel",
          "model_module_version": "1.2.0",
          "state": {
            "_model_module": "@jupyter-widgets/base",
            "_model_module_version": "1.2.0",
            "_model_name": "LayoutModel",
            "_view_count": null,
            "_view_module": "@jupyter-widgets/base",
            "_view_module_version": "1.2.0",
            "_view_name": "LayoutView",
            "align_content": null,
            "align_items": null,
            "align_self": null,
            "border": null,
            "bottom": null,
            "display": null,
            "flex": null,
            "flex_flow": null,
            "grid_area": null,
            "grid_auto_columns": null,
            "grid_auto_flow": null,
            "grid_auto_rows": null,
            "grid_column": null,
            "grid_gap": null,
            "grid_row": null,
            "grid_template_areas": null,
            "grid_template_columns": null,
            "grid_template_rows": null,
            "height": null,
            "justify_content": null,
            "justify_items": null,
            "left": null,
            "margin": null,
            "max_height": null,
            "max_width": null,
            "min_height": null,
            "min_width": null,
            "object_fit": null,
            "object_position": null,
            "order": null,
            "overflow": null,
            "overflow_x": null,
            "overflow_y": null,
            "padding": null,
            "right": null,
            "top": null,
            "visibility": null,
            "width": null
          }
        },
        "1628c25cc93c4134a46fc415c8410bf4": {
          "model_module": "@jupyter-widgets/controls",
          "model_name": "ProgressStyleModel",
          "model_module_version": "1.5.0",
          "state": {
            "_model_module": "@jupyter-widgets/controls",
            "_model_module_version": "1.5.0",
            "_model_name": "ProgressStyleModel",
            "_view_count": null,
            "_view_module": "@jupyter-widgets/base",
            "_view_module_version": "1.2.0",
            "_view_name": "StyleView",
            "bar_color": null,
            "description_width": ""
          }
        },
        "07f6b008344a4dd08bb8740994b0e4f3": {
          "model_module": "@jupyter-widgets/base",
          "model_name": "LayoutModel",
          "model_module_version": "1.2.0",
          "state": {
            "_model_module": "@jupyter-widgets/base",
            "_model_module_version": "1.2.0",
            "_model_name": "LayoutModel",
            "_view_count": null,
            "_view_module": "@jupyter-widgets/base",
            "_view_module_version": "1.2.0",
            "_view_name": "LayoutView",
            "align_content": null,
            "align_items": null,
            "align_self": null,
            "border": null,
            "bottom": null,
            "display": null,
            "flex": null,
            "flex_flow": null,
            "grid_area": null,
            "grid_auto_columns": null,
            "grid_auto_flow": null,
            "grid_auto_rows": null,
            "grid_column": null,
            "grid_gap": null,
            "grid_row": null,
            "grid_template_areas": null,
            "grid_template_columns": null,
            "grid_template_rows": null,
            "height": null,
            "justify_content": null,
            "justify_items": null,
            "left": null,
            "margin": null,
            "max_height": null,
            "max_width": null,
            "min_height": null,
            "min_width": null,
            "object_fit": null,
            "object_position": null,
            "order": null,
            "overflow": null,
            "overflow_x": null,
            "overflow_y": null,
            "padding": null,
            "right": null,
            "top": null,
            "visibility": null,
            "width": null
          }
        },
        "7bf47da3f2e14b25848185230ddf8fdc": {
          "model_module": "@jupyter-widgets/controls",
          "model_name": "DescriptionStyleModel",
          "model_module_version": "1.5.0",
          "state": {
            "_model_module": "@jupyter-widgets/controls",
            "_model_module_version": "1.5.0",
            "_model_name": "DescriptionStyleModel",
            "_view_count": null,
            "_view_module": "@jupyter-widgets/base",
            "_view_module_version": "1.2.0",
            "_view_name": "StyleView",
            "description_width": ""
          }
        },
        "1035491b49944746892b5562d0650c9e": {
          "model_module": "@jupyter-widgets/controls",
          "model_name": "HBoxModel",
          "model_module_version": "1.5.0",
          "state": {
            "_dom_classes": [],
            "_model_module": "@jupyter-widgets/controls",
            "_model_module_version": "1.5.0",
            "_model_name": "HBoxModel",
            "_view_count": null,
            "_view_module": "@jupyter-widgets/controls",
            "_view_module_version": "1.5.0",
            "_view_name": "HBoxView",
            "box_style": "",
            "children": [
              "IPY_MODEL_e33ec1401ba04ee4b15caf9ffb727345",
              "IPY_MODEL_1ccd4da0f3ad42a2bfd79ab60edf0281",
              "IPY_MODEL_7a9a500b49fa40eeb29ea7ad2f42da66"
            ],
            "layout": "IPY_MODEL_0c8dd2deaa48464cabb27da5618ca069"
          }
        },
        "e33ec1401ba04ee4b15caf9ffb727345": {
          "model_module": "@jupyter-widgets/controls",
          "model_name": "HTMLModel",
          "model_module_version": "1.5.0",
          "state": {
            "_dom_classes": [],
            "_model_module": "@jupyter-widgets/controls",
            "_model_module_version": "1.5.0",
            "_model_name": "HTMLModel",
            "_view_count": null,
            "_view_module": "@jupyter-widgets/controls",
            "_view_module_version": "1.5.0",
            "_view_name": "HTMLView",
            "description": "",
            "description_tooltip": null,
            "layout": "IPY_MODEL_8ec819ab75f447cab46d666eba28d215",
            "placeholder": "​",
            "style": "IPY_MODEL_6b6bd2f0745443efb632cb10024390fc",
            "value": "README.md: 100%"
          }
        },
        "1ccd4da0f3ad42a2bfd79ab60edf0281": {
          "model_module": "@jupyter-widgets/controls",
          "model_name": "FloatProgressModel",
          "model_module_version": "1.5.0",
          "state": {
            "_dom_classes": [],
            "_model_module": "@jupyter-widgets/controls",
            "_model_module_version": "1.5.0",
            "_model_name": "FloatProgressModel",
            "_view_count": null,
            "_view_module": "@jupyter-widgets/controls",
            "_view_module_version": "1.5.0",
            "_view_name": "ProgressView",
            "bar_style": "success",
            "description": "",
            "description_tooltip": null,
            "layout": "IPY_MODEL_9a4fbf1a18de4ab5b6fd0522836e3b18",
            "max": 10621,
            "min": 0,
            "orientation": "horizontal",
            "style": "IPY_MODEL_5eaa0ba0e4bb4500ad4785b4e39c8477",
            "value": 10621
          }
        },
        "7a9a500b49fa40eeb29ea7ad2f42da66": {
          "model_module": "@jupyter-widgets/controls",
          "model_name": "HTMLModel",
          "model_module_version": "1.5.0",
          "state": {
            "_dom_classes": [],
            "_model_module": "@jupyter-widgets/controls",
            "_model_module_version": "1.5.0",
            "_model_name": "HTMLModel",
            "_view_count": null,
            "_view_module": "@jupyter-widgets/controls",
            "_view_module_version": "1.5.0",
            "_view_name": "HTMLView",
            "description": "",
            "description_tooltip": null,
            "layout": "IPY_MODEL_c3306b0f2bab4f039b19cb3800367055",
            "placeholder": "​",
            "style": "IPY_MODEL_65e63027610c4d24b56caa82d4cee2d0",
            "value": " 10.6k/10.6k [00:00&lt;00:00, 404kB/s]"
          }
        },
        "0c8dd2deaa48464cabb27da5618ca069": {
          "model_module": "@jupyter-widgets/base",
          "model_name": "LayoutModel",
          "model_module_version": "1.2.0",
          "state": {
            "_model_module": "@jupyter-widgets/base",
            "_model_module_version": "1.2.0",
            "_model_name": "LayoutModel",
            "_view_count": null,
            "_view_module": "@jupyter-widgets/base",
            "_view_module_version": "1.2.0",
            "_view_name": "LayoutView",
            "align_content": null,
            "align_items": null,
            "align_self": null,
            "border": null,
            "bottom": null,
            "display": null,
            "flex": null,
            "flex_flow": null,
            "grid_area": null,
            "grid_auto_columns": null,
            "grid_auto_flow": null,
            "grid_auto_rows": null,
            "grid_column": null,
            "grid_gap": null,
            "grid_row": null,
            "grid_template_areas": null,
            "grid_template_columns": null,
            "grid_template_rows": null,
            "height": null,
            "justify_content": null,
            "justify_items": null,
            "left": null,
            "margin": null,
            "max_height": null,
            "max_width": null,
            "min_height": null,
            "min_width": null,
            "object_fit": null,
            "object_position": null,
            "order": null,
            "overflow": null,
            "overflow_x": null,
            "overflow_y": null,
            "padding": null,
            "right": null,
            "top": null,
            "visibility": null,
            "width": null
          }
        },
        "8ec819ab75f447cab46d666eba28d215": {
          "model_module": "@jupyter-widgets/base",
          "model_name": "LayoutModel",
          "model_module_version": "1.2.0",
          "state": {
            "_model_module": "@jupyter-widgets/base",
            "_model_module_version": "1.2.0",
            "_model_name": "LayoutModel",
            "_view_count": null,
            "_view_module": "@jupyter-widgets/base",
            "_view_module_version": "1.2.0",
            "_view_name": "LayoutView",
            "align_content": null,
            "align_items": null,
            "align_self": null,
            "border": null,
            "bottom": null,
            "display": null,
            "flex": null,
            "flex_flow": null,
            "grid_area": null,
            "grid_auto_columns": null,
            "grid_auto_flow": null,
            "grid_auto_rows": null,
            "grid_column": null,
            "grid_gap": null,
            "grid_row": null,
            "grid_template_areas": null,
            "grid_template_columns": null,
            "grid_template_rows": null,
            "height": null,
            "justify_content": null,
            "justify_items": null,
            "left": null,
            "margin": null,
            "max_height": null,
            "max_width": null,
            "min_height": null,
            "min_width": null,
            "object_fit": null,
            "object_position": null,
            "order": null,
            "overflow": null,
            "overflow_x": null,
            "overflow_y": null,
            "padding": null,
            "right": null,
            "top": null,
            "visibility": null,
            "width": null
          }
        },
        "6b6bd2f0745443efb632cb10024390fc": {
          "model_module": "@jupyter-widgets/controls",
          "model_name": "DescriptionStyleModel",
          "model_module_version": "1.5.0",
          "state": {
            "_model_module": "@jupyter-widgets/controls",
            "_model_module_version": "1.5.0",
            "_model_name": "DescriptionStyleModel",
            "_view_count": null,
            "_view_module": "@jupyter-widgets/base",
            "_view_module_version": "1.2.0",
            "_view_name": "StyleView",
            "description_width": ""
          }
        },
        "9a4fbf1a18de4ab5b6fd0522836e3b18": {
          "model_module": "@jupyter-widgets/base",
          "model_name": "LayoutModel",
          "model_module_version": "1.2.0",
          "state": {
            "_model_module": "@jupyter-widgets/base",
            "_model_module_version": "1.2.0",
            "_model_name": "LayoutModel",
            "_view_count": null,
            "_view_module": "@jupyter-widgets/base",
            "_view_module_version": "1.2.0",
            "_view_name": "LayoutView",
            "align_content": null,
            "align_items": null,
            "align_self": null,
            "border": null,
            "bottom": null,
            "display": null,
            "flex": null,
            "flex_flow": null,
            "grid_area": null,
            "grid_auto_columns": null,
            "grid_auto_flow": null,
            "grid_auto_rows": null,
            "grid_column": null,
            "grid_gap": null,
            "grid_row": null,
            "grid_template_areas": null,
            "grid_template_columns": null,
            "grid_template_rows": null,
            "height": null,
            "justify_content": null,
            "justify_items": null,
            "left": null,
            "margin": null,
            "max_height": null,
            "max_width": null,
            "min_height": null,
            "min_width": null,
            "object_fit": null,
            "object_position": null,
            "order": null,
            "overflow": null,
            "overflow_x": null,
            "overflow_y": null,
            "padding": null,
            "right": null,
            "top": null,
            "visibility": null,
            "width": null
          }
        },
        "5eaa0ba0e4bb4500ad4785b4e39c8477": {
          "model_module": "@jupyter-widgets/controls",
          "model_name": "ProgressStyleModel",
          "model_module_version": "1.5.0",
          "state": {
            "_model_module": "@jupyter-widgets/controls",
            "_model_module_version": "1.5.0",
            "_model_name": "ProgressStyleModel",
            "_view_count": null,
            "_view_module": "@jupyter-widgets/base",
            "_view_module_version": "1.2.0",
            "_view_name": "StyleView",
            "bar_color": null,
            "description_width": ""
          }
        },
        "c3306b0f2bab4f039b19cb3800367055": {
          "model_module": "@jupyter-widgets/base",
          "model_name": "LayoutModel",
          "model_module_version": "1.2.0",
          "state": {
            "_model_module": "@jupyter-widgets/base",
            "_model_module_version": "1.2.0",
            "_model_name": "LayoutModel",
            "_view_count": null,
            "_view_module": "@jupyter-widgets/base",
            "_view_module_version": "1.2.0",
            "_view_name": "LayoutView",
            "align_content": null,
            "align_items": null,
            "align_self": null,
            "border": null,
            "bottom": null,
            "display": null,
            "flex": null,
            "flex_flow": null,
            "grid_area": null,
            "grid_auto_columns": null,
            "grid_auto_flow": null,
            "grid_auto_rows": null,
            "grid_column": null,
            "grid_gap": null,
            "grid_row": null,
            "grid_template_areas": null,
            "grid_template_columns": null,
            "grid_template_rows": null,
            "height": null,
            "justify_content": null,
            "justify_items": null,
            "left": null,
            "margin": null,
            "max_height": null,
            "max_width": null,
            "min_height": null,
            "min_width": null,
            "object_fit": null,
            "object_position": null,
            "order": null,
            "overflow": null,
            "overflow_x": null,
            "overflow_y": null,
            "padding": null,
            "right": null,
            "top": null,
            "visibility": null,
            "width": null
          }
        },
        "65e63027610c4d24b56caa82d4cee2d0": {
          "model_module": "@jupyter-widgets/controls",
          "model_name": "DescriptionStyleModel",
          "model_module_version": "1.5.0",
          "state": {
            "_model_module": "@jupyter-widgets/controls",
            "_model_module_version": "1.5.0",
            "_model_name": "DescriptionStyleModel",
            "_view_count": null,
            "_view_module": "@jupyter-widgets/base",
            "_view_module_version": "1.2.0",
            "_view_name": "StyleView",
            "description_width": ""
          }
        },
        "c2beb2cce1c74a42aa10b14521e9e6e1": {
          "model_module": "@jupyter-widgets/controls",
          "model_name": "HBoxModel",
          "model_module_version": "1.5.0",
          "state": {
            "_dom_classes": [],
            "_model_module": "@jupyter-widgets/controls",
            "_model_module_version": "1.5.0",
            "_model_name": "HBoxModel",
            "_view_count": null,
            "_view_module": "@jupyter-widgets/controls",
            "_view_module_version": "1.5.0",
            "_view_name": "HBoxView",
            "box_style": "",
            "children": [
              "IPY_MODEL_0be431fa74f6458bb9fe997e44762dea",
              "IPY_MODEL_5d7761d14fa34ce2a4a909e595360fc2",
              "IPY_MODEL_db42bbf2793f4f97be8da5284dc34033"
            ],
            "layout": "IPY_MODEL_329b1236ccd74c30b9571c0fec8fc7f6"
          }
        },
        "0be431fa74f6458bb9fe997e44762dea": {
          "model_module": "@jupyter-widgets/controls",
          "model_name": "HTMLModel",
          "model_module_version": "1.5.0",
          "state": {
            "_dom_classes": [],
            "_model_module": "@jupyter-widgets/controls",
            "_model_module_version": "1.5.0",
            "_model_name": "HTMLModel",
            "_view_count": null,
            "_view_module": "@jupyter-widgets/controls",
            "_view_module_version": "1.5.0",
            "_view_name": "HTMLView",
            "description": "",
            "description_tooltip": null,
            "layout": "IPY_MODEL_3acda4a9694f47d8a82a57a99176d5c9",
            "placeholder": "​",
            "style": "IPY_MODEL_98ad96a1c2b24d9cbea4b072a581488d",
            "value": "sentence_bert_config.json: 100%"
          }
        },
        "5d7761d14fa34ce2a4a909e595360fc2": {
          "model_module": "@jupyter-widgets/controls",
          "model_name": "FloatProgressModel",
          "model_module_version": "1.5.0",
          "state": {
            "_dom_classes": [],
            "_model_module": "@jupyter-widgets/controls",
            "_model_module_version": "1.5.0",
            "_model_name": "FloatProgressModel",
            "_view_count": null,
            "_view_module": "@jupyter-widgets/controls",
            "_view_module_version": "1.5.0",
            "_view_name": "ProgressView",
            "bar_style": "success",
            "description": "",
            "description_tooltip": null,
            "layout": "IPY_MODEL_05ca86e1f2554254a8b8791a171b23d3",
            "max": 53,
            "min": 0,
            "orientation": "horizontal",
            "style": "IPY_MODEL_08749f4aee5e472389fd9b4ec5ea8c03",
            "value": 53
          }
        },
        "db42bbf2793f4f97be8da5284dc34033": {
          "model_module": "@jupyter-widgets/controls",
          "model_name": "HTMLModel",
          "model_module_version": "1.5.0",
          "state": {
            "_dom_classes": [],
            "_model_module": "@jupyter-widgets/controls",
            "_model_module_version": "1.5.0",
            "_model_name": "HTMLModel",
            "_view_count": null,
            "_view_module": "@jupyter-widgets/controls",
            "_view_module_version": "1.5.0",
            "_view_name": "HTMLView",
            "description": "",
            "description_tooltip": null,
            "layout": "IPY_MODEL_696932830c3c4ce3822280ec1adb73ff",
            "placeholder": "​",
            "style": "IPY_MODEL_cd837cebdd9b4e559c39bfc63b28f8e9",
            "value": " 53.0/53.0 [00:00&lt;00:00, 2.20kB/s]"
          }
        },
        "329b1236ccd74c30b9571c0fec8fc7f6": {
          "model_module": "@jupyter-widgets/base",
          "model_name": "LayoutModel",
          "model_module_version": "1.2.0",
          "state": {
            "_model_module": "@jupyter-widgets/base",
            "_model_module_version": "1.2.0",
            "_model_name": "LayoutModel",
            "_view_count": null,
            "_view_module": "@jupyter-widgets/base",
            "_view_module_version": "1.2.0",
            "_view_name": "LayoutView",
            "align_content": null,
            "align_items": null,
            "align_self": null,
            "border": null,
            "bottom": null,
            "display": null,
            "flex": null,
            "flex_flow": null,
            "grid_area": null,
            "grid_auto_columns": null,
            "grid_auto_flow": null,
            "grid_auto_rows": null,
            "grid_column": null,
            "grid_gap": null,
            "grid_row": null,
            "grid_template_areas": null,
            "grid_template_columns": null,
            "grid_template_rows": null,
            "height": null,
            "justify_content": null,
            "justify_items": null,
            "left": null,
            "margin": null,
            "max_height": null,
            "max_width": null,
            "min_height": null,
            "min_width": null,
            "object_fit": null,
            "object_position": null,
            "order": null,
            "overflow": null,
            "overflow_x": null,
            "overflow_y": null,
            "padding": null,
            "right": null,
            "top": null,
            "visibility": null,
            "width": null
          }
        },
        "3acda4a9694f47d8a82a57a99176d5c9": {
          "model_module": "@jupyter-widgets/base",
          "model_name": "LayoutModel",
          "model_module_version": "1.2.0",
          "state": {
            "_model_module": "@jupyter-widgets/base",
            "_model_module_version": "1.2.0",
            "_model_name": "LayoutModel",
            "_view_count": null,
            "_view_module": "@jupyter-widgets/base",
            "_view_module_version": "1.2.0",
            "_view_name": "LayoutView",
            "align_content": null,
            "align_items": null,
            "align_self": null,
            "border": null,
            "bottom": null,
            "display": null,
            "flex": null,
            "flex_flow": null,
            "grid_area": null,
            "grid_auto_columns": null,
            "grid_auto_flow": null,
            "grid_auto_rows": null,
            "grid_column": null,
            "grid_gap": null,
            "grid_row": null,
            "grid_template_areas": null,
            "grid_template_columns": null,
            "grid_template_rows": null,
            "height": null,
            "justify_content": null,
            "justify_items": null,
            "left": null,
            "margin": null,
            "max_height": null,
            "max_width": null,
            "min_height": null,
            "min_width": null,
            "object_fit": null,
            "object_position": null,
            "order": null,
            "overflow": null,
            "overflow_x": null,
            "overflow_y": null,
            "padding": null,
            "right": null,
            "top": null,
            "visibility": null,
            "width": null
          }
        },
        "98ad96a1c2b24d9cbea4b072a581488d": {
          "model_module": "@jupyter-widgets/controls",
          "model_name": "DescriptionStyleModel",
          "model_module_version": "1.5.0",
          "state": {
            "_model_module": "@jupyter-widgets/controls",
            "_model_module_version": "1.5.0",
            "_model_name": "DescriptionStyleModel",
            "_view_count": null,
            "_view_module": "@jupyter-widgets/base",
            "_view_module_version": "1.2.0",
            "_view_name": "StyleView",
            "description_width": ""
          }
        },
        "05ca86e1f2554254a8b8791a171b23d3": {
          "model_module": "@jupyter-widgets/base",
          "model_name": "LayoutModel",
          "model_module_version": "1.2.0",
          "state": {
            "_model_module": "@jupyter-widgets/base",
            "_model_module_version": "1.2.0",
            "_model_name": "LayoutModel",
            "_view_count": null,
            "_view_module": "@jupyter-widgets/base",
            "_view_module_version": "1.2.0",
            "_view_name": "LayoutView",
            "align_content": null,
            "align_items": null,
            "align_self": null,
            "border": null,
            "bottom": null,
            "display": null,
            "flex": null,
            "flex_flow": null,
            "grid_area": null,
            "grid_auto_columns": null,
            "grid_auto_flow": null,
            "grid_auto_rows": null,
            "grid_column": null,
            "grid_gap": null,
            "grid_row": null,
            "grid_template_areas": null,
            "grid_template_columns": null,
            "grid_template_rows": null,
            "height": null,
            "justify_content": null,
            "justify_items": null,
            "left": null,
            "margin": null,
            "max_height": null,
            "max_width": null,
            "min_height": null,
            "min_width": null,
            "object_fit": null,
            "object_position": null,
            "order": null,
            "overflow": null,
            "overflow_x": null,
            "overflow_y": null,
            "padding": null,
            "right": null,
            "top": null,
            "visibility": null,
            "width": null
          }
        },
        "08749f4aee5e472389fd9b4ec5ea8c03": {
          "model_module": "@jupyter-widgets/controls",
          "model_name": "ProgressStyleModel",
          "model_module_version": "1.5.0",
          "state": {
            "_model_module": "@jupyter-widgets/controls",
            "_model_module_version": "1.5.0",
            "_model_name": "ProgressStyleModel",
            "_view_count": null,
            "_view_module": "@jupyter-widgets/base",
            "_view_module_version": "1.2.0",
            "_view_name": "StyleView",
            "bar_color": null,
            "description_width": ""
          }
        },
        "696932830c3c4ce3822280ec1adb73ff": {
          "model_module": "@jupyter-widgets/base",
          "model_name": "LayoutModel",
          "model_module_version": "1.2.0",
          "state": {
            "_model_module": "@jupyter-widgets/base",
            "_model_module_version": "1.2.0",
            "_model_name": "LayoutModel",
            "_view_count": null,
            "_view_module": "@jupyter-widgets/base",
            "_view_module_version": "1.2.0",
            "_view_name": "LayoutView",
            "align_content": null,
            "align_items": null,
            "align_self": null,
            "border": null,
            "bottom": null,
            "display": null,
            "flex": null,
            "flex_flow": null,
            "grid_area": null,
            "grid_auto_columns": null,
            "grid_auto_flow": null,
            "grid_auto_rows": null,
            "grid_column": null,
            "grid_gap": null,
            "grid_row": null,
            "grid_template_areas": null,
            "grid_template_columns": null,
            "grid_template_rows": null,
            "height": null,
            "justify_content": null,
            "justify_items": null,
            "left": null,
            "margin": null,
            "max_height": null,
            "max_width": null,
            "min_height": null,
            "min_width": null,
            "object_fit": null,
            "object_position": null,
            "order": null,
            "overflow": null,
            "overflow_x": null,
            "overflow_y": null,
            "padding": null,
            "right": null,
            "top": null,
            "visibility": null,
            "width": null
          }
        },
        "cd837cebdd9b4e559c39bfc63b28f8e9": {
          "model_module": "@jupyter-widgets/controls",
          "model_name": "DescriptionStyleModel",
          "model_module_version": "1.5.0",
          "state": {
            "_model_module": "@jupyter-widgets/controls",
            "_model_module_version": "1.5.0",
            "_model_name": "DescriptionStyleModel",
            "_view_count": null,
            "_view_module": "@jupyter-widgets/base",
            "_view_module_version": "1.2.0",
            "_view_name": "StyleView",
            "description_width": ""
          }
        },
        "6b34786095ba49f5a1de2ddedffb0c4c": {
          "model_module": "@jupyter-widgets/controls",
          "model_name": "HBoxModel",
          "model_module_version": "1.5.0",
          "state": {
            "_dom_classes": [],
            "_model_module": "@jupyter-widgets/controls",
            "_model_module_version": "1.5.0",
            "_model_name": "HBoxModel",
            "_view_count": null,
            "_view_module": "@jupyter-widgets/controls",
            "_view_module_version": "1.5.0",
            "_view_name": "HBoxView",
            "box_style": "",
            "children": [
              "IPY_MODEL_4cb7b2199691473ea2e0e8234b40f1d9",
              "IPY_MODEL_a936011cbb1347f087d92c7ba289935f",
              "IPY_MODEL_0c5c02142d5d40818103b6030e952ddc"
            ],
            "layout": "IPY_MODEL_d2ca135809954cae8eac124b8cf7d88a"
          }
        },
        "4cb7b2199691473ea2e0e8234b40f1d9": {
          "model_module": "@jupyter-widgets/controls",
          "model_name": "HTMLModel",
          "model_module_version": "1.5.0",
          "state": {
            "_dom_classes": [],
            "_model_module": "@jupyter-widgets/controls",
            "_model_module_version": "1.5.0",
            "_model_name": "HTMLModel",
            "_view_count": null,
            "_view_module": "@jupyter-widgets/controls",
            "_view_module_version": "1.5.0",
            "_view_name": "HTMLView",
            "description": "",
            "description_tooltip": null,
            "layout": "IPY_MODEL_3e4dc2be8a584195a79db22aa3b651a8",
            "placeholder": "​",
            "style": "IPY_MODEL_c89c4d27a94347a7aa38569690f5ce88",
            "value": "config.json: 100%"
          }
        },
        "a936011cbb1347f087d92c7ba289935f": {
          "model_module": "@jupyter-widgets/controls",
          "model_name": "FloatProgressModel",
          "model_module_version": "1.5.0",
          "state": {
            "_dom_classes": [],
            "_model_module": "@jupyter-widgets/controls",
            "_model_module_version": "1.5.0",
            "_model_name": "FloatProgressModel",
            "_view_count": null,
            "_view_module": "@jupyter-widgets/controls",
            "_view_module_version": "1.5.0",
            "_view_name": "ProgressView",
            "bar_style": "success",
            "description": "",
            "description_tooltip": null,
            "layout": "IPY_MODEL_b8de5876ff0844e9b138105ef30fff02",
            "max": 571,
            "min": 0,
            "orientation": "horizontal",
            "style": "IPY_MODEL_e17a7d78f3fa40b68bf86652e49b732e",
            "value": 571
          }
        },
        "0c5c02142d5d40818103b6030e952ddc": {
          "model_module": "@jupyter-widgets/controls",
          "model_name": "HTMLModel",
          "model_module_version": "1.5.0",
          "state": {
            "_dom_classes": [],
            "_model_module": "@jupyter-widgets/controls",
            "_model_module_version": "1.5.0",
            "_model_name": "HTMLModel",
            "_view_count": null,
            "_view_module": "@jupyter-widgets/controls",
            "_view_module_version": "1.5.0",
            "_view_name": "HTMLView",
            "description": "",
            "description_tooltip": null,
            "layout": "IPY_MODEL_a751b21320e74d069e96eeaf0d15cbc7",
            "placeholder": "​",
            "style": "IPY_MODEL_0ea967c0f1344bfb9d9ef1159cfafb9f",
            "value": " 571/571 [00:00&lt;00:00, 24.3kB/s]"
          }
        },
        "d2ca135809954cae8eac124b8cf7d88a": {
          "model_module": "@jupyter-widgets/base",
          "model_name": "LayoutModel",
          "model_module_version": "1.2.0",
          "state": {
            "_model_module": "@jupyter-widgets/base",
            "_model_module_version": "1.2.0",
            "_model_name": "LayoutModel",
            "_view_count": null,
            "_view_module": "@jupyter-widgets/base",
            "_view_module_version": "1.2.0",
            "_view_name": "LayoutView",
            "align_content": null,
            "align_items": null,
            "align_self": null,
            "border": null,
            "bottom": null,
            "display": null,
            "flex": null,
            "flex_flow": null,
            "grid_area": null,
            "grid_auto_columns": null,
            "grid_auto_flow": null,
            "grid_auto_rows": null,
            "grid_column": null,
            "grid_gap": null,
            "grid_row": null,
            "grid_template_areas": null,
            "grid_template_columns": null,
            "grid_template_rows": null,
            "height": null,
            "justify_content": null,
            "justify_items": null,
            "left": null,
            "margin": null,
            "max_height": null,
            "max_width": null,
            "min_height": null,
            "min_width": null,
            "object_fit": null,
            "object_position": null,
            "order": null,
            "overflow": null,
            "overflow_x": null,
            "overflow_y": null,
            "padding": null,
            "right": null,
            "top": null,
            "visibility": null,
            "width": null
          }
        },
        "3e4dc2be8a584195a79db22aa3b651a8": {
          "model_module": "@jupyter-widgets/base",
          "model_name": "LayoutModel",
          "model_module_version": "1.2.0",
          "state": {
            "_model_module": "@jupyter-widgets/base",
            "_model_module_version": "1.2.0",
            "_model_name": "LayoutModel",
            "_view_count": null,
            "_view_module": "@jupyter-widgets/base",
            "_view_module_version": "1.2.0",
            "_view_name": "LayoutView",
            "align_content": null,
            "align_items": null,
            "align_self": null,
            "border": null,
            "bottom": null,
            "display": null,
            "flex": null,
            "flex_flow": null,
            "grid_area": null,
            "grid_auto_columns": null,
            "grid_auto_flow": null,
            "grid_auto_rows": null,
            "grid_column": null,
            "grid_gap": null,
            "grid_row": null,
            "grid_template_areas": null,
            "grid_template_columns": null,
            "grid_template_rows": null,
            "height": null,
            "justify_content": null,
            "justify_items": null,
            "left": null,
            "margin": null,
            "max_height": null,
            "max_width": null,
            "min_height": null,
            "min_width": null,
            "object_fit": null,
            "object_position": null,
            "order": null,
            "overflow": null,
            "overflow_x": null,
            "overflow_y": null,
            "padding": null,
            "right": null,
            "top": null,
            "visibility": null,
            "width": null
          }
        },
        "c89c4d27a94347a7aa38569690f5ce88": {
          "model_module": "@jupyter-widgets/controls",
          "model_name": "DescriptionStyleModel",
          "model_module_version": "1.5.0",
          "state": {
            "_model_module": "@jupyter-widgets/controls",
            "_model_module_version": "1.5.0",
            "_model_name": "DescriptionStyleModel",
            "_view_count": null,
            "_view_module": "@jupyter-widgets/base",
            "_view_module_version": "1.2.0",
            "_view_name": "StyleView",
            "description_width": ""
          }
        },
        "b8de5876ff0844e9b138105ef30fff02": {
          "model_module": "@jupyter-widgets/base",
          "model_name": "LayoutModel",
          "model_module_version": "1.2.0",
          "state": {
            "_model_module": "@jupyter-widgets/base",
            "_model_module_version": "1.2.0",
            "_model_name": "LayoutModel",
            "_view_count": null,
            "_view_module": "@jupyter-widgets/base",
            "_view_module_version": "1.2.0",
            "_view_name": "LayoutView",
            "align_content": null,
            "align_items": null,
            "align_self": null,
            "border": null,
            "bottom": null,
            "display": null,
            "flex": null,
            "flex_flow": null,
            "grid_area": null,
            "grid_auto_columns": null,
            "grid_auto_flow": null,
            "grid_auto_rows": null,
            "grid_column": null,
            "grid_gap": null,
            "grid_row": null,
            "grid_template_areas": null,
            "grid_template_columns": null,
            "grid_template_rows": null,
            "height": null,
            "justify_content": null,
            "justify_items": null,
            "left": null,
            "margin": null,
            "max_height": null,
            "max_width": null,
            "min_height": null,
            "min_width": null,
            "object_fit": null,
            "object_position": null,
            "order": null,
            "overflow": null,
            "overflow_x": null,
            "overflow_y": null,
            "padding": null,
            "right": null,
            "top": null,
            "visibility": null,
            "width": null
          }
        },
        "e17a7d78f3fa40b68bf86652e49b732e": {
          "model_module": "@jupyter-widgets/controls",
          "model_name": "ProgressStyleModel",
          "model_module_version": "1.5.0",
          "state": {
            "_model_module": "@jupyter-widgets/controls",
            "_model_module_version": "1.5.0",
            "_model_name": "ProgressStyleModel",
            "_view_count": null,
            "_view_module": "@jupyter-widgets/base",
            "_view_module_version": "1.2.0",
            "_view_name": "StyleView",
            "bar_color": null,
            "description_width": ""
          }
        },
        "a751b21320e74d069e96eeaf0d15cbc7": {
          "model_module": "@jupyter-widgets/base",
          "model_name": "LayoutModel",
          "model_module_version": "1.2.0",
          "state": {
            "_model_module": "@jupyter-widgets/base",
            "_model_module_version": "1.2.0",
            "_model_name": "LayoutModel",
            "_view_count": null,
            "_view_module": "@jupyter-widgets/base",
            "_view_module_version": "1.2.0",
            "_view_name": "LayoutView",
            "align_content": null,
            "align_items": null,
            "align_self": null,
            "border": null,
            "bottom": null,
            "display": null,
            "flex": null,
            "flex_flow": null,
            "grid_area": null,
            "grid_auto_columns": null,
            "grid_auto_flow": null,
            "grid_auto_rows": null,
            "grid_column": null,
            "grid_gap": null,
            "grid_row": null,
            "grid_template_areas": null,
            "grid_template_columns": null,
            "grid_template_rows": null,
            "height": null,
            "justify_content": null,
            "justify_items": null,
            "left": null,
            "margin": null,
            "max_height": null,
            "max_width": null,
            "min_height": null,
            "min_width": null,
            "object_fit": null,
            "object_position": null,
            "order": null,
            "overflow": null,
            "overflow_x": null,
            "overflow_y": null,
            "padding": null,
            "right": null,
            "top": null,
            "visibility": null,
            "width": null
          }
        },
        "0ea967c0f1344bfb9d9ef1159cfafb9f": {
          "model_module": "@jupyter-widgets/controls",
          "model_name": "DescriptionStyleModel",
          "model_module_version": "1.5.0",
          "state": {
            "_model_module": "@jupyter-widgets/controls",
            "_model_module_version": "1.5.0",
            "_model_name": "DescriptionStyleModel",
            "_view_count": null,
            "_view_module": "@jupyter-widgets/base",
            "_view_module_version": "1.2.0",
            "_view_name": "StyleView",
            "description_width": ""
          }
        },
        "149a3fb0821f46c5a4677971a59f1e0e": {
          "model_module": "@jupyter-widgets/controls",
          "model_name": "HBoxModel",
          "model_module_version": "1.5.0",
          "state": {
            "_dom_classes": [],
            "_model_module": "@jupyter-widgets/controls",
            "_model_module_version": "1.5.0",
            "_model_name": "HBoxModel",
            "_view_count": null,
            "_view_module": "@jupyter-widgets/controls",
            "_view_module_version": "1.5.0",
            "_view_name": "HBoxView",
            "box_style": "",
            "children": [
              "IPY_MODEL_7a841f4325364b81b016eb3ba4b6b053",
              "IPY_MODEL_a987ada5112a43ea85506db077fefe2f",
              "IPY_MODEL_ac430c7fa42a4fcc84f3136ca9475112"
            ],
            "layout": "IPY_MODEL_4f5f079f1880446c8bbced87be940d5f"
          }
        },
        "7a841f4325364b81b016eb3ba4b6b053": {
          "model_module": "@jupyter-widgets/controls",
          "model_name": "HTMLModel",
          "model_module_version": "1.5.0",
          "state": {
            "_dom_classes": [],
            "_model_module": "@jupyter-widgets/controls",
            "_model_module_version": "1.5.0",
            "_model_name": "HTMLModel",
            "_view_count": null,
            "_view_module": "@jupyter-widgets/controls",
            "_view_module_version": "1.5.0",
            "_view_name": "HTMLView",
            "description": "",
            "description_tooltip": null,
            "layout": "IPY_MODEL_91916ae155364fa890277239996bdae6",
            "placeholder": "​",
            "style": "IPY_MODEL_fcb9a9e44fee4a4b9a21063ab7dff373",
            "value": "pytorch_model.bin: 100%"
          }
        },
        "a987ada5112a43ea85506db077fefe2f": {
          "model_module": "@jupyter-widgets/controls",
          "model_name": "FloatProgressModel",
          "model_module_version": "1.5.0",
          "state": {
            "_dom_classes": [],
            "_model_module": "@jupyter-widgets/controls",
            "_model_module_version": "1.5.0",
            "_model_name": "FloatProgressModel",
            "_view_count": null,
            "_view_module": "@jupyter-widgets/controls",
            "_view_module_version": "1.5.0",
            "_view_name": "ProgressView",
            "bar_style": "success",
            "description": "",
            "description_tooltip": null,
            "layout": "IPY_MODEL_4d4d021924554b6398798dc6df373fef",
            "max": 438011953,
            "min": 0,
            "orientation": "horizontal",
            "style": "IPY_MODEL_81bb88bf64364be1b5375f7a9ba3d9b4",
            "value": 438011953
          }
        },
        "ac430c7fa42a4fcc84f3136ca9475112": {
          "model_module": "@jupyter-widgets/controls",
          "model_name": "HTMLModel",
          "model_module_version": "1.5.0",
          "state": {
            "_dom_classes": [],
            "_model_module": "@jupyter-widgets/controls",
            "_model_module_version": "1.5.0",
            "_model_name": "HTMLModel",
            "_view_count": null,
            "_view_module": "@jupyter-widgets/controls",
            "_view_module_version": "1.5.0",
            "_view_name": "HTMLView",
            "description": "",
            "description_tooltip": null,
            "layout": "IPY_MODEL_ed5cd7fa870d48d6b4e53950ab9fb671",
            "placeholder": "​",
            "style": "IPY_MODEL_d7eb655949fa4f8885cdffd53fb4df55",
            "value": " 438M/438M [00:02&lt;00:00, 219MB/s]"
          }
        },
        "4f5f079f1880446c8bbced87be940d5f": {
          "model_module": "@jupyter-widgets/base",
          "model_name": "LayoutModel",
          "model_module_version": "1.2.0",
          "state": {
            "_model_module": "@jupyter-widgets/base",
            "_model_module_version": "1.2.0",
            "_model_name": "LayoutModel",
            "_view_count": null,
            "_view_module": "@jupyter-widgets/base",
            "_view_module_version": "1.2.0",
            "_view_name": "LayoutView",
            "align_content": null,
            "align_items": null,
            "align_self": null,
            "border": null,
            "bottom": null,
            "display": null,
            "flex": null,
            "flex_flow": null,
            "grid_area": null,
            "grid_auto_columns": null,
            "grid_auto_flow": null,
            "grid_auto_rows": null,
            "grid_column": null,
            "grid_gap": null,
            "grid_row": null,
            "grid_template_areas": null,
            "grid_template_columns": null,
            "grid_template_rows": null,
            "height": null,
            "justify_content": null,
            "justify_items": null,
            "left": null,
            "margin": null,
            "max_height": null,
            "max_width": null,
            "min_height": null,
            "min_width": null,
            "object_fit": null,
            "object_position": null,
            "order": null,
            "overflow": null,
            "overflow_x": null,
            "overflow_y": null,
            "padding": null,
            "right": null,
            "top": null,
            "visibility": null,
            "width": null
          }
        },
        "91916ae155364fa890277239996bdae6": {
          "model_module": "@jupyter-widgets/base",
          "model_name": "LayoutModel",
          "model_module_version": "1.2.0",
          "state": {
            "_model_module": "@jupyter-widgets/base",
            "_model_module_version": "1.2.0",
            "_model_name": "LayoutModel",
            "_view_count": null,
            "_view_module": "@jupyter-widgets/base",
            "_view_module_version": "1.2.0",
            "_view_name": "LayoutView",
            "align_content": null,
            "align_items": null,
            "align_self": null,
            "border": null,
            "bottom": null,
            "display": null,
            "flex": null,
            "flex_flow": null,
            "grid_area": null,
            "grid_auto_columns": null,
            "grid_auto_flow": null,
            "grid_auto_rows": null,
            "grid_column": null,
            "grid_gap": null,
            "grid_row": null,
            "grid_template_areas": null,
            "grid_template_columns": null,
            "grid_template_rows": null,
            "height": null,
            "justify_content": null,
            "justify_items": null,
            "left": null,
            "margin": null,
            "max_height": null,
            "max_width": null,
            "min_height": null,
            "min_width": null,
            "object_fit": null,
            "object_position": null,
            "order": null,
            "overflow": null,
            "overflow_x": null,
            "overflow_y": null,
            "padding": null,
            "right": null,
            "top": null,
            "visibility": null,
            "width": null
          }
        },
        "fcb9a9e44fee4a4b9a21063ab7dff373": {
          "model_module": "@jupyter-widgets/controls",
          "model_name": "DescriptionStyleModel",
          "model_module_version": "1.5.0",
          "state": {
            "_model_module": "@jupyter-widgets/controls",
            "_model_module_version": "1.5.0",
            "_model_name": "DescriptionStyleModel",
            "_view_count": null,
            "_view_module": "@jupyter-widgets/base",
            "_view_module_version": "1.2.0",
            "_view_name": "StyleView",
            "description_width": ""
          }
        },
        "4d4d021924554b6398798dc6df373fef": {
          "model_module": "@jupyter-widgets/base",
          "model_name": "LayoutModel",
          "model_module_version": "1.2.0",
          "state": {
            "_model_module": "@jupyter-widgets/base",
            "_model_module_version": "1.2.0",
            "_model_name": "LayoutModel",
            "_view_count": null,
            "_view_module": "@jupyter-widgets/base",
            "_view_module_version": "1.2.0",
            "_view_name": "LayoutView",
            "align_content": null,
            "align_items": null,
            "align_self": null,
            "border": null,
            "bottom": null,
            "display": null,
            "flex": null,
            "flex_flow": null,
            "grid_area": null,
            "grid_auto_columns": null,
            "grid_auto_flow": null,
            "grid_auto_rows": null,
            "grid_column": null,
            "grid_gap": null,
            "grid_row": null,
            "grid_template_areas": null,
            "grid_template_columns": null,
            "grid_template_rows": null,
            "height": null,
            "justify_content": null,
            "justify_items": null,
            "left": null,
            "margin": null,
            "max_height": null,
            "max_width": null,
            "min_height": null,
            "min_width": null,
            "object_fit": null,
            "object_position": null,
            "order": null,
            "overflow": null,
            "overflow_x": null,
            "overflow_y": null,
            "padding": null,
            "right": null,
            "top": null,
            "visibility": null,
            "width": null
          }
        },
        "81bb88bf64364be1b5375f7a9ba3d9b4": {
          "model_module": "@jupyter-widgets/controls",
          "model_name": "ProgressStyleModel",
          "model_module_version": "1.5.0",
          "state": {
            "_model_module": "@jupyter-widgets/controls",
            "_model_module_version": "1.5.0",
            "_model_name": "ProgressStyleModel",
            "_view_count": null,
            "_view_module": "@jupyter-widgets/base",
            "_view_module_version": "1.2.0",
            "_view_name": "StyleView",
            "bar_color": null,
            "description_width": ""
          }
        },
        "ed5cd7fa870d48d6b4e53950ab9fb671": {
          "model_module": "@jupyter-widgets/base",
          "model_name": "LayoutModel",
          "model_module_version": "1.2.0",
          "state": {
            "_model_module": "@jupyter-widgets/base",
            "_model_module_version": "1.2.0",
            "_model_name": "LayoutModel",
            "_view_count": null,
            "_view_module": "@jupyter-widgets/base",
            "_view_module_version": "1.2.0",
            "_view_name": "LayoutView",
            "align_content": null,
            "align_items": null,
            "align_self": null,
            "border": null,
            "bottom": null,
            "display": null,
            "flex": null,
            "flex_flow": null,
            "grid_area": null,
            "grid_auto_columns": null,
            "grid_auto_flow": null,
            "grid_auto_rows": null,
            "grid_column": null,
            "grid_gap": null,
            "grid_row": null,
            "grid_template_areas": null,
            "grid_template_columns": null,
            "grid_template_rows": null,
            "height": null,
            "justify_content": null,
            "justify_items": null,
            "left": null,
            "margin": null,
            "max_height": null,
            "max_width": null,
            "min_height": null,
            "min_width": null,
            "object_fit": null,
            "object_position": null,
            "order": null,
            "overflow": null,
            "overflow_x": null,
            "overflow_y": null,
            "padding": null,
            "right": null,
            "top": null,
            "visibility": null,
            "width": null
          }
        },
        "d7eb655949fa4f8885cdffd53fb4df55": {
          "model_module": "@jupyter-widgets/controls",
          "model_name": "DescriptionStyleModel",
          "model_module_version": "1.5.0",
          "state": {
            "_model_module": "@jupyter-widgets/controls",
            "_model_module_version": "1.5.0",
            "_model_name": "DescriptionStyleModel",
            "_view_count": null,
            "_view_module": "@jupyter-widgets/base",
            "_view_module_version": "1.2.0",
            "_view_name": "StyleView",
            "description_width": ""
          }
        },
        "cd91773e6c034841a9ded76a6b05edda": {
          "model_module": "@jupyter-widgets/controls",
          "model_name": "HBoxModel",
          "model_module_version": "1.5.0",
          "state": {
            "_dom_classes": [],
            "_model_module": "@jupyter-widgets/controls",
            "_model_module_version": "1.5.0",
            "_model_name": "HBoxModel",
            "_view_count": null,
            "_view_module": "@jupyter-widgets/controls",
            "_view_module_version": "1.5.0",
            "_view_name": "HBoxView",
            "box_style": "",
            "children": [
              "IPY_MODEL_9e54759697dd489e999e18bd9888c4b9",
              "IPY_MODEL_a84553e37788485f9b2bf0e8718574c8",
              "IPY_MODEL_afb7d5700f7d4cab817aa7bb51917228"
            ],
            "layout": "IPY_MODEL_2146266d696c48eca4d8ad69b7d99fdd"
          }
        },
        "9e54759697dd489e999e18bd9888c4b9": {
          "model_module": "@jupyter-widgets/controls",
          "model_name": "HTMLModel",
          "model_module_version": "1.5.0",
          "state": {
            "_dom_classes": [],
            "_model_module": "@jupyter-widgets/controls",
            "_model_module_version": "1.5.0",
            "_model_name": "HTMLModel",
            "_view_count": null,
            "_view_module": "@jupyter-widgets/controls",
            "_view_module_version": "1.5.0",
            "_view_name": "HTMLView",
            "description": "",
            "description_tooltip": null,
            "layout": "IPY_MODEL_eeb4f9c6537a44b28007a6cf36019bbf",
            "placeholder": "​",
            "style": "IPY_MODEL_403e931a27a6456d9dd9dfc91949857c",
            "value": "tokenizer_config.json: 100%"
          }
        },
        "a84553e37788485f9b2bf0e8718574c8": {
          "model_module": "@jupyter-widgets/controls",
          "model_name": "FloatProgressModel",
          "model_module_version": "1.5.0",
          "state": {
            "_dom_classes": [],
            "_model_module": "@jupyter-widgets/controls",
            "_model_module_version": "1.5.0",
            "_model_name": "FloatProgressModel",
            "_view_count": null,
            "_view_module": "@jupyter-widgets/controls",
            "_view_module_version": "1.5.0",
            "_view_name": "ProgressView",
            "bar_style": "success",
            "description": "",
            "description_tooltip": null,
            "layout": "IPY_MODEL_f593c95eb5cc466dbc58972e10736b9b",
            "max": 363,
            "min": 0,
            "orientation": "horizontal",
            "style": "IPY_MODEL_5dfbcfb07b7e41908abf4e56c4c72bd2",
            "value": 363
          }
        },
        "afb7d5700f7d4cab817aa7bb51917228": {
          "model_module": "@jupyter-widgets/controls",
          "model_name": "HTMLModel",
          "model_module_version": "1.5.0",
          "state": {
            "_dom_classes": [],
            "_model_module": "@jupyter-widgets/controls",
            "_model_module_version": "1.5.0",
            "_model_name": "HTMLModel",
            "_view_count": null,
            "_view_module": "@jupyter-widgets/controls",
            "_view_module_version": "1.5.0",
            "_view_name": "HTMLView",
            "description": "",
            "description_tooltip": null,
            "layout": "IPY_MODEL_61b6460acc634ee5b5f9520737cc3532",
            "placeholder": "​",
            "style": "IPY_MODEL_2a419c273c44484eb17ef500993d1bdb",
            "value": " 363/363 [00:00&lt;00:00, 14.3kB/s]"
          }
        },
        "2146266d696c48eca4d8ad69b7d99fdd": {
          "model_module": "@jupyter-widgets/base",
          "model_name": "LayoutModel",
          "model_module_version": "1.2.0",
          "state": {
            "_model_module": "@jupyter-widgets/base",
            "_model_module_version": "1.2.0",
            "_model_name": "LayoutModel",
            "_view_count": null,
            "_view_module": "@jupyter-widgets/base",
            "_view_module_version": "1.2.0",
            "_view_name": "LayoutView",
            "align_content": null,
            "align_items": null,
            "align_self": null,
            "border": null,
            "bottom": null,
            "display": null,
            "flex": null,
            "flex_flow": null,
            "grid_area": null,
            "grid_auto_columns": null,
            "grid_auto_flow": null,
            "grid_auto_rows": null,
            "grid_column": null,
            "grid_gap": null,
            "grid_row": null,
            "grid_template_areas": null,
            "grid_template_columns": null,
            "grid_template_rows": null,
            "height": null,
            "justify_content": null,
            "justify_items": null,
            "left": null,
            "margin": null,
            "max_height": null,
            "max_width": null,
            "min_height": null,
            "min_width": null,
            "object_fit": null,
            "object_position": null,
            "order": null,
            "overflow": null,
            "overflow_x": null,
            "overflow_y": null,
            "padding": null,
            "right": null,
            "top": null,
            "visibility": null,
            "width": null
          }
        },
        "eeb4f9c6537a44b28007a6cf36019bbf": {
          "model_module": "@jupyter-widgets/base",
          "model_name": "LayoutModel",
          "model_module_version": "1.2.0",
          "state": {
            "_model_module": "@jupyter-widgets/base",
            "_model_module_version": "1.2.0",
            "_model_name": "LayoutModel",
            "_view_count": null,
            "_view_module": "@jupyter-widgets/base",
            "_view_module_version": "1.2.0",
            "_view_name": "LayoutView",
            "align_content": null,
            "align_items": null,
            "align_self": null,
            "border": null,
            "bottom": null,
            "display": null,
            "flex": null,
            "flex_flow": null,
            "grid_area": null,
            "grid_auto_columns": null,
            "grid_auto_flow": null,
            "grid_auto_rows": null,
            "grid_column": null,
            "grid_gap": null,
            "grid_row": null,
            "grid_template_areas": null,
            "grid_template_columns": null,
            "grid_template_rows": null,
            "height": null,
            "justify_content": null,
            "justify_items": null,
            "left": null,
            "margin": null,
            "max_height": null,
            "max_width": null,
            "min_height": null,
            "min_width": null,
            "object_fit": null,
            "object_position": null,
            "order": null,
            "overflow": null,
            "overflow_x": null,
            "overflow_y": null,
            "padding": null,
            "right": null,
            "top": null,
            "visibility": null,
            "width": null
          }
        },
        "403e931a27a6456d9dd9dfc91949857c": {
          "model_module": "@jupyter-widgets/controls",
          "model_name": "DescriptionStyleModel",
          "model_module_version": "1.5.0",
          "state": {
            "_model_module": "@jupyter-widgets/controls",
            "_model_module_version": "1.5.0",
            "_model_name": "DescriptionStyleModel",
            "_view_count": null,
            "_view_module": "@jupyter-widgets/base",
            "_view_module_version": "1.2.0",
            "_view_name": "StyleView",
            "description_width": ""
          }
        },
        "f593c95eb5cc466dbc58972e10736b9b": {
          "model_module": "@jupyter-widgets/base",
          "model_name": "LayoutModel",
          "model_module_version": "1.2.0",
          "state": {
            "_model_module": "@jupyter-widgets/base",
            "_model_module_version": "1.2.0",
            "_model_name": "LayoutModel",
            "_view_count": null,
            "_view_module": "@jupyter-widgets/base",
            "_view_module_version": "1.2.0",
            "_view_name": "LayoutView",
            "align_content": null,
            "align_items": null,
            "align_self": null,
            "border": null,
            "bottom": null,
            "display": null,
            "flex": null,
            "flex_flow": null,
            "grid_area": null,
            "grid_auto_columns": null,
            "grid_auto_flow": null,
            "grid_auto_rows": null,
            "grid_column": null,
            "grid_gap": null,
            "grid_row": null,
            "grid_template_areas": null,
            "grid_template_columns": null,
            "grid_template_rows": null,
            "height": null,
            "justify_content": null,
            "justify_items": null,
            "left": null,
            "margin": null,
            "max_height": null,
            "max_width": null,
            "min_height": null,
            "min_width": null,
            "object_fit": null,
            "object_position": null,
            "order": null,
            "overflow": null,
            "overflow_x": null,
            "overflow_y": null,
            "padding": null,
            "right": null,
            "top": null,
            "visibility": null,
            "width": null
          }
        },
        "5dfbcfb07b7e41908abf4e56c4c72bd2": {
          "model_module": "@jupyter-widgets/controls",
          "model_name": "ProgressStyleModel",
          "model_module_version": "1.5.0",
          "state": {
            "_model_module": "@jupyter-widgets/controls",
            "_model_module_version": "1.5.0",
            "_model_name": "ProgressStyleModel",
            "_view_count": null,
            "_view_module": "@jupyter-widgets/base",
            "_view_module_version": "1.2.0",
            "_view_name": "StyleView",
            "bar_color": null,
            "description_width": ""
          }
        },
        "61b6460acc634ee5b5f9520737cc3532": {
          "model_module": "@jupyter-widgets/base",
          "model_name": "LayoutModel",
          "model_module_version": "1.2.0",
          "state": {
            "_model_module": "@jupyter-widgets/base",
            "_model_module_version": "1.2.0",
            "_model_name": "LayoutModel",
            "_view_count": null,
            "_view_module": "@jupyter-widgets/base",
            "_view_module_version": "1.2.0",
            "_view_name": "LayoutView",
            "align_content": null,
            "align_items": null,
            "align_self": null,
            "border": null,
            "bottom": null,
            "display": null,
            "flex": null,
            "flex_flow": null,
            "grid_area": null,
            "grid_auto_columns": null,
            "grid_auto_flow": null,
            "grid_auto_rows": null,
            "grid_column": null,
            "grid_gap": null,
            "grid_row": null,
            "grid_template_areas": null,
            "grid_template_columns": null,
            "grid_template_rows": null,
            "height": null,
            "justify_content": null,
            "justify_items": null,
            "left": null,
            "margin": null,
            "max_height": null,
            "max_width": null,
            "min_height": null,
            "min_width": null,
            "object_fit": null,
            "object_position": null,
            "order": null,
            "overflow": null,
            "overflow_x": null,
            "overflow_y": null,
            "padding": null,
            "right": null,
            "top": null,
            "visibility": null,
            "width": null
          }
        },
        "2a419c273c44484eb17ef500993d1bdb": {
          "model_module": "@jupyter-widgets/controls",
          "model_name": "DescriptionStyleModel",
          "model_module_version": "1.5.0",
          "state": {
            "_model_module": "@jupyter-widgets/controls",
            "_model_module_version": "1.5.0",
            "_model_name": "DescriptionStyleModel",
            "_view_count": null,
            "_view_module": "@jupyter-widgets/base",
            "_view_module_version": "1.2.0",
            "_view_name": "StyleView",
            "description_width": ""
          }
        },
        "798b9a6644794b2385b9f19c0f2e8915": {
          "model_module": "@jupyter-widgets/controls",
          "model_name": "HBoxModel",
          "model_module_version": "1.5.0",
          "state": {
            "_dom_classes": [],
            "_model_module": "@jupyter-widgets/controls",
            "_model_module_version": "1.5.0",
            "_model_name": "HBoxModel",
            "_view_count": null,
            "_view_module": "@jupyter-widgets/controls",
            "_view_module_version": "1.5.0",
            "_view_name": "HBoxView",
            "box_style": "",
            "children": [
              "IPY_MODEL_cdabad15d185460db3661cdf27a02bed",
              "IPY_MODEL_e862f127c8554325bfdd06a1cb7c49e3",
              "IPY_MODEL_2d1ad13fbf8f46aebc27617f42807f76"
            ],
            "layout": "IPY_MODEL_ee2bc14778f945b8942576702b07e4d8"
          }
        },
        "cdabad15d185460db3661cdf27a02bed": {
          "model_module": "@jupyter-widgets/controls",
          "model_name": "HTMLModel",
          "model_module_version": "1.5.0",
          "state": {
            "_dom_classes": [],
            "_model_module": "@jupyter-widgets/controls",
            "_model_module_version": "1.5.0",
            "_model_name": "HTMLModel",
            "_view_count": null,
            "_view_module": "@jupyter-widgets/controls",
            "_view_module_version": "1.5.0",
            "_view_name": "HTMLView",
            "description": "",
            "description_tooltip": null,
            "layout": "IPY_MODEL_c296f72599c9419ba1f28a9df9e18283",
            "placeholder": "​",
            "style": "IPY_MODEL_758a0335dd5d40d08fafbac3192c0149",
            "value": "vocab.txt: 100%"
          }
        },
        "e862f127c8554325bfdd06a1cb7c49e3": {
          "model_module": "@jupyter-widgets/controls",
          "model_name": "FloatProgressModel",
          "model_module_version": "1.5.0",
          "state": {
            "_dom_classes": [],
            "_model_module": "@jupyter-widgets/controls",
            "_model_module_version": "1.5.0",
            "_model_name": "FloatProgressModel",
            "_view_count": null,
            "_view_module": "@jupyter-widgets/controls",
            "_view_module_version": "1.5.0",
            "_view_name": "ProgressView",
            "bar_style": "success",
            "description": "",
            "description_tooltip": null,
            "layout": "IPY_MODEL_e527edb6b57a4839b4a09378c568e70b",
            "max": 231536,
            "min": 0,
            "orientation": "horizontal",
            "style": "IPY_MODEL_3e46ad730ea147aa913687f1b980d7c1",
            "value": 231536
          }
        },
        "2d1ad13fbf8f46aebc27617f42807f76": {
          "model_module": "@jupyter-widgets/controls",
          "model_name": "HTMLModel",
          "model_module_version": "1.5.0",
          "state": {
            "_dom_classes": [],
            "_model_module": "@jupyter-widgets/controls",
            "_model_module_version": "1.5.0",
            "_model_name": "HTMLModel",
            "_view_count": null,
            "_view_module": "@jupyter-widgets/controls",
            "_view_module_version": "1.5.0",
            "_view_name": "HTMLView",
            "description": "",
            "description_tooltip": null,
            "layout": "IPY_MODEL_76e99f094bc24c76b1da8fee8e5567ee",
            "placeholder": "​",
            "style": "IPY_MODEL_52becc238bb14b72b56f8c96c926fa8c",
            "value": " 232k/232k [00:00&lt;00:00, 6.36MB/s]"
          }
        },
        "ee2bc14778f945b8942576702b07e4d8": {
          "model_module": "@jupyter-widgets/base",
          "model_name": "LayoutModel",
          "model_module_version": "1.2.0",
          "state": {
            "_model_module": "@jupyter-widgets/base",
            "_model_module_version": "1.2.0",
            "_model_name": "LayoutModel",
            "_view_count": null,
            "_view_module": "@jupyter-widgets/base",
            "_view_module_version": "1.2.0",
            "_view_name": "LayoutView",
            "align_content": null,
            "align_items": null,
            "align_self": null,
            "border": null,
            "bottom": null,
            "display": null,
            "flex": null,
            "flex_flow": null,
            "grid_area": null,
            "grid_auto_columns": null,
            "grid_auto_flow": null,
            "grid_auto_rows": null,
            "grid_column": null,
            "grid_gap": null,
            "grid_row": null,
            "grid_template_areas": null,
            "grid_template_columns": null,
            "grid_template_rows": null,
            "height": null,
            "justify_content": null,
            "justify_items": null,
            "left": null,
            "margin": null,
            "max_height": null,
            "max_width": null,
            "min_height": null,
            "min_width": null,
            "object_fit": null,
            "object_position": null,
            "order": null,
            "overflow": null,
            "overflow_x": null,
            "overflow_y": null,
            "padding": null,
            "right": null,
            "top": null,
            "visibility": null,
            "width": null
          }
        },
        "c296f72599c9419ba1f28a9df9e18283": {
          "model_module": "@jupyter-widgets/base",
          "model_name": "LayoutModel",
          "model_module_version": "1.2.0",
          "state": {
            "_model_module": "@jupyter-widgets/base",
            "_model_module_version": "1.2.0",
            "_model_name": "LayoutModel",
            "_view_count": null,
            "_view_module": "@jupyter-widgets/base",
            "_view_module_version": "1.2.0",
            "_view_name": "LayoutView",
            "align_content": null,
            "align_items": null,
            "align_self": null,
            "border": null,
            "bottom": null,
            "display": null,
            "flex": null,
            "flex_flow": null,
            "grid_area": null,
            "grid_auto_columns": null,
            "grid_auto_flow": null,
            "grid_auto_rows": null,
            "grid_column": null,
            "grid_gap": null,
            "grid_row": null,
            "grid_template_areas": null,
            "grid_template_columns": null,
            "grid_template_rows": null,
            "height": null,
            "justify_content": null,
            "justify_items": null,
            "left": null,
            "margin": null,
            "max_height": null,
            "max_width": null,
            "min_height": null,
            "min_width": null,
            "object_fit": null,
            "object_position": null,
            "order": null,
            "overflow": null,
            "overflow_x": null,
            "overflow_y": null,
            "padding": null,
            "right": null,
            "top": null,
            "visibility": null,
            "width": null
          }
        },
        "758a0335dd5d40d08fafbac3192c0149": {
          "model_module": "@jupyter-widgets/controls",
          "model_name": "DescriptionStyleModel",
          "model_module_version": "1.5.0",
          "state": {
            "_model_module": "@jupyter-widgets/controls",
            "_model_module_version": "1.5.0",
            "_model_name": "DescriptionStyleModel",
            "_view_count": null,
            "_view_module": "@jupyter-widgets/base",
            "_view_module_version": "1.2.0",
            "_view_name": "StyleView",
            "description_width": ""
          }
        },
        "e527edb6b57a4839b4a09378c568e70b": {
          "model_module": "@jupyter-widgets/base",
          "model_name": "LayoutModel",
          "model_module_version": "1.2.0",
          "state": {
            "_model_module": "@jupyter-widgets/base",
            "_model_module_version": "1.2.0",
            "_model_name": "LayoutModel",
            "_view_count": null,
            "_view_module": "@jupyter-widgets/base",
            "_view_module_version": "1.2.0",
            "_view_name": "LayoutView",
            "align_content": null,
            "align_items": null,
            "align_self": null,
            "border": null,
            "bottom": null,
            "display": null,
            "flex": null,
            "flex_flow": null,
            "grid_area": null,
            "grid_auto_columns": null,
            "grid_auto_flow": null,
            "grid_auto_rows": null,
            "grid_column": null,
            "grid_gap": null,
            "grid_row": null,
            "grid_template_areas": null,
            "grid_template_columns": null,
            "grid_template_rows": null,
            "height": null,
            "justify_content": null,
            "justify_items": null,
            "left": null,
            "margin": null,
            "max_height": null,
            "max_width": null,
            "min_height": null,
            "min_width": null,
            "object_fit": null,
            "object_position": null,
            "order": null,
            "overflow": null,
            "overflow_x": null,
            "overflow_y": null,
            "padding": null,
            "right": null,
            "top": null,
            "visibility": null,
            "width": null
          }
        },
        "3e46ad730ea147aa913687f1b980d7c1": {
          "model_module": "@jupyter-widgets/controls",
          "model_name": "ProgressStyleModel",
          "model_module_version": "1.5.0",
          "state": {
            "_model_module": "@jupyter-widgets/controls",
            "_model_module_version": "1.5.0",
            "_model_name": "ProgressStyleModel",
            "_view_count": null,
            "_view_module": "@jupyter-widgets/base",
            "_view_module_version": "1.2.0",
            "_view_name": "StyleView",
            "bar_color": null,
            "description_width": ""
          }
        },
        "76e99f094bc24c76b1da8fee8e5567ee": {
          "model_module": "@jupyter-widgets/base",
          "model_name": "LayoutModel",
          "model_module_version": "1.2.0",
          "state": {
            "_model_module": "@jupyter-widgets/base",
            "_model_module_version": "1.2.0",
            "_model_name": "LayoutModel",
            "_view_count": null,
            "_view_module": "@jupyter-widgets/base",
            "_view_module_version": "1.2.0",
            "_view_name": "LayoutView",
            "align_content": null,
            "align_items": null,
            "align_self": null,
            "border": null,
            "bottom": null,
            "display": null,
            "flex": null,
            "flex_flow": null,
            "grid_area": null,
            "grid_auto_columns": null,
            "grid_auto_flow": null,
            "grid_auto_rows": null,
            "grid_column": null,
            "grid_gap": null,
            "grid_row": null,
            "grid_template_areas": null,
            "grid_template_columns": null,
            "grid_template_rows": null,
            "height": null,
            "justify_content": null,
            "justify_items": null,
            "left": null,
            "margin": null,
            "max_height": null,
            "max_width": null,
            "min_height": null,
            "min_width": null,
            "object_fit": null,
            "object_position": null,
            "order": null,
            "overflow": null,
            "overflow_x": null,
            "overflow_y": null,
            "padding": null,
            "right": null,
            "top": null,
            "visibility": null,
            "width": null
          }
        },
        "52becc238bb14b72b56f8c96c926fa8c": {
          "model_module": "@jupyter-widgets/controls",
          "model_name": "DescriptionStyleModel",
          "model_module_version": "1.5.0",
          "state": {
            "_model_module": "@jupyter-widgets/controls",
            "_model_module_version": "1.5.0",
            "_model_name": "DescriptionStyleModel",
            "_view_count": null,
            "_view_module": "@jupyter-widgets/base",
            "_view_module_version": "1.2.0",
            "_view_name": "StyleView",
            "description_width": ""
          }
        },
        "873f7bea0f6e45d988bc8552c1f79d42": {
          "model_module": "@jupyter-widgets/controls",
          "model_name": "HBoxModel",
          "model_module_version": "1.5.0",
          "state": {
            "_dom_classes": [],
            "_model_module": "@jupyter-widgets/controls",
            "_model_module_version": "1.5.0",
            "_model_name": "HBoxModel",
            "_view_count": null,
            "_view_module": "@jupyter-widgets/controls",
            "_view_module_version": "1.5.0",
            "_view_name": "HBoxView",
            "box_style": "",
            "children": [
              "IPY_MODEL_b652a5bafd054bacbf78cb6addcb17b6",
              "IPY_MODEL_f136b07f4fdf4f2a95ac4cdf8e762966",
              "IPY_MODEL_c0a63049a17340d99d591f5e2ddceb5f"
            ],
            "layout": "IPY_MODEL_e5fd7aeaf06e4cecac59ac64b65b2548"
          }
        },
        "b652a5bafd054bacbf78cb6addcb17b6": {
          "model_module": "@jupyter-widgets/controls",
          "model_name": "HTMLModel",
          "model_module_version": "1.5.0",
          "state": {
            "_dom_classes": [],
            "_model_module": "@jupyter-widgets/controls",
            "_model_module_version": "1.5.0",
            "_model_name": "HTMLModel",
            "_view_count": null,
            "_view_module": "@jupyter-widgets/controls",
            "_view_module_version": "1.5.0",
            "_view_name": "HTMLView",
            "description": "",
            "description_tooltip": null,
            "layout": "IPY_MODEL_a2b6fda3addf4d6c9b29aa3b44b90b32",
            "placeholder": "​",
            "style": "IPY_MODEL_cf947367b3984480acaffce1a6aa5d59",
            "value": "tokenizer.json: 100%"
          }
        },
        "f136b07f4fdf4f2a95ac4cdf8e762966": {
          "model_module": "@jupyter-widgets/controls",
          "model_name": "FloatProgressModel",
          "model_module_version": "1.5.0",
          "state": {
            "_dom_classes": [],
            "_model_module": "@jupyter-widgets/controls",
            "_model_module_version": "1.5.0",
            "_model_name": "FloatProgressModel",
            "_view_count": null,
            "_view_module": "@jupyter-widgets/controls",
            "_view_module_version": "1.5.0",
            "_view_name": "ProgressView",
            "bar_style": "success",
            "description": "",
            "description_tooltip": null,
            "layout": "IPY_MODEL_d674fc2b29b849c8b80ca770a2ca3ab7",
            "max": 466021,
            "min": 0,
            "orientation": "horizontal",
            "style": "IPY_MODEL_a9214eb9805945b59057ca213064d1a9",
            "value": 466021
          }
        },
        "c0a63049a17340d99d591f5e2ddceb5f": {
          "model_module": "@jupyter-widgets/controls",
          "model_name": "HTMLModel",
          "model_module_version": "1.5.0",
          "state": {
            "_dom_classes": [],
            "_model_module": "@jupyter-widgets/controls",
            "_model_module_version": "1.5.0",
            "_model_name": "HTMLModel",
            "_view_count": null,
            "_view_module": "@jupyter-widgets/controls",
            "_view_module_version": "1.5.0",
            "_view_name": "HTMLView",
            "description": "",
            "description_tooltip": null,
            "layout": "IPY_MODEL_b92eb515296a47dfbd845de38d5e5162",
            "placeholder": "​",
            "style": "IPY_MODEL_cf3b60db39bb42039243d61d4f2c188a",
            "value": " 466k/466k [00:00&lt;00:00, 19.2MB/s]"
          }
        },
        "e5fd7aeaf06e4cecac59ac64b65b2548": {
          "model_module": "@jupyter-widgets/base",
          "model_name": "LayoutModel",
          "model_module_version": "1.2.0",
          "state": {
            "_model_module": "@jupyter-widgets/base",
            "_model_module_version": "1.2.0",
            "_model_name": "LayoutModel",
            "_view_count": null,
            "_view_module": "@jupyter-widgets/base",
            "_view_module_version": "1.2.0",
            "_view_name": "LayoutView",
            "align_content": null,
            "align_items": null,
            "align_self": null,
            "border": null,
            "bottom": null,
            "display": null,
            "flex": null,
            "flex_flow": null,
            "grid_area": null,
            "grid_auto_columns": null,
            "grid_auto_flow": null,
            "grid_auto_rows": null,
            "grid_column": null,
            "grid_gap": null,
            "grid_row": null,
            "grid_template_areas": null,
            "grid_template_columns": null,
            "grid_template_rows": null,
            "height": null,
            "justify_content": null,
            "justify_items": null,
            "left": null,
            "margin": null,
            "max_height": null,
            "max_width": null,
            "min_height": null,
            "min_width": null,
            "object_fit": null,
            "object_position": null,
            "order": null,
            "overflow": null,
            "overflow_x": null,
            "overflow_y": null,
            "padding": null,
            "right": null,
            "top": null,
            "visibility": null,
            "width": null
          }
        },
        "a2b6fda3addf4d6c9b29aa3b44b90b32": {
          "model_module": "@jupyter-widgets/base",
          "model_name": "LayoutModel",
          "model_module_version": "1.2.0",
          "state": {
            "_model_module": "@jupyter-widgets/base",
            "_model_module_version": "1.2.0",
            "_model_name": "LayoutModel",
            "_view_count": null,
            "_view_module": "@jupyter-widgets/base",
            "_view_module_version": "1.2.0",
            "_view_name": "LayoutView",
            "align_content": null,
            "align_items": null,
            "align_self": null,
            "border": null,
            "bottom": null,
            "display": null,
            "flex": null,
            "flex_flow": null,
            "grid_area": null,
            "grid_auto_columns": null,
            "grid_auto_flow": null,
            "grid_auto_rows": null,
            "grid_column": null,
            "grid_gap": null,
            "grid_row": null,
            "grid_template_areas": null,
            "grid_template_columns": null,
            "grid_template_rows": null,
            "height": null,
            "justify_content": null,
            "justify_items": null,
            "left": null,
            "margin": null,
            "max_height": null,
            "max_width": null,
            "min_height": null,
            "min_width": null,
            "object_fit": null,
            "object_position": null,
            "order": null,
            "overflow": null,
            "overflow_x": null,
            "overflow_y": null,
            "padding": null,
            "right": null,
            "top": null,
            "visibility": null,
            "width": null
          }
        },
        "cf947367b3984480acaffce1a6aa5d59": {
          "model_module": "@jupyter-widgets/controls",
          "model_name": "DescriptionStyleModel",
          "model_module_version": "1.5.0",
          "state": {
            "_model_module": "@jupyter-widgets/controls",
            "_model_module_version": "1.5.0",
            "_model_name": "DescriptionStyleModel",
            "_view_count": null,
            "_view_module": "@jupyter-widgets/base",
            "_view_module_version": "1.2.0",
            "_view_name": "StyleView",
            "description_width": ""
          }
        },
        "d674fc2b29b849c8b80ca770a2ca3ab7": {
          "model_module": "@jupyter-widgets/base",
          "model_name": "LayoutModel",
          "model_module_version": "1.2.0",
          "state": {
            "_model_module": "@jupyter-widgets/base",
            "_model_module_version": "1.2.0",
            "_model_name": "LayoutModel",
            "_view_count": null,
            "_view_module": "@jupyter-widgets/base",
            "_view_module_version": "1.2.0",
            "_view_name": "LayoutView",
            "align_content": null,
            "align_items": null,
            "align_self": null,
            "border": null,
            "bottom": null,
            "display": null,
            "flex": null,
            "flex_flow": null,
            "grid_area": null,
            "grid_auto_columns": null,
            "grid_auto_flow": null,
            "grid_auto_rows": null,
            "grid_column": null,
            "grid_gap": null,
            "grid_row": null,
            "grid_template_areas": null,
            "grid_template_columns": null,
            "grid_template_rows": null,
            "height": null,
            "justify_content": null,
            "justify_items": null,
            "left": null,
            "margin": null,
            "max_height": null,
            "max_width": null,
            "min_height": null,
            "min_width": null,
            "object_fit": null,
            "object_position": null,
            "order": null,
            "overflow": null,
            "overflow_x": null,
            "overflow_y": null,
            "padding": null,
            "right": null,
            "top": null,
            "visibility": null,
            "width": null
          }
        },
        "a9214eb9805945b59057ca213064d1a9": {
          "model_module": "@jupyter-widgets/controls",
          "model_name": "ProgressStyleModel",
          "model_module_version": "1.5.0",
          "state": {
            "_model_module": "@jupyter-widgets/controls",
            "_model_module_version": "1.5.0",
            "_model_name": "ProgressStyleModel",
            "_view_count": null,
            "_view_module": "@jupyter-widgets/base",
            "_view_module_version": "1.2.0",
            "_view_name": "StyleView",
            "bar_color": null,
            "description_width": ""
          }
        },
        "b92eb515296a47dfbd845de38d5e5162": {
          "model_module": "@jupyter-widgets/base",
          "model_name": "LayoutModel",
          "model_module_version": "1.2.0",
          "state": {
            "_model_module": "@jupyter-widgets/base",
            "_model_module_version": "1.2.0",
            "_model_name": "LayoutModel",
            "_view_count": null,
            "_view_module": "@jupyter-widgets/base",
            "_view_module_version": "1.2.0",
            "_view_name": "LayoutView",
            "align_content": null,
            "align_items": null,
            "align_self": null,
            "border": null,
            "bottom": null,
            "display": null,
            "flex": null,
            "flex_flow": null,
            "grid_area": null,
            "grid_auto_columns": null,
            "grid_auto_flow": null,
            "grid_auto_rows": null,
            "grid_column": null,
            "grid_gap": null,
            "grid_row": null,
            "grid_template_areas": null,
            "grid_template_columns": null,
            "grid_template_rows": null,
            "height": null,
            "justify_content": null,
            "justify_items": null,
            "left": null,
            "margin": null,
            "max_height": null,
            "max_width": null,
            "min_height": null,
            "min_width": null,
            "object_fit": null,
            "object_position": null,
            "order": null,
            "overflow": null,
            "overflow_x": null,
            "overflow_y": null,
            "padding": null,
            "right": null,
            "top": null,
            "visibility": null,
            "width": null
          }
        },
        "cf3b60db39bb42039243d61d4f2c188a": {
          "model_module": "@jupyter-widgets/controls",
          "model_name": "DescriptionStyleModel",
          "model_module_version": "1.5.0",
          "state": {
            "_model_module": "@jupyter-widgets/controls",
            "_model_module_version": "1.5.0",
            "_model_name": "DescriptionStyleModel",
            "_view_count": null,
            "_view_module": "@jupyter-widgets/base",
            "_view_module_version": "1.2.0",
            "_view_name": "StyleView",
            "description_width": ""
          }
        },
        "3e22ff0d8215418cac6683fcb62ade03": {
          "model_module": "@jupyter-widgets/controls",
          "model_name": "HBoxModel",
          "model_module_version": "1.5.0",
          "state": {
            "_dom_classes": [],
            "_model_module": "@jupyter-widgets/controls",
            "_model_module_version": "1.5.0",
            "_model_name": "HBoxModel",
            "_view_count": null,
            "_view_module": "@jupyter-widgets/controls",
            "_view_module_version": "1.5.0",
            "_view_name": "HBoxView",
            "box_style": "",
            "children": [
              "IPY_MODEL_c7238a67ee3245e08c142d6831d47c5c",
              "IPY_MODEL_ded25146c3c04618b5e9555de96c7645",
              "IPY_MODEL_62d7f860df0c4ff888e94c17f2dae618"
            ],
            "layout": "IPY_MODEL_832b035a0c18491584b98468426dc02c"
          }
        },
        "c7238a67ee3245e08c142d6831d47c5c": {
          "model_module": "@jupyter-widgets/controls",
          "model_name": "HTMLModel",
          "model_module_version": "1.5.0",
          "state": {
            "_dom_classes": [],
            "_model_module": "@jupyter-widgets/controls",
            "_model_module_version": "1.5.0",
            "_model_name": "HTMLModel",
            "_view_count": null,
            "_view_module": "@jupyter-widgets/controls",
            "_view_module_version": "1.5.0",
            "_view_name": "HTMLView",
            "description": "",
            "description_tooltip": null,
            "layout": "IPY_MODEL_1c66ccda287346f0a5b47db9e7162109",
            "placeholder": "​",
            "style": "IPY_MODEL_3e3b308b86c0400fb1608c43e01e5cac",
            "value": "special_tokens_map.json: 100%"
          }
        },
        "ded25146c3c04618b5e9555de96c7645": {
          "model_module": "@jupyter-widgets/controls",
          "model_name": "FloatProgressModel",
          "model_module_version": "1.5.0",
          "state": {
            "_dom_classes": [],
            "_model_module": "@jupyter-widgets/controls",
            "_model_module_version": "1.5.0",
            "_model_name": "FloatProgressModel",
            "_view_count": null,
            "_view_module": "@jupyter-widgets/controls",
            "_view_module_version": "1.5.0",
            "_view_name": "ProgressView",
            "bar_style": "success",
            "description": "",
            "description_tooltip": null,
            "layout": "IPY_MODEL_d02c364c10dd4f8b86e349d1413f4628",
            "max": 239,
            "min": 0,
            "orientation": "horizontal",
            "style": "IPY_MODEL_e32da526e0b54898b1d59b3e57e49aa5",
            "value": 239
          }
        },
        "62d7f860df0c4ff888e94c17f2dae618": {
          "model_module": "@jupyter-widgets/controls",
          "model_name": "HTMLModel",
          "model_module_version": "1.5.0",
          "state": {
            "_dom_classes": [],
            "_model_module": "@jupyter-widgets/controls",
            "_model_module_version": "1.5.0",
            "_model_name": "HTMLModel",
            "_view_count": null,
            "_view_module": "@jupyter-widgets/controls",
            "_view_module_version": "1.5.0",
            "_view_name": "HTMLView",
            "description": "",
            "description_tooltip": null,
            "layout": "IPY_MODEL_6aa13b4123f247c29ca4632dd62e84f0",
            "placeholder": "​",
            "style": "IPY_MODEL_d027946ead4f430eb0331d76d7f915fe",
            "value": " 239/239 [00:00&lt;00:00, 13.1kB/s]"
          }
        },
        "832b035a0c18491584b98468426dc02c": {
          "model_module": "@jupyter-widgets/base",
          "model_name": "LayoutModel",
          "model_module_version": "1.2.0",
          "state": {
            "_model_module": "@jupyter-widgets/base",
            "_model_module_version": "1.2.0",
            "_model_name": "LayoutModel",
            "_view_count": null,
            "_view_module": "@jupyter-widgets/base",
            "_view_module_version": "1.2.0",
            "_view_name": "LayoutView",
            "align_content": null,
            "align_items": null,
            "align_self": null,
            "border": null,
            "bottom": null,
            "display": null,
            "flex": null,
            "flex_flow": null,
            "grid_area": null,
            "grid_auto_columns": null,
            "grid_auto_flow": null,
            "grid_auto_rows": null,
            "grid_column": null,
            "grid_gap": null,
            "grid_row": null,
            "grid_template_areas": null,
            "grid_template_columns": null,
            "grid_template_rows": null,
            "height": null,
            "justify_content": null,
            "justify_items": null,
            "left": null,
            "margin": null,
            "max_height": null,
            "max_width": null,
            "min_height": null,
            "min_width": null,
            "object_fit": null,
            "object_position": null,
            "order": null,
            "overflow": null,
            "overflow_x": null,
            "overflow_y": null,
            "padding": null,
            "right": null,
            "top": null,
            "visibility": null,
            "width": null
          }
        },
        "1c66ccda287346f0a5b47db9e7162109": {
          "model_module": "@jupyter-widgets/base",
          "model_name": "LayoutModel",
          "model_module_version": "1.2.0",
          "state": {
            "_model_module": "@jupyter-widgets/base",
            "_model_module_version": "1.2.0",
            "_model_name": "LayoutModel",
            "_view_count": null,
            "_view_module": "@jupyter-widgets/base",
            "_view_module_version": "1.2.0",
            "_view_name": "LayoutView",
            "align_content": null,
            "align_items": null,
            "align_self": null,
            "border": null,
            "bottom": null,
            "display": null,
            "flex": null,
            "flex_flow": null,
            "grid_area": null,
            "grid_auto_columns": null,
            "grid_auto_flow": null,
            "grid_auto_rows": null,
            "grid_column": null,
            "grid_gap": null,
            "grid_row": null,
            "grid_template_areas": null,
            "grid_template_columns": null,
            "grid_template_rows": null,
            "height": null,
            "justify_content": null,
            "justify_items": null,
            "left": null,
            "margin": null,
            "max_height": null,
            "max_width": null,
            "min_height": null,
            "min_width": null,
            "object_fit": null,
            "object_position": null,
            "order": null,
            "overflow": null,
            "overflow_x": null,
            "overflow_y": null,
            "padding": null,
            "right": null,
            "top": null,
            "visibility": null,
            "width": null
          }
        },
        "3e3b308b86c0400fb1608c43e01e5cac": {
          "model_module": "@jupyter-widgets/controls",
          "model_name": "DescriptionStyleModel",
          "model_module_version": "1.5.0",
          "state": {
            "_model_module": "@jupyter-widgets/controls",
            "_model_module_version": "1.5.0",
            "_model_name": "DescriptionStyleModel",
            "_view_count": null,
            "_view_module": "@jupyter-widgets/base",
            "_view_module_version": "1.2.0",
            "_view_name": "StyleView",
            "description_width": ""
          }
        },
        "d02c364c10dd4f8b86e349d1413f4628": {
          "model_module": "@jupyter-widgets/base",
          "model_name": "LayoutModel",
          "model_module_version": "1.2.0",
          "state": {
            "_model_module": "@jupyter-widgets/base",
            "_model_module_version": "1.2.0",
            "_model_name": "LayoutModel",
            "_view_count": null,
            "_view_module": "@jupyter-widgets/base",
            "_view_module_version": "1.2.0",
            "_view_name": "LayoutView",
            "align_content": null,
            "align_items": null,
            "align_self": null,
            "border": null,
            "bottom": null,
            "display": null,
            "flex": null,
            "flex_flow": null,
            "grid_area": null,
            "grid_auto_columns": null,
            "grid_auto_flow": null,
            "grid_auto_rows": null,
            "grid_column": null,
            "grid_gap": null,
            "grid_row": null,
            "grid_template_areas": null,
            "grid_template_columns": null,
            "grid_template_rows": null,
            "height": null,
            "justify_content": null,
            "justify_items": null,
            "left": null,
            "margin": null,
            "max_height": null,
            "max_width": null,
            "min_height": null,
            "min_width": null,
            "object_fit": null,
            "object_position": null,
            "order": null,
            "overflow": null,
            "overflow_x": null,
            "overflow_y": null,
            "padding": null,
            "right": null,
            "top": null,
            "visibility": null,
            "width": null
          }
        },
        "e32da526e0b54898b1d59b3e57e49aa5": {
          "model_module": "@jupyter-widgets/controls",
          "model_name": "ProgressStyleModel",
          "model_module_version": "1.5.0",
          "state": {
            "_model_module": "@jupyter-widgets/controls",
            "_model_module_version": "1.5.0",
            "_model_name": "ProgressStyleModel",
            "_view_count": null,
            "_view_module": "@jupyter-widgets/base",
            "_view_module_version": "1.2.0",
            "_view_name": "StyleView",
            "bar_color": null,
            "description_width": ""
          }
        },
        "6aa13b4123f247c29ca4632dd62e84f0": {
          "model_module": "@jupyter-widgets/base",
          "model_name": "LayoutModel",
          "model_module_version": "1.2.0",
          "state": {
            "_model_module": "@jupyter-widgets/base",
            "_model_module_version": "1.2.0",
            "_model_name": "LayoutModel",
            "_view_count": null,
            "_view_module": "@jupyter-widgets/base",
            "_view_module_version": "1.2.0",
            "_view_name": "LayoutView",
            "align_content": null,
            "align_items": null,
            "align_self": null,
            "border": null,
            "bottom": null,
            "display": null,
            "flex": null,
            "flex_flow": null,
            "grid_area": null,
            "grid_auto_columns": null,
            "grid_auto_flow": null,
            "grid_auto_rows": null,
            "grid_column": null,
            "grid_gap": null,
            "grid_row": null,
            "grid_template_areas": null,
            "grid_template_columns": null,
            "grid_template_rows": null,
            "height": null,
            "justify_content": null,
            "justify_items": null,
            "left": null,
            "margin": null,
            "max_height": null,
            "max_width": null,
            "min_height": null,
            "min_width": null,
            "object_fit": null,
            "object_position": null,
            "order": null,
            "overflow": null,
            "overflow_x": null,
            "overflow_y": null,
            "padding": null,
            "right": null,
            "top": null,
            "visibility": null,
            "width": null
          }
        },
        "d027946ead4f430eb0331d76d7f915fe": {
          "model_module": "@jupyter-widgets/controls",
          "model_name": "DescriptionStyleModel",
          "model_module_version": "1.5.0",
          "state": {
            "_model_module": "@jupyter-widgets/controls",
            "_model_module_version": "1.5.0",
            "_model_name": "DescriptionStyleModel",
            "_view_count": null,
            "_view_module": "@jupyter-widgets/base",
            "_view_module_version": "1.2.0",
            "_view_name": "StyleView",
            "description_width": ""
          }
        },
        "7b67c8bcba3f4dd1a3ba080d17d66216": {
          "model_module": "@jupyter-widgets/controls",
          "model_name": "HBoxModel",
          "model_module_version": "1.5.0",
          "state": {
            "_dom_classes": [],
            "_model_module": "@jupyter-widgets/controls",
            "_model_module_version": "1.5.0",
            "_model_name": "HBoxModel",
            "_view_count": null,
            "_view_module": "@jupyter-widgets/controls",
            "_view_module_version": "1.5.0",
            "_view_name": "HBoxView",
            "box_style": "",
            "children": [
              "IPY_MODEL_e04cf9aa3cab443fa07859d18c312602",
              "IPY_MODEL_c43b35a6d524432eafec9b76d4366b79",
              "IPY_MODEL_97ba186df77042edb85213ea8c5eaec9"
            ],
            "layout": "IPY_MODEL_dbb2f1e195044ebb82b6832ee6ebee5f"
          }
        },
        "e04cf9aa3cab443fa07859d18c312602": {
          "model_module": "@jupyter-widgets/controls",
          "model_name": "HTMLModel",
          "model_module_version": "1.5.0",
          "state": {
            "_dom_classes": [],
            "_model_module": "@jupyter-widgets/controls",
            "_model_module_version": "1.5.0",
            "_model_name": "HTMLModel",
            "_view_count": null,
            "_view_module": "@jupyter-widgets/controls",
            "_view_module_version": "1.5.0",
            "_view_name": "HTMLView",
            "description": "",
            "description_tooltip": null,
            "layout": "IPY_MODEL_4605877616ec4d0aab1f8ff2cca51fb9",
            "placeholder": "​",
            "style": "IPY_MODEL_183c1e363a754695a919721330749783",
            "value": "1_Pooling/config.json: 100%"
          }
        },
        "c43b35a6d524432eafec9b76d4366b79": {
          "model_module": "@jupyter-widgets/controls",
          "model_name": "FloatProgressModel",
          "model_module_version": "1.5.0",
          "state": {
            "_dom_classes": [],
            "_model_module": "@jupyter-widgets/controls",
            "_model_module_version": "1.5.0",
            "_model_name": "FloatProgressModel",
            "_view_count": null,
            "_view_module": "@jupyter-widgets/controls",
            "_view_module_version": "1.5.0",
            "_view_name": "ProgressView",
            "bar_style": "success",
            "description": "",
            "description_tooltip": null,
            "layout": "IPY_MODEL_54b2c286035b476ab7b3e05e69f66856",
            "max": 190,
            "min": 0,
            "orientation": "horizontal",
            "style": "IPY_MODEL_f0a70ddeed8844f8b699613e8c24dd6b",
            "value": 190
          }
        },
        "97ba186df77042edb85213ea8c5eaec9": {
          "model_module": "@jupyter-widgets/controls",
          "model_name": "HTMLModel",
          "model_module_version": "1.5.0",
          "state": {
            "_dom_classes": [],
            "_model_module": "@jupyter-widgets/controls",
            "_model_module_version": "1.5.0",
            "_model_name": "HTMLModel",
            "_view_count": null,
            "_view_module": "@jupyter-widgets/controls",
            "_view_module_version": "1.5.0",
            "_view_name": "HTMLView",
            "description": "",
            "description_tooltip": null,
            "layout": "IPY_MODEL_d0e9a471e3104166945e58e154b2cf5e",
            "placeholder": "​",
            "style": "IPY_MODEL_3d9de67dee994a4b826ba58ae5e98f55",
            "value": " 190/190 [00:00&lt;00:00, 8.74kB/s]"
          }
        },
        "dbb2f1e195044ebb82b6832ee6ebee5f": {
          "model_module": "@jupyter-widgets/base",
          "model_name": "LayoutModel",
          "model_module_version": "1.2.0",
          "state": {
            "_model_module": "@jupyter-widgets/base",
            "_model_module_version": "1.2.0",
            "_model_name": "LayoutModel",
            "_view_count": null,
            "_view_module": "@jupyter-widgets/base",
            "_view_module_version": "1.2.0",
            "_view_name": "LayoutView",
            "align_content": null,
            "align_items": null,
            "align_self": null,
            "border": null,
            "bottom": null,
            "display": null,
            "flex": null,
            "flex_flow": null,
            "grid_area": null,
            "grid_auto_columns": null,
            "grid_auto_flow": null,
            "grid_auto_rows": null,
            "grid_column": null,
            "grid_gap": null,
            "grid_row": null,
            "grid_template_areas": null,
            "grid_template_columns": null,
            "grid_template_rows": null,
            "height": null,
            "justify_content": null,
            "justify_items": null,
            "left": null,
            "margin": null,
            "max_height": null,
            "max_width": null,
            "min_height": null,
            "min_width": null,
            "object_fit": null,
            "object_position": null,
            "order": null,
            "overflow": null,
            "overflow_x": null,
            "overflow_y": null,
            "padding": null,
            "right": null,
            "top": null,
            "visibility": null,
            "width": null
          }
        },
        "4605877616ec4d0aab1f8ff2cca51fb9": {
          "model_module": "@jupyter-widgets/base",
          "model_name": "LayoutModel",
          "model_module_version": "1.2.0",
          "state": {
            "_model_module": "@jupyter-widgets/base",
            "_model_module_version": "1.2.0",
            "_model_name": "LayoutModel",
            "_view_count": null,
            "_view_module": "@jupyter-widgets/base",
            "_view_module_version": "1.2.0",
            "_view_name": "LayoutView",
            "align_content": null,
            "align_items": null,
            "align_self": null,
            "border": null,
            "bottom": null,
            "display": null,
            "flex": null,
            "flex_flow": null,
            "grid_area": null,
            "grid_auto_columns": null,
            "grid_auto_flow": null,
            "grid_auto_rows": null,
            "grid_column": null,
            "grid_gap": null,
            "grid_row": null,
            "grid_template_areas": null,
            "grid_template_columns": null,
            "grid_template_rows": null,
            "height": null,
            "justify_content": null,
            "justify_items": null,
            "left": null,
            "margin": null,
            "max_height": null,
            "max_width": null,
            "min_height": null,
            "min_width": null,
            "object_fit": null,
            "object_position": null,
            "order": null,
            "overflow": null,
            "overflow_x": null,
            "overflow_y": null,
            "padding": null,
            "right": null,
            "top": null,
            "visibility": null,
            "width": null
          }
        },
        "183c1e363a754695a919721330749783": {
          "model_module": "@jupyter-widgets/controls",
          "model_name": "DescriptionStyleModel",
          "model_module_version": "1.5.0",
          "state": {
            "_model_module": "@jupyter-widgets/controls",
            "_model_module_version": "1.5.0",
            "_model_name": "DescriptionStyleModel",
            "_view_count": null,
            "_view_module": "@jupyter-widgets/base",
            "_view_module_version": "1.2.0",
            "_view_name": "StyleView",
            "description_width": ""
          }
        },
        "54b2c286035b476ab7b3e05e69f66856": {
          "model_module": "@jupyter-widgets/base",
          "model_name": "LayoutModel",
          "model_module_version": "1.2.0",
          "state": {
            "_model_module": "@jupyter-widgets/base",
            "_model_module_version": "1.2.0",
            "_model_name": "LayoutModel",
            "_view_count": null,
            "_view_module": "@jupyter-widgets/base",
            "_view_module_version": "1.2.0",
            "_view_name": "LayoutView",
            "align_content": null,
            "align_items": null,
            "align_self": null,
            "border": null,
            "bottom": null,
            "display": null,
            "flex": null,
            "flex_flow": null,
            "grid_area": null,
            "grid_auto_columns": null,
            "grid_auto_flow": null,
            "grid_auto_rows": null,
            "grid_column": null,
            "grid_gap": null,
            "grid_row": null,
            "grid_template_areas": null,
            "grid_template_columns": null,
            "grid_template_rows": null,
            "height": null,
            "justify_content": null,
            "justify_items": null,
            "left": null,
            "margin": null,
            "max_height": null,
            "max_width": null,
            "min_height": null,
            "min_width": null,
            "object_fit": null,
            "object_position": null,
            "order": null,
            "overflow": null,
            "overflow_x": null,
            "overflow_y": null,
            "padding": null,
            "right": null,
            "top": null,
            "visibility": null,
            "width": null
          }
        },
        "f0a70ddeed8844f8b699613e8c24dd6b": {
          "model_module": "@jupyter-widgets/controls",
          "model_name": "ProgressStyleModel",
          "model_module_version": "1.5.0",
          "state": {
            "_model_module": "@jupyter-widgets/controls",
            "_model_module_version": "1.5.0",
            "_model_name": "ProgressStyleModel",
            "_view_count": null,
            "_view_module": "@jupyter-widgets/base",
            "_view_module_version": "1.2.0",
            "_view_name": "StyleView",
            "bar_color": null,
            "description_width": ""
          }
        },
        "d0e9a471e3104166945e58e154b2cf5e": {
          "model_module": "@jupyter-widgets/base",
          "model_name": "LayoutModel",
          "model_module_version": "1.2.0",
          "state": {
            "_model_module": "@jupyter-widgets/base",
            "_model_module_version": "1.2.0",
            "_model_name": "LayoutModel",
            "_view_count": null,
            "_view_module": "@jupyter-widgets/base",
            "_view_module_version": "1.2.0",
            "_view_name": "LayoutView",
            "align_content": null,
            "align_items": null,
            "align_self": null,
            "border": null,
            "bottom": null,
            "display": null,
            "flex": null,
            "flex_flow": null,
            "grid_area": null,
            "grid_auto_columns": null,
            "grid_auto_flow": null,
            "grid_auto_rows": null,
            "grid_column": null,
            "grid_gap": null,
            "grid_row": null,
            "grid_template_areas": null,
            "grid_template_columns": null,
            "grid_template_rows": null,
            "height": null,
            "justify_content": null,
            "justify_items": null,
            "left": null,
            "margin": null,
            "max_height": null,
            "max_width": null,
            "min_height": null,
            "min_width": null,
            "object_fit": null,
            "object_position": null,
            "order": null,
            "overflow": null,
            "overflow_x": null,
            "overflow_y": null,
            "padding": null,
            "right": null,
            "top": null,
            "visibility": null,
            "width": null
          }
        },
        "3d9de67dee994a4b826ba58ae5e98f55": {
          "model_module": "@jupyter-widgets/controls",
          "model_name": "DescriptionStyleModel",
          "model_module_version": "1.5.0",
          "state": {
            "_model_module": "@jupyter-widgets/controls",
            "_model_module_version": "1.5.0",
            "_model_name": "DescriptionStyleModel",
            "_view_count": null,
            "_view_module": "@jupyter-widgets/base",
            "_view_module_version": "1.2.0",
            "_view_name": "StyleView",
            "description_width": ""
          }
        }
      }
    }
  },
  "cells": [
    {
      "cell_type": "markdown",
      "metadata": {
        "id": "view-in-github",
        "colab_type": "text"
      },
      "source": [
        "<a href=\"https://colab.research.google.com/github/Ashis-Palai/Cancer_Information_RAG_GenAI/blob/main/GenAI_Cancer_Information_Powered_by_LLM.ipynb\" target=\"_parent\"><img src=\"https://colab.research.google.com/assets/colab-badge.svg\" alt=\"Open In Colab\"/></a>"
      ]
    },
    {
      "cell_type": "code",
      "source": [
        "!curl -O \"https://raw.githubusercontent.com/Ashis-Palai/Cancer_Information_RAG_GenAI/main/requirements.txt\""
      ],
      "metadata": {
        "id": "djpb-4MofY56",
        "colab": {
          "base_uri": "https://localhost:8080/"
        },
        "outputId": "cbe841ee-ebf7-4107-a75f-102e5461bd97"
      },
      "execution_count": 1,
      "outputs": [
        {
          "output_type": "stream",
          "name": "stdout",
          "text": [
            "  % Total    % Received % Xferd  Average Speed   Time    Time     Time  Current\n",
            "                                 Dload  Upload   Total   Spent    Left  Speed\n",
            "100   155  100   155    0     0    675      0 --:--:-- --:--:-- --:--:--   676\n"
          ]
        }
      ]
    },
    {
      "cell_type": "markdown",
      "source": [
        "# **DATA EXTRACTION:**\n",
        "\n"
      ],
      "metadata": {
        "id": "AGGL_JFf-49m"
      }
    },
    {
      "cell_type": "markdown",
      "source": [
        "## **Sources**\n",
        "\n",
        "* **Cervical , Breast & Oral Cancers:**\n",
        "\n",
        "\n",
        "> ```\n",
        "https://tmc.gov.in/ncg/docs/PDF/DraftGuidelines/Preventive/3_%20NCG_INDIA_Rev_Preventive%20Oncology_Primary_Care.pdf\n",
        "```\n",
        "\n",
        "\n",
        "* **Ovarian_Cancer:**\n",
        "\n",
        "> ```\n",
        "https://main.icmr.nic.in/sites/default/files/guidelines/Ovarian_Cancer.pdf\n",
        "```\n",
        "\n",
        "\n",
        "* **Generic Information About Cancer**\n",
        "\n",
        ">```\n",
        "https://www.mayoclinic.org/diseases-conditions/cancer/diagnosis-treatment/drc-20370594\n",
        "```\n",
        "\n",
        "\n",
        "\n",
        "* **Breast Cancer:**\n",
        "\n",
        ">```\n",
        "https://www.cancer.org/cancer/types/breast-cancer/screening-tests-and-early-detection.html\n",
        "```\n",
        "\n",
        "\n",
        "\n",
        "\n"
      ],
      "metadata": {
        "id": "ES25Box0--7Z"
      }
    },
    {
      "cell_type": "code",
      "source": [
        "!curl -O \"https://raw.githubusercontent.com/Ashis-Palai/Cancer_Information_RAG_GenAI/main/helper.py\"\n",
        "!curl -O \"https://raw.githubusercontent.com/Ashis-Palai/Cancer_Information_RAG_GenAI/main/requirements.txt\""
      ],
      "metadata": {
        "id": "_-dW0Bbf4BEE",
        "colab": {
          "base_uri": "https://localhost:8080/"
        },
        "outputId": "9752ada8-a655-4e35-b8d8-08a02ea2560a"
      },
      "execution_count": null,
      "outputs": [
        {
          "output_type": "stream",
          "name": "stdout",
          "text": [
            "  % Total    % Received % Xferd  Average Speed   Time    Time     Time  Current\n",
            "                                 Dload  Upload   Total   Spent    Left  Speed\n",
            "100  3168  100  3168    0     0  20123      0 --:--:-- --:--:-- --:--:-- 20178\n",
            "  % Total    % Received % Xferd  Average Speed   Time    Time     Time  Current\n",
            "                                 Dload  Upload   Total   Spent    Left  Speed\n",
            "100   155  100   155    0     0   1556      0 --:--:-- --:--:-- --:--:--  1565\n"
          ]
        }
      ]
    },
    {
      "cell_type": "code",
      "source": [
        "all_url = [ 'https://www.cancer.org/cancer/types/breast-cancer/screening-tests-and-early-detection.html',\n",
        "'https://www.cancer.org/cancer/types/breast-cancer/screening-tests-and-early-detection/american-cancer-society-recommendations-for-the-early-detection-of-breast-cancer.html',\n",
        "'https://www.cancer.org/cancer/types/breast-cancer/screening-tests-and-early-detection/mammograms.html',\n",
        "'https://www.cancer.org/cancer/types/breast-cancer/screening-tests-and-early-detection/breast-ultrasound.html',\n",
        "'https://www.cancer.org/cancer/types/breast-cancer/screening-tests-and-early-detection/breast-mri-scans.html',\n",
        "'https://www.cancer.org/cancer/types/breast-cancer/screening-tests-and-early-detection/breast-cancer-signs-and-symptoms.html',\n",
        "'https://tmc.gov.in/ncg/docs/PDF/DraftGuidelines/Preventive/3_%20NCG_INDIA_Rev_Preventive%20Oncology_Primary_Care.pdf',\n",
        "'https://main.icmr.nic.in/sites/default/files/guidelines/Ovarian_Cancer.pdf'\n",
        "            ]"
      ],
      "metadata": {
        "id": "UrUQZmsDquJU"
      },
      "execution_count": null,
      "outputs": []
    },
    {
      "cell_type": "code",
      "source": [
        "from helper import extract_headings_and_content , word_wrap\n",
        "for i, url in enumerate(all_url, start=1):\n",
        "    result_message = extract_headings_and_content(url, i)\n",
        "    print(result_message)"
      ],
      "metadata": {
        "id": "t41HJY5I4LgI",
        "colab": {
          "base_uri": "https://localhost:8080/"
        },
        "outputId": "b80d8d40-642d-4516-d51e-b6fc9c19cc87"
      },
      "execution_count": null,
      "outputs": [
        {
          "output_type": "stream",
          "name": "stdout",
          "text": [
            "Extraction and saving successful for https://www.cancer.org/cancer/types/breast-cancer/screening-tests-and-early-detection.html. File saved as data/html_data/html_file_1.html\n",
            "Extraction and saving successful for https://www.cancer.org/cancer/types/breast-cancer/screening-tests-and-early-detection/american-cancer-society-recommendations-for-the-early-detection-of-breast-cancer.html. File saved as data/html_data/html_file_2.html\n",
            "Extraction and saving successful for https://www.cancer.org/cancer/types/breast-cancer/screening-tests-and-early-detection/mammograms.html. File saved as data/html_data/html_file_3.html\n",
            "Extraction and saving successful for https://www.cancer.org/cancer/types/breast-cancer/screening-tests-and-early-detection/breast-ultrasound.html. File saved as data/html_data/html_file_4.html\n",
            "Extraction and saving successful for https://www.cancer.org/cancer/types/breast-cancer/screening-tests-and-early-detection/breast-mri-scans.html. File saved as data/html_data/html_file_5.html\n",
            "Extraction and saving successful for https://www.cancer.org/cancer/types/breast-cancer/screening-tests-and-early-detection/breast-cancer-signs-and-symptoms.html. File saved as data/html_data/html_file_6.html\n",
            "Extraction and saving successful for https://tmc.gov.in/ncg/docs/PDF/DraftGuidelines/Preventive/3_%20NCG_INDIA_Rev_Preventive%20Oncology_Primary_Care.pdf. File saved as data/pdf_data/pdf_file_7.pdf\n",
            "Extraction and saving successful for https://main.icmr.nic.in/sites/default/files/guidelines/Ovarian_Cancer.pdf. File saved as data/pdf_data/pdf_file_8.pdf\n"
          ]
        }
      ]
    },
    {
      "cell_type": "markdown",
      "source": [
        "# **DATA TRANSFORMATION USING LANGCHAIN**"
      ],
      "metadata": {
        "id": "eO_38z9L82LS"
      }
    },
    {
      "cell_type": "code",
      "source": [
        "from langchain_community.document_loaders import PyPDFLoader , UnstructuredHTMLLoader\n",
        "from langchain.text_splitter import RecursiveCharacterTextSplitter , SentenceTransformersTokenTextSplitter\n",
        "import glob"
      ],
      "metadata": {
        "id": "Xzc7Qj5oYBRL"
      },
      "execution_count": null,
      "outputs": []
    },
    {
      "cell_type": "code",
      "source": [
        "\n",
        "\n",
        "base_path = '/content/data'\n",
        "\n",
        "# List all HTML files\n",
        "html_files = glob.glob(f\"{base_path}/html*/*.html\")\n",
        "\n",
        "# List all PDF files\n",
        "pdf_files = glob.glob(f\"{base_path}/pdf*/*.pdf\")\n",
        "\n",
        "\n",
        "all_results = [PyPDFLoader(file).load() if file.endswith(\".pdf\") else UnstructuredHTMLLoader(file).load() for file in pdf_files + html_files]\n",
        "\n"
      ],
      "metadata": {
        "id": "4nCsp8cbGR7V"
      },
      "execution_count": null,
      "outputs": []
    },
    {
      "cell_type": "code",
      "source": [
        "t = PyPDFLoader('/content/data/pdf_data/pdf_file_7.pdf').load()"
      ],
      "metadata": {
        "id": "V_1MoiZr7XjV"
      },
      "execution_count": null,
      "outputs": []
    },
    {
      "cell_type": "code",
      "source": [
        "t[0].metadata"
      ],
      "metadata": {
        "colab": {
          "base_uri": "https://localhost:8080/"
        },
        "id": "yoQzYkji7dTM",
        "outputId": "2fc55365-dcaf-43cb-ff06-b27545279f90"
      },
      "execution_count": null,
      "outputs": [
        {
          "output_type": "execute_result",
          "data": {
            "text/plain": [
              "{'source': '/content/data/pdf_data/pdf_file_7.pdf', 'page': 0}"
            ]
          },
          "metadata": {},
          "execution_count": 9
        }
      ]
    },
    {
      "cell_type": "code",
      "source": [
        "h = UnstructuredHTMLLoader('/content/data/html_data/html_file_1.html').load()"
      ],
      "metadata": {
        "id": "w5Efg1k_80Sj"
      },
      "execution_count": null,
      "outputs": []
    },
    {
      "cell_type": "code",
      "source": [
        "h[0].metadata"
      ],
      "metadata": {
        "colab": {
          "base_uri": "https://localhost:8080/"
        },
        "id": "-ggtm0c69Dcw",
        "outputId": "ae6173c1-96d9-46b7-cd02-ed1c47bb312c"
      },
      "execution_count": null,
      "outputs": [
        {
          "output_type": "execute_result",
          "data": {
            "text/plain": [
              "{'source': '/content/data/html_data/html_file_1.html'}"
            ]
          },
          "metadata": {},
          "execution_count": 11
        }
      ]
    },
    {
      "cell_type": "code",
      "source": [
        "total_pages = sum([len(i) for i in all_results ])\n",
        "total_pages"
      ],
      "metadata": {
        "colab": {
          "base_uri": "https://localhost:8080/"
        },
        "id": "fMuVsRcKBeo7",
        "outputId": "33afc933-0d81-43d0-d38c-20555231ff75"
      },
      "execution_count": null,
      "outputs": [
        {
          "output_type": "execute_result",
          "data": {
            "text/plain": [
              "107"
            ]
          },
          "metadata": {},
          "execution_count": 12
        }
      ]
    },
    {
      "cell_type": "code",
      "source": [
        "all_text_data = [j.page_content.strip() for i in all_results for j  in i]"
      ],
      "metadata": {
        "id": "aCheBKMHD6G-"
      },
      "execution_count": null,
      "outputs": []
    },
    {
      "cell_type": "code",
      "source": [
        "len(all_text_data)"
      ],
      "metadata": {
        "colab": {
          "base_uri": "https://localhost:8080/"
        },
        "id": "JRAeA1_eEk91",
        "outputId": "eb69162a-91e0-4d56-ebb0-96bc642087d0"
      },
      "execution_count": null,
      "outputs": [
        {
          "output_type": "execute_result",
          "data": {
            "text/plain": [
              "107"
            ]
          },
          "metadata": {},
          "execution_count": 14
        }
      ]
    },
    {
      "cell_type": "code",
      "source": [
        "all_text_data = [ i for i in all_text_data if i] # To exclude the blank pages"
      ],
      "metadata": {
        "id": "M0zj_oQpElBc"
      },
      "execution_count": null,
      "outputs": []
    },
    {
      "cell_type": "code",
      "source": [
        "len(all_text_data)"
      ],
      "metadata": {
        "colab": {
          "base_uri": "https://localhost:8080/"
        },
        "id": "OijspTiyExGI",
        "outputId": "e2942ebd-0504-42c8-c9b8-741867f37bdf"
      },
      "execution_count": null,
      "outputs": [
        {
          "output_type": "execute_result",
          "data": {
            "text/plain": [
              "102"
            ]
          },
          "metadata": {},
          "execution_count": 16
        }
      ]
    },
    {
      "cell_type": "code",
      "source": [
        "splitter_1 =  RecursiveCharacterTextSplitter(\n",
        "    separators= ['\\n\\n\\n\\n\\n','\\n\\n\\n\\n','\\n\\n\\n','\\n\\n','\\n','.',',',' '],\n",
        "    chunk_size = 1000 ,chunk_overlap = 100)\n",
        "\n",
        "splitter_2 = SentenceTransformersTokenTextSplitter(tokens_per_chunk=256,chunk_overlap=10)"
      ],
      "metadata": {
        "id": "Arp8boOxvI_W",
        "colab": {
          "base_uri": "https://localhost:8080/",
          "referenced_widgets": [
            "548b010fc5174571b635ebb112345081",
            "0a64c58d46fb4e9b9f22444823d3aa74",
            "0e0c1270f6b748019a462123f77cd8bf",
            "2a26c737a9524b948d2893ea2b30044b",
            "2495643eb4204852aa3363ec870df1e3",
            "8c4a52f6ace04529a1a3476d873efcd1",
            "c54dc6c286df459d9f378315bbcfb218",
            "17d66a44d4d14c0badac81e36d17a956",
            "a9f9e87c32464ec6b06cae1e403c94b9",
            "3bafa90963564f449731eab809bcd6e4",
            "e34ef9a5aca743bdaf1d5f4a8655682f",
            "d5912b9784e74f8c8df0ad1d8cffff52",
            "7338f51ee2744f8e90fad56574c516d1",
            "5ca93de71b0243ff8c948f06314ca609",
            "299b396b52fe4cb98dfd3f190b637600",
            "08c63722354d45b28eb8c94adc0ede11",
            "2e10b5c4aea745cb9bbe931e726a32d3",
            "f7445284f04149bbacf6bbe2db9a0a29",
            "294b170a1d0d444db3384b7afc12605f",
            "1628c25cc93c4134a46fc415c8410bf4",
            "07f6b008344a4dd08bb8740994b0e4f3",
            "7bf47da3f2e14b25848185230ddf8fdc",
            "1035491b49944746892b5562d0650c9e",
            "e33ec1401ba04ee4b15caf9ffb727345",
            "1ccd4da0f3ad42a2bfd79ab60edf0281",
            "7a9a500b49fa40eeb29ea7ad2f42da66",
            "0c8dd2deaa48464cabb27da5618ca069",
            "8ec819ab75f447cab46d666eba28d215",
            "6b6bd2f0745443efb632cb10024390fc",
            "9a4fbf1a18de4ab5b6fd0522836e3b18",
            "5eaa0ba0e4bb4500ad4785b4e39c8477",
            "c3306b0f2bab4f039b19cb3800367055",
            "65e63027610c4d24b56caa82d4cee2d0",
            "c2beb2cce1c74a42aa10b14521e9e6e1",
            "0be431fa74f6458bb9fe997e44762dea",
            "5d7761d14fa34ce2a4a909e595360fc2",
            "db42bbf2793f4f97be8da5284dc34033",
            "329b1236ccd74c30b9571c0fec8fc7f6",
            "3acda4a9694f47d8a82a57a99176d5c9",
            "98ad96a1c2b24d9cbea4b072a581488d",
            "05ca86e1f2554254a8b8791a171b23d3",
            "08749f4aee5e472389fd9b4ec5ea8c03",
            "696932830c3c4ce3822280ec1adb73ff",
            "cd837cebdd9b4e559c39bfc63b28f8e9",
            "6b34786095ba49f5a1de2ddedffb0c4c",
            "4cb7b2199691473ea2e0e8234b40f1d9",
            "a936011cbb1347f087d92c7ba289935f",
            "0c5c02142d5d40818103b6030e952ddc",
            "d2ca135809954cae8eac124b8cf7d88a",
            "3e4dc2be8a584195a79db22aa3b651a8",
            "c89c4d27a94347a7aa38569690f5ce88",
            "b8de5876ff0844e9b138105ef30fff02",
            "e17a7d78f3fa40b68bf86652e49b732e",
            "a751b21320e74d069e96eeaf0d15cbc7",
            "0ea967c0f1344bfb9d9ef1159cfafb9f",
            "149a3fb0821f46c5a4677971a59f1e0e",
            "7a841f4325364b81b016eb3ba4b6b053",
            "a987ada5112a43ea85506db077fefe2f",
            "ac430c7fa42a4fcc84f3136ca9475112",
            "4f5f079f1880446c8bbced87be940d5f",
            "91916ae155364fa890277239996bdae6",
            "fcb9a9e44fee4a4b9a21063ab7dff373",
            "4d4d021924554b6398798dc6df373fef",
            "81bb88bf64364be1b5375f7a9ba3d9b4",
            "ed5cd7fa870d48d6b4e53950ab9fb671",
            "d7eb655949fa4f8885cdffd53fb4df55",
            "cd91773e6c034841a9ded76a6b05edda",
            "9e54759697dd489e999e18bd9888c4b9",
            "a84553e37788485f9b2bf0e8718574c8",
            "afb7d5700f7d4cab817aa7bb51917228",
            "2146266d696c48eca4d8ad69b7d99fdd",
            "eeb4f9c6537a44b28007a6cf36019bbf",
            "403e931a27a6456d9dd9dfc91949857c",
            "f593c95eb5cc466dbc58972e10736b9b",
            "5dfbcfb07b7e41908abf4e56c4c72bd2",
            "61b6460acc634ee5b5f9520737cc3532",
            "2a419c273c44484eb17ef500993d1bdb",
            "798b9a6644794b2385b9f19c0f2e8915",
            "cdabad15d185460db3661cdf27a02bed",
            "e862f127c8554325bfdd06a1cb7c49e3",
            "2d1ad13fbf8f46aebc27617f42807f76",
            "ee2bc14778f945b8942576702b07e4d8",
            "c296f72599c9419ba1f28a9df9e18283",
            "758a0335dd5d40d08fafbac3192c0149",
            "e527edb6b57a4839b4a09378c568e70b",
            "3e46ad730ea147aa913687f1b980d7c1",
            "76e99f094bc24c76b1da8fee8e5567ee",
            "52becc238bb14b72b56f8c96c926fa8c",
            "873f7bea0f6e45d988bc8552c1f79d42",
            "b652a5bafd054bacbf78cb6addcb17b6",
            "f136b07f4fdf4f2a95ac4cdf8e762966",
            "c0a63049a17340d99d591f5e2ddceb5f",
            "e5fd7aeaf06e4cecac59ac64b65b2548",
            "a2b6fda3addf4d6c9b29aa3b44b90b32",
            "cf947367b3984480acaffce1a6aa5d59",
            "d674fc2b29b849c8b80ca770a2ca3ab7",
            "a9214eb9805945b59057ca213064d1a9",
            "b92eb515296a47dfbd845de38d5e5162",
            "cf3b60db39bb42039243d61d4f2c188a",
            "3e22ff0d8215418cac6683fcb62ade03",
            "c7238a67ee3245e08c142d6831d47c5c",
            "ded25146c3c04618b5e9555de96c7645",
            "62d7f860df0c4ff888e94c17f2dae618",
            "832b035a0c18491584b98468426dc02c",
            "1c66ccda287346f0a5b47db9e7162109",
            "3e3b308b86c0400fb1608c43e01e5cac",
            "d02c364c10dd4f8b86e349d1413f4628",
            "e32da526e0b54898b1d59b3e57e49aa5",
            "6aa13b4123f247c29ca4632dd62e84f0",
            "d027946ead4f430eb0331d76d7f915fe",
            "7b67c8bcba3f4dd1a3ba080d17d66216",
            "e04cf9aa3cab443fa07859d18c312602",
            "c43b35a6d524432eafec9b76d4366b79",
            "97ba186df77042edb85213ea8c5eaec9",
            "dbb2f1e195044ebb82b6832ee6ebee5f",
            "4605877616ec4d0aab1f8ff2cca51fb9",
            "183c1e363a754695a919721330749783",
            "54b2c286035b476ab7b3e05e69f66856",
            "f0a70ddeed8844f8b699613e8c24dd6b",
            "d0e9a471e3104166945e58e154b2cf5e",
            "3d9de67dee994a4b826ba58ae5e98f55"
          ]
        },
        "outputId": "6b16b57f-8757-44c6-87e8-f73bcaec2776"
      },
      "execution_count": null,
      "outputs": [
        {
          "output_type": "display_data",
          "data": {
            "text/plain": [
              "modules.json:   0%|          | 0.00/349 [00:00<?, ?B/s]"
            ],
            "application/vnd.jupyter.widget-view+json": {
              "version_major": 2,
              "version_minor": 0,
              "model_id": "548b010fc5174571b635ebb112345081"
            }
          },
          "metadata": {}
        },
        {
          "output_type": "display_data",
          "data": {
            "text/plain": [
              "config_sentence_transformers.json:   0%|          | 0.00/116 [00:00<?, ?B/s]"
            ],
            "application/vnd.jupyter.widget-view+json": {
              "version_major": 2,
              "version_minor": 0,
              "model_id": "d5912b9784e74f8c8df0ad1d8cffff52"
            }
          },
          "metadata": {}
        },
        {
          "output_type": "display_data",
          "data": {
            "text/plain": [
              "README.md:   0%|          | 0.00/10.6k [00:00<?, ?B/s]"
            ],
            "application/vnd.jupyter.widget-view+json": {
              "version_major": 2,
              "version_minor": 0,
              "model_id": "1035491b49944746892b5562d0650c9e"
            }
          },
          "metadata": {}
        },
        {
          "output_type": "display_data",
          "data": {
            "text/plain": [
              "sentence_bert_config.json:   0%|          | 0.00/53.0 [00:00<?, ?B/s]"
            ],
            "application/vnd.jupyter.widget-view+json": {
              "version_major": 2,
              "version_minor": 0,
              "model_id": "c2beb2cce1c74a42aa10b14521e9e6e1"
            }
          },
          "metadata": {}
        },
        {
          "output_type": "display_data",
          "data": {
            "text/plain": [
              "config.json:   0%|          | 0.00/571 [00:00<?, ?B/s]"
            ],
            "application/vnd.jupyter.widget-view+json": {
              "version_major": 2,
              "version_minor": 0,
              "model_id": "6b34786095ba49f5a1de2ddedffb0c4c"
            }
          },
          "metadata": {}
        },
        {
          "output_type": "display_data",
          "data": {
            "text/plain": [
              "pytorch_model.bin:   0%|          | 0.00/438M [00:00<?, ?B/s]"
            ],
            "application/vnd.jupyter.widget-view+json": {
              "version_major": 2,
              "version_minor": 0,
              "model_id": "149a3fb0821f46c5a4677971a59f1e0e"
            }
          },
          "metadata": {}
        },
        {
          "output_type": "stream",
          "name": "stderr",
          "text": [
            "/usr/local/lib/python3.10/dist-packages/torch/_utils.py:831: UserWarning: TypedStorage is deprecated. It will be removed in the future and UntypedStorage will be the only storage class. This should only matter to you if you are using storages directly.  To access UntypedStorage directly, use tensor.untyped_storage() instead of tensor.storage()\n",
            "  return self.fget.__get__(instance, owner)()\n"
          ]
        },
        {
          "output_type": "display_data",
          "data": {
            "text/plain": [
              "tokenizer_config.json:   0%|          | 0.00/363 [00:00<?, ?B/s]"
            ],
            "application/vnd.jupyter.widget-view+json": {
              "version_major": 2,
              "version_minor": 0,
              "model_id": "cd91773e6c034841a9ded76a6b05edda"
            }
          },
          "metadata": {}
        },
        {
          "output_type": "display_data",
          "data": {
            "text/plain": [
              "vocab.txt:   0%|          | 0.00/232k [00:00<?, ?B/s]"
            ],
            "application/vnd.jupyter.widget-view+json": {
              "version_major": 2,
              "version_minor": 0,
              "model_id": "798b9a6644794b2385b9f19c0f2e8915"
            }
          },
          "metadata": {}
        },
        {
          "output_type": "display_data",
          "data": {
            "text/plain": [
              "tokenizer.json:   0%|          | 0.00/466k [00:00<?, ?B/s]"
            ],
            "application/vnd.jupyter.widget-view+json": {
              "version_major": 2,
              "version_minor": 0,
              "model_id": "873f7bea0f6e45d988bc8552c1f79d42"
            }
          },
          "metadata": {}
        },
        {
          "output_type": "display_data",
          "data": {
            "text/plain": [
              "special_tokens_map.json:   0%|          | 0.00/239 [00:00<?, ?B/s]"
            ],
            "application/vnd.jupyter.widget-view+json": {
              "version_major": 2,
              "version_minor": 0,
              "model_id": "3e22ff0d8215418cac6683fcb62ade03"
            }
          },
          "metadata": {}
        },
        {
          "output_type": "display_data",
          "data": {
            "text/plain": [
              "1_Pooling/config.json:   0%|          | 0.00/190 [00:00<?, ?B/s]"
            ],
            "application/vnd.jupyter.widget-view+json": {
              "version_major": 2,
              "version_minor": 0,
              "model_id": "7b67c8bcba3f4dd1a3ba080d17d66216"
            }
          },
          "metadata": {}
        }
      ]
    },
    {
      "cell_type": "code",
      "source": [
        "prefinal_data = splitter_1.split_text('\\n'.join(all_text_data))\n",
        "len(prefinal_data)"
      ],
      "metadata": {
        "colab": {
          "base_uri": "https://localhost:8080/"
        },
        "id": "rzY58-t8JmlE",
        "outputId": "13375ce5-0d48-490d-b5a3-2d52e0a2bd66"
      },
      "execution_count": null,
      "outputs": [
        {
          "output_type": "execute_result",
          "data": {
            "text/plain": [
              "312"
            ]
          },
          "metadata": {},
          "execution_count": 18
        }
      ]
    },
    {
      "cell_type": "code",
      "source": [
        "final_data = []\n",
        "[final_data.extend(splitter_2.split_text(text)) for text in prefinal_data]\n",
        "\n",
        "len(final_data)"
      ],
      "metadata": {
        "colab": {
          "base_uri": "https://localhost:8080/"
        },
        "id": "f0aTQij4FJiu",
        "outputId": "eafa4cdb-0129-4fe8-ef6e-96ba26c7851b"
      },
      "execution_count": null,
      "outputs": [
        {
          "output_type": "execute_result",
          "data": {
            "text/plain": [
              "384"
            ]
          },
          "metadata": {},
          "execution_count": 19
        }
      ]
    },
    {
      "cell_type": "code",
      "source": [
        "prefinal_data[0]"
      ],
      "metadata": {
        "colab": {
          "base_uri": "https://localhost:8080/"
        },
        "id": "PYudNGo8yukF",
        "outputId": "f734e39f-7a83-4d90-fffa-66b1abca8635"
      },
      "execution_count": null,
      "outputs": [
        {
          "output_type": "execute_result",
          "data": {
            "text/plain": [
              "'National Cancer Grid: Resource Stratified Guidelines_2019/Preventive Oncology & Primary Care  \\n \\nPage1 NATION AL CANC ER GRID (NCG)  OF INDIA \\nTATA  MEMORIAL CENTER  \\n \\nCons ensus Evidence Based  Resource  Stratified  Guidelines on Seco ndary \\nprevention of Cervical  , Breast  & Oral Cancers \\n \\n   \\nNCG WORKING  GROUP    \\n \\nResource Stratified   guidelines  for Preventive Oncology and Primary Care.  \\n \\n \\nSUMMARY  \\n \\nRESOURCE -STRATIFIED CLINICAL PRACTICE GUIDELINE SUMMARY  \\n \\nThe National Cancer Grid (NCG)  formed in 2012 funded by the Govern ment of India through \\nthe Department of Atomic Energy, is among st the largest cancer networks in the world \\nform ed  with the  prim ary mandate of working towards  uniform standards of patient care \\nacross  India  by adopting  evidence-based  cancer preventi on, screening and manage ment \\nguidelines, which are implem entable across  the country. \\n \\n \\nRATIO NAL FOR  DEVELOPMENT OF RESOU RCE STRA TIFIED  GUIDELINES'"
            ],
            "application/vnd.google.colaboratory.intrinsic+json": {
              "type": "string"
            }
          },
          "metadata": {},
          "execution_count": 20
        }
      ]
    },
    {
      "cell_type": "code",
      "source": [
        "final_data[0]"
      ],
      "metadata": {
        "colab": {
          "base_uri": "https://localhost:8080/"
        },
        "id": "Om16llrQz8el",
        "outputId": "fdce89cf-a598-4495-a9e8-87d72e11c548"
      },
      "execution_count": null,
      "outputs": [
        {
          "output_type": "execute_result",
          "data": {
            "text/plain": [
              "'national cancer grid : resource stratified guidelines _ 2019 / preventive oncology & primary care page1 nation al canc er grid ( ncg ) of india tata memorial center cons ensus evidence based resource stratified guidelines on seco ndary prevention of cervical, breast & oral cancers ncg working group resource stratified guidelines for preventive oncology and primary care. summary resource - stratified clinical practice guideline summary the national cancer grid ( ncg ) formed in 2012 funded by the govern ment of india through the department of atomic energy, is among st the largest cancer networks in the world form ed with the prim ary mandate of working towards uniform standards of patient care across india by adopting evidence - based cancer preventi on, screening and manage ment guidelines, which are implem entable across the country. ratio nal for development of resou rce stra tified guidelines'"
            ],
            "application/vnd.google.colaboratory.intrinsic+json": {
              "type": "string"
            }
          },
          "metadata": {},
          "execution_count": 21
        }
      ]
    },
    {
      "cell_type": "markdown",
      "source": [
        "# **DATA LOADING**"
      ],
      "metadata": {
        "id": "MY9-TLHYaqS5"
      }
    },
    {
      "cell_type": "markdown",
      "source": [
        "## **Embedding : GooglePalmEmbeddings**"
      ],
      "metadata": {
        "id": "ZKvuiDZfb3Dl"
      }
    },
    {
      "cell_type": "code",
      "source": [
        "from langchain_community.embeddings import GooglePalmEmbeddings\n",
        "from google.colab import userdata\n",
        "PINECONE_API_KEY = userdata.get('PINECONE_API_KEY')\n",
        "GOOGLE_API_KEY = userdata.get('GOOGLE_API_KEY')"
      ],
      "metadata": {
        "id": "YvrIqfISdfD9"
      },
      "execution_count": null,
      "outputs": []
    },
    {
      "cell_type": "code",
      "source": [
        "emb = GooglePalmEmbeddings(model_name='models/embedding-gecko-001',google_api_key=GOOGLE_API_KEY)\n",
        "print(f\"Out put dimension: {len(emb.embed_query('Hi How are you?'))}\")"
      ],
      "metadata": {
        "colab": {
          "base_uri": "https://localhost:8080/",
          "height": 35
        },
        "id": "3lZXdAB3bvtT",
        "outputId": "234e62be-d920-4d88-c633-c4e834db584e"
      },
      "execution_count": null,
      "outputs": [
        {
          "output_type": "stream",
          "name": "stdout",
          "text": [
            "Out put dimension: 768\n"
          ]
        }
      ]
    },
    {
      "cell_type": "markdown",
      "source": [
        "## **Data Base : Pinecone Vector DB**"
      ],
      "metadata": {
        "id": "iLnrF4ByeXq9"
      }
    },
    {
      "cell_type": "code",
      "source": [
        "from pinecone import Pinecone, ServerlessSpec, PodSpec\n",
        "\n",
        "\n",
        "p = Pinecone(api_key= PINECONE_API_KEY)"
      ],
      "metadata": {
        "id": "liNRni2IeWpL"
      },
      "execution_count": null,
      "outputs": []
    },
    {
      "cell_type": "code",
      "source": [
        "# p.create_index('cancer-retrieval',\n",
        "#               dimension=768,\n",
        "#               metric='cosine',\n",
        "#               spec = PodSpec(environment='gcp-starter',\n",
        "#                              pod_type='starter',\n",
        "#                              pods = 1))\n",
        "# index =  p.Index('cancer-retrieval')"
      ],
      "metadata": {
        "id": "9W1ngoDGfj5s"
      },
      "execution_count": null,
      "outputs": []
    },
    {
      "cell_type": "code",
      "source": [
        "index =  p.Index('cancer-retrieval')"
      ],
      "metadata": {
        "id": "ssiNaNZSgr17"
      },
      "execution_count": null,
      "outputs": []
    },
    {
      "cell_type": "code",
      "source": [
        "index.describe_index_stats()"
      ],
      "metadata": {
        "colab": {
          "base_uri": "https://localhost:8080/"
        },
        "id": "HxZWJobjfmNS",
        "outputId": "083bb00c-6cc1-4780-d2c5-3e258d2532a4"
      },
      "execution_count": null,
      "outputs": [
        {
          "output_type": "execute_result",
          "data": {
            "text/plain": [
              "{'dimension': 768,\n",
              " 'index_fullness': 0.0,\n",
              " 'namespaces': {},\n",
              " 'total_vector_count': 0}"
            ]
          },
          "metadata": {},
          "execution_count": 23
        }
      ]
    },
    {
      "cell_type": "code",
      "source": [
        "total_vector = index.describe_index_stats()['total_vector_count']"
      ],
      "metadata": {
        "id": "3DulwHBvIUBI"
      },
      "execution_count": null,
      "outputs": []
    },
    {
      "cell_type": "code",
      "source": [
        "(final_data[200])"
      ],
      "metadata": {
        "colab": {
          "base_uri": "https://localhost:8080/",
          "height": 163
        },
        "id": "iGco0KTDhMPX",
        "outputId": "9720592b-430f-4971-c135-e88ce4cf6c85"
      },
      "execution_count": null,
      "outputs": [
        {
          "output_type": "execute_result",
          "data": {
            "text/plain": [
              "'survival among the study participants in both groups ( p =. 0001 ). in subset analysis, patients with stage iiic disease and metastatic tumour < 45 mm had better survival than those with stage iv disease or larger > 45 mm tumours. other significant prognostic factors included : histological type ( p =. 0003 ), largest tumor size at randomization ( p =. 0008 ) and disease stage ( iiic vs. iv ) ( p =. 0008 ). the results of this study provide support for the use of nact / interval surgery in advanced ovarian cancer, but do not detract from the need for optimal surgery since this was still the strongest predictor of outcome. many critics of the eortc study have cited better optimal reduction rates and pfs / os with primary debulking surgery ( pds ) from single institution american series, compared to the pds arm of eortc study, thereby questioning the quality of surgery in this trial ( 5 ) however, this trial only accrued higher risk'"
            ],
            "application/vnd.google.colaboratory.intrinsic+json": {
              "type": "string"
            }
          },
          "metadata": {},
          "execution_count": 27
        }
      ]
    },
    {
      "cell_type": "code",
      "source": [
        "embeddings = emb.embed_documents(final_data)"
      ],
      "metadata": {
        "id": "-A30QydpKveT"
      },
      "execution_count": null,
      "outputs": []
    },
    {
      "cell_type": "code",
      "source": [
        "final_db_data =[]\n",
        "for i,j in enumerate(final_data):\n",
        "  final_db_data.append({'id':str(total_vector + i),'values':embeddings[i],'metadata':{'text':j}})"
      ],
      "metadata": {
        "id": "MYMt-1ztHtdM"
      },
      "execution_count": null,
      "outputs": []
    },
    {
      "cell_type": "code",
      "source": [
        "index.upsert(final_db_data)"
      ],
      "metadata": {
        "colab": {
          "base_uri": "https://localhost:8080/"
        },
        "id": "Uorp8t31M9Kx",
        "outputId": "07bfebd5-c68d-4c28-fc02-d310f0f40769"
      },
      "execution_count": null,
      "outputs": [
        {
          "output_type": "execute_result",
          "data": {
            "text/plain": [
              "{'upserted_count': 385}"
            ]
          },
          "metadata": {},
          "execution_count": 43
        }
      ]
    },
    {
      "cell_type": "code",
      "source": [
        "index.describe_index_stats()"
      ],
      "metadata": {
        "id": "4CarPve-M-Vw",
        "colab": {
          "base_uri": "https://localhost:8080/"
        },
        "outputId": "8dd8997a-506b-43ae-9c76-a0d871e1c0ab"
      },
      "execution_count": null,
      "outputs": [
        {
          "output_type": "execute_result",
          "data": {
            "text/plain": [
              "{'dimension': 768,\n",
              " 'index_fullness': 0.00385,\n",
              " 'namespaces': {'': {'vector_count': 385}},\n",
              " 'total_vector_count': 385}"
            ]
          },
          "metadata": {},
          "execution_count": 44
        }
      ]
    },
    {
      "cell_type": "code",
      "source": [],
      "metadata": {
        "id": "xrKAPGPtP0hx"
      },
      "execution_count": null,
      "outputs": []
    },
    {
      "cell_type": "markdown",
      "source": [
        "# **DATA VERIFICATION AFTER LOADING**"
      ],
      "metadata": {
        "id": "oIzPgduJe9RS"
      }
    },
    {
      "cell_type": "code",
      "source": [
        "from langchain_community.embeddings import GooglePalmEmbeddings\n",
        "from google.colab import userdata\n",
        "from pinecone import Pinecone\n",
        "\n",
        "PINECONE_API_KEY = userdata.get('PINECONE_API_KEY')\n",
        "GOOGLE_API_KEY = userdata.get('GOOGLE_API_KEY')\n",
        "\n",
        "p = Pinecone(api_key=PINECONE_API_KEY)\n",
        "index = p.Index('cancer-retrieval')"
      ],
      "metadata": {
        "id": "kIyoCUI4fVbq"
      },
      "execution_count": null,
      "outputs": []
    },
    {
      "cell_type": "code",
      "source": [
        "index.describe_index_stats()"
      ],
      "metadata": {
        "colab": {
          "base_uri": "https://localhost:8080/"
        },
        "id": "6C9fVGoAgNOh",
        "outputId": "eb43aadc-14ca-479c-8e51-da702b55e042"
      },
      "execution_count": null,
      "outputs": [
        {
          "output_type": "execute_result",
          "data": {
            "text/plain": [
              "{'dimension': 768,\n",
              " 'index_fullness': 0.00385,\n",
              " 'namespaces': {'': {'vector_count': 385}},\n",
              " 'total_vector_count': 385}"
            ]
          },
          "metadata": {},
          "execution_count": 4
        }
      ]
    },
    {
      "cell_type": "code",
      "source": [
        "query = ' Oral Cancer?'\n",
        "embed = emb.embed_query(query)\n",
        "res = index.query(vector=embed, top_k=15, include_metadata=True)\n",
        "text = [r['metadata']['text'] for r in res['matches']]\n",
        "print(word_wrap('\\n'.join(text)))\n",
        "\n"
      ],
      "metadata": {
        "id": "TqE8Y9Z4gfGy"
      },
      "execution_count": null,
      "outputs": []
    },
    {
      "cell_type": "markdown",
      "source": [
        "# **LLM IMPLEMENTATION (GOOGLE GEMINI PRO)**"
      ],
      "metadata": {
        "id": "bFaqVR1aiNWc"
      }
    },
    {
      "cell_type": "code",
      "source": [
        "import langchain\n",
        "from langchain_google_genai import ChatGoogleGenerativeAI\n",
        "\n",
        "temperature = 0.1\n",
        "# max_tokens = 500\n",
        "# Create a ChatGoogleGenerativeAI instance for Gemini\n",
        "llm = ChatGoogleGenerativeAI(\n",
        "    model=\"gemini-pro\",\n",
        "    google_api_key= GOOGLE_API_KEY, temperature=temperature\n",
        ")\n"
      ],
      "metadata": {
        "id": "MnTRBVIAiYQx"
      },
      "execution_count": null,
      "outputs": []
    },
    {
      "cell_type": "markdown",
      "source": [
        "## **Prompt Construction**"
      ],
      "metadata": {
        "id": "K92JR1ldildg"
      }
    },
    {
      "cell_type": "code",
      "source": [
        "query = ' Oral Cancer?'\n",
        "embed = emb.embed_query(query)\n",
        "res = index.query(vector=embed, top_k=15, include_metadata=True)\n",
        "text = [r['metadata']['text'] for r in res['matches']]\n",
        "context = '\\n'.join(text)\n",
        "prompt = f'''You are an expert health care CANCER information provider specifically  Cervical , Breast, Oral ,Ovarian related Cancers.\n",
        "You will also be given CONTEXT based on this context you have to answer or give brief summary about the question.\n",
        "Make sure you should not give false or Hallucinate or give answer randomly , answer should be combination of your true knowledge and context given.\n",
        "question Is:{query}\n",
        "Context Is:{context}\n",
        "'''\n",
        "\n",
        "\n",
        "prompt = prompt\n",
        "\n",
        "\n",
        "\n",
        "# Send the prompt to Gemini and get the response\n",
        "response = llm.invoke( prompt)\n",
        "\n"
      ],
      "metadata": {
        "id": "yRvQUu0fiuwu"
      },
      "execution_count": null,
      "outputs": []
    },
    {
      "cell_type": "code",
      "source": [
        "response"
      ],
      "metadata": {
        "colab": {
          "base_uri": "https://localhost:8080/"
        },
        "id": "GoW9l2qUmeYw",
        "outputId": "88ab40c2-a59f-4afd-bade-2f8708a90b2c"
      },
      "execution_count": null,
      "outputs": [
        {
          "output_type": "execute_result",
          "data": {
            "text/plain": [
              "AIMessage(content='question: What is Oral Cancer?\\nAnswer: Oral cancer is an important public health problem with increasing incidence and late - stage presentation.\\nContext: Oral cancer is an important public health problem with increasing incidence and late - stage prese ntation. cancers of the mouth, pharynx and larynx taken together are the seventh most commonly occurring type of cancer worldwide.')"
            ]
          },
          "metadata": {},
          "execution_count": 72
        }
      ]
    },
    {
      "cell_type": "code",
      "source": [
        "print(word_wrap(response.content))"
      ],
      "metadata": {
        "colab": {
          "base_uri": "https://localhost:8080/"
        },
        "id": "L69B0pvnme3y",
        "outputId": "a39f08f4-a539-4ff2-fa79-0dac98943859"
      },
      "execution_count": null,
      "outputs": [
        {
          "output_type": "stream",
          "name": "stdout",
          "text": [
            "question: Oral Cancer?\n",
            "Answer: Oral cancer is an important public\n",
            "health problem with increasing incidence and late-stage presentation.\n",
            "Cancers of the mouth, pharynx, and larynx taken together are the\n",
            "seventh most commonly occurring type of cancer worldwide. India\n",
            "reported lip, oral cavity cancer at ASIR of 9.1 for both sexes combined\n",
            "and 13.9 for men. Oral cancer thus accounts as the highest incidence of\n",
            "malignancy in males and the second highest in females in India.\n",
            "Smoking, alcohol use, smokeless tobacco use, and HPV infection are the\n",
            "major risk factors for oral cavity cancer.\n",
            "Context: and neck cancer\n",
            "epidemiology consortium. cancer epidem iol biomar kers prev. 20 09 ; 18\n",
            ": 541 - 550. 3. wen cp, tsai mk, chung ws, et al. cancer risks from\n",
            "betel quid chewing beyond oral cancer : a multiple - site carcinogen\n",
            "when acting with smo king. cancer causes control. 2010 ; 21 : 1427 -\n",
            "1435. 4. kreimer ar, clifford gm, boyle p, franceschi s. human\n",
            "papillomavi rus types in head and neck squamous cell carcinomas\n",
            "worldwide : a systematic review. cancer epidemiol biomar kers prev 2005\n",
            "; 14 : 467 – 475. 5. r. sankaranaraya nan. screening for cancer in low\n",
            "- and middle - income countries. annals of global health 2014 ; 80 :\n",
            "412 - 417 6. screeni ng for oral cancer and prec ancer. a report of the\n",
            "uk wor king group on screeni ng for oral cancer and precancer.\n",
            "community dental health 1993 ; 10 : 1 - 89 7. war nakulasuriya s,\n",
            "pindborg jj. reliability of oral precancer screening by primary heal th\n",
            "care workers\n",
            "histopathology : negative histopatholoy : moderate /\n",
            "severe dysplasia / malignancy referral to a tertiary care centre for\n",
            "further management 6 - 12 months follow up for lesion status / confirm\n",
            "tobacco cessation no change / progression regression 24 national cancer\n",
            "grid : resource stratified guidelines _ 2019 / preventive oncology\n",
            "page24 references : oral cancer screening 1. ferlay j, colombet m,\n",
            "soerjomataram i, mathers c, parkin dm, pineros m, zn aor a, bray f.\n",
            "estim ating the global ca ncer incidence and mortality in 2018 :\n",
            "globocan sources and met hods. int j cancer. 2018 oct 23. doi : 10.\n",
            "1002 / ijc. 31937 2. hashibe m, brennan p, chuang sc, et al.\n",
            "interaction between tobacco and alcohol use and the risk of head and\n",
            "neck cancer : pooled analysis in the international head and neck cancer\n",
            "epidemiology consortium. cancer epidem iol biomar kers prev. 20 09 ; 18\n",
            ": 541 - 550.\n",
            "23 national cancer grid : resource stratified guidelines _\n",
            "2019 / preventive oncology page23 chart : oral cancer screening high\n",
            "risk population based screening at risk population : use of tobacco /\n",
            "alcohol / areca nut / mixed use ( all age groups ) oral cancer\n",
            "screening by oral visual inspection ( ovi ) at sc / phc screen positive\n",
            "criteria : 1. leucoplakia 2. erythroplakia 3. oral submucous fibrosis\n",
            "4. non healing ulcers 5. suspicious cancerous growth in oral cavity ovi\n",
            "negative ovi positive counselling for tobacco cessation evaluation by\n",
            "doctor at phc / chc ( including dentist ) ovi negative normal findings\n",
            "potentially malignant lesion / malignant lesion counselling for tobacco\n",
            "/ alcohol cessation by primary healthcare worker / ncd nurse diagnosis\n",
            "by oral punch / excision biopsy at chc / dh return to routine screening\n",
            "at 3 – 5 years histopathology : negative histopatholoy : moderate /\n",
            "severe dysplasia / malignancy\n",
            "smo king, alcohol use, smokeless tobacco\n",
            "use, and hpv infection are the major risk factors for oral cavity\n",
            "cancer. smo keless tobacco products and betel quid with or without toba\n",
            "cco are the major risk factors for oral cavity cancer in india and\n",
            "other neighbouring countries. human papillomavir us ( hpv ) has been\n",
            "shown to be another independent risk factor for oral squam ous cell\n",
            "carcino mas ( oscc ) of the base of the tongue, tonsils, pharynx, and\n",
            "laryn x. despite the general accessibility of the oral cavity during\n",
            "physical examination, many malig nancies are not diagnosed until late\n",
            "stages of diseas e. early detection of oral cancer and their precursors\n",
            "is the key to reducing the high mortal ity rate attributable to oral\n",
            "cancer. oral cancer screening the screening tests or diagnos tic aids\n",
            "used to improve early detection and diag nosis of oral precancers and\n",
            "cancers which are avail able for oral cancer, some of which have\n",
            "been\n",
            "19. lord sj, lei w, craft p, et al. a systematic review of the\n",
            "effectiveness of magnetic resonance ima ging ( mri ) as an addition to\n",
            "mammography and ultraso und in screening young women at high risk of\n",
            "breast cancer. eur j ca ncer 2007 ; 43, 13 : 1905 - 17. 20 national\n",
            "cancer grid : resource stratified guidelines _ 2019 / preventive\n",
            "oncology page28 oral canc er scre ening oral cancer is an important\n",
            "public health problem with increasing incidence and late - stage prese\n",
            "ntation. cancers of the mouth, pharynx and larynx taken together are\n",
            "the seventh most commonly occurring type of cancer worldwide. india\n",
            "reported lip, oral cavity cancer at asir of 9. 1 for both sexes combine\n",
            "a n d 1 3. 9 for men. oral cancer thus accounts as the highest\n",
            "incidence of malign ancy in males and the second highest in females in\n",
            "india. smo king, alcohol use, smokeless tobacco use, and hpv infection\n",
            "are the major risk factors for\n",
            "precancers and cancers which are avail\n",
            "able for oral cancer, some of which have been practi ced and studied\n",
            "for many years while others have recently become comm ercially availa\n",
            "ble include oral visual exam ination, exfoliative cytology, vital\n",
            "tissue staining ( toluidine blue, methylene blue ), visuali zation\n",
            "adjuncts ( vizilite plus with tblue, vizilite, microlux dl, oras coptic\n",
            "dk, velsc ope ), and oral cdx brush biopsy. oral visual inspection (\n",
            "0vi ) a conventional oral visual inspecti on ( 0vi ) of the oral\n",
            "cavity, using normal ( incan desce nt ) light, has long been the\n",
            "standard method for oral cancer screening. the uk working group on 21\n",
            "national cancer grid : resource stratified guidelines _ 2019 /\n",
            "preventive oncology page21 screening for oral cancer and precancer in\n",
            "1990's had concluded that the most suitable screening for oral cancer\n",
            "and precancer is a thorough and methodical examination in good\n",
            "25\n",
            "national cancer grid : resource stratified guidelines _ 2019 /\n",
            "preventive oncology page25 16. mehrotra r, singh mk, pandya s, singh m.\n",
            "the use of an oral brush biopsy without compu ter - assisted analysis\n",
            "in the evaluation of oral lesions : a study of 94 patients. oral surg\n",
            "oral med oral pathol oral radiol endod 2008 ; 106 : 246 - 53. 17.\n",
            "elango kj, anandkrishnan n, suresh a et al. mouth self - exami nation\n",
            "to improve oral cancer awareness and early detection in a high - risk\n",
            "population. oral oncol. 2011 ; 47 : 620 - 4. 18. epstein jb, guneri p.\n",
            "the adjunctive role of toluidine blue in detecti on of oral premali\n",
            "gnant and mali gnant lesions. curr opin otolaryng ol head neck surg.\n",
            "2009 ; 17 : 79 - 87. 19. chen, y. w., j. s. lin, j. h. j. fong et al.\n",
            "use of methylene blue as a diagnostic aid in early detection of oral\n",
            "cancer and precancerous lesions. br j oral max illofac surg 2007 ; 45\n",
            ":\n",
            "early findings from a community - based, cluster - randomized,\n",
            "controlled oral cancer screening trial in kerala, india. the triva\n",
            "ndrum oral cancer screen ing study group. cancer 2000 ; 88 : 664 – 73\n",
            "12. sankaranaray anan r, ramadas k, thomas g, et al. effect of\n",
            "screening on oral cancer mortality in kerala, india : a cluster\n",
            "randomised controlled trial. lancet 2005 ; 365 : 1927e33. 13. subram\n",
            "anian s, sankaranaraya nan r, bapat b, et al. cost - effectiveness of\n",
            "oral cancer screening : results from a cluster randomi zed controlled\n",
            "trial in india. bull world health organ 2009 ; 87 : 200e6. 14. eisen d,\n",
            "frist s. the relevance of the high positive predictive value of the\n",
            "oral brush biopsy. oral oncol 2005 ; 41 : 753 – 5. 15. scully c, bagan\n",
            "jv, hopper c, epstein jb. oral cancer : current and future diagnostic\n",
            "techn iques. am j dent. 2008 ;\n"
          ]
        }
      ]
    },
    {
      "cell_type": "markdown",
      "source": [
        "# **LANGCHAIN EXPRESSION LANGUAGE**"
      ],
      "metadata": {
        "id": "ow8hHOO_rB1N"
      }
    },
    {
      "cell_type": "code",
      "source": [
        "from langchain_pinecone import PineconeVectorStore\n",
        "from langchain_community.embeddings import GooglePalmEmbeddings\n",
        "from google.colab import userdata\n",
        "from langchain_google_genai import ChatGoogleGenerativeAI\n",
        "\n",
        "PINECONE_API_KEY = userdata.get('PINECONE_API_KEY')\n",
        "GOOGLE_API_KEY = userdata.get('GOOGLE_API_KEY')\n"
      ],
      "metadata": {
        "id": "lv-eUCIerKT5"
      },
      "execution_count": null,
      "outputs": []
    },
    {
      "cell_type": "code",
      "source": [
        "llm = ChatGoogleGenerativeAI(model='gemini-pro',google_api_key=GOOGLE_API_KEY,convert_system_message_to_human=True)\n",
        "emb = GooglePalmEmbeddings(google_api_key=GOOGLE_API_KEY)\n",
        "retriever = PineconeVectorStore(index_name='cancer-retrieval',embedding=emb,pinecone_api_key=PINECONE_API_KEY).as_retriever()"
      ],
      "metadata": {
        "id": "lu0tMZREORix"
      },
      "execution_count": null,
      "outputs": []
    },
    {
      "cell_type": "code",
      "source": [
        "from langchain_core.prompts import PromptTemplate\n",
        "from langchain_core.runnables import RunnablePassthrough\n",
        "from langchain_core.output_parsers import StrOutputParser\n",
        "\n",
        "prompt = '''You are an expert health care CANCER information provider specifically  Cervical , Breast, Oral ,Ovarian related Cancers.\n",
        "You will also be given CONTEXT based on this context you have to answer or give brief summary about the question.\n",
        "Make sure you should not give false or Hallucinate or give answer randomly , answer should be combination of your true knowledge and context given.\n",
        "question Is:{query}\n",
        "Context Is:{context}\n",
        "answer:'''"
      ],
      "metadata": {
        "id": "Nk3y4YFvRsuE"
      },
      "execution_count": null,
      "outputs": []
    },
    {
      "cell_type": "code",
      "source": [
        "chain = (\n",
        "    {\"context\": retriever, \"query\": RunnablePassthrough()}\n",
        "    | PromptTemplate.from_template(prompt)\n",
        "    | llm\n",
        "    | StrOutputParser()\n",
        ")\n"
      ],
      "metadata": {
        "id": "MGqQtzzvOmRw"
      },
      "execution_count": null,
      "outputs": []
    },
    {
      "cell_type": "code",
      "source": [
        "chain.invoke('What is Oral Cancer?')"
      ],
      "metadata": {
        "colab": {
          "base_uri": "https://localhost:8080/",
          "height": 90
        },
        "id": "RMNtLC6JTlnr",
        "outputId": "5c2c3a1b-359f-4385-ff87-2e124a860d4e"
      },
      "execution_count": null,
      "outputs": [
        {
          "output_type": "execute_result",
          "data": {
            "text/plain": [
              "'Oral cancer is a type of cancer that develops in the oral cavity, which includes the lips, tongue, cheeks, gums, and floor of the mouth. It is the sixth most common type of cancer worldwide, and is more common in men than in women. The main risk factors for oral cancer are tobacco use, alcohol consumption, and human papillomavirus (HPV) infection. Oral cancer can be treated with surgery, radiation therapy, chemotherapy, and targeted therapy.'"
            ],
            "application/vnd.google.colaboratory.intrinsic+json": {
              "type": "string"
            }
          },
          "metadata": {},
          "execution_count": 21
        }
      ]
    },
    {
      "cell_type": "code",
      "source": [
        "llm.invoke('What is Oral Cancer?')"
      ],
      "metadata": {
        "id": "rheq5aJnTss0",
        "colab": {
          "base_uri": "https://localhost:8080/",
          "height": 382
        },
        "outputId": "9b441ec7-04ca-471e-fa53-24f6ad562e47"
      },
      "execution_count": null,
      "outputs": [
        {
          "output_type": "execute_result",
          "data": {
            "text/plain": [
              "AIMessage(content='**Oral Cancer**\\n\\nOral cancer is a malignant disease that develops in the tissues of the mouth and oropharynx (the area at the back of the mouth, including the tonsils and base of the tongue).\\n\\n**Types of Oral Cancer:**\\n\\n* **Squamous cell carcinoma:** The most common type of oral cancer, accounting for over 90% of cases.\\n* **Adenocarcinoma:** Cancer that develops in the salivary glands.\\n* **Melanoma:** Cancer that develops in the pigment-producing cells of the mouth.\\n* **Sarcoma:** Cancer that develops in the connective tissues of the mouth.\\n\\n**Risk Factors:**\\n\\n* **Tobacco use:** Smoking, chewing tobacco, and smokeless tobacco increase the risk significantly.\\n* **Alcohol consumption:** Excessive alcohol intake can irritate the lining of the mouth and increase the risk of cancer.\\n* **Human papillomavirus (HPV) infection:** Certain strains of HPV, particularly HPV-16 and HPV-18, are associated with an increased risk of oral cancer.\\n* **Poor oral hygiene:** Gum disease, tooth decay, and ill-fitting dentures can create chronic irritation and inflammation, increasing the risk of cancer.\\n* **Ultraviolet (UV) radiation:** Excessive sun exposure can increase the risk of oral cancer on the lips.\\n* **Genetics:** Some genetic mutations can increase the susceptibility to oral cancer.\\n* **Certain medical conditions:** Conditions that suppress the immune system, such as HIV/AIDS, can increase the risk.\\n\\n**Symptoms:**\\n\\n* Persistent mouth sores or lumps that do not heal\\n* Red or white patches in the mouth\\n* Difficulty swallowing or chewing\\n* Numbness or pain in the mouth\\n* Swelling in the face or neck\\n* Changes in voice or speech\\n\\n**Diagnosis:**\\n\\n* Physical examination of the mouth and throat\\n* Biopsy (removing a small sample of tissue for examination under a microscope)\\n* Imaging tests, such as X-rays, CT scans, or MRI scans\\n\\n**Treatment:**\\n\\nTreatment options for oral cancer depend on the stage and location of the cancer. Common treatments include:\\n\\n* Surgery to remove the cancerous tissue\\n* Radiation therapy to kill cancer cells\\n* Chemotherapy to shrink the tumor or kill cancer cells that have spread\\n* Targeted therapy to block specific molecules involved in cancer growth\\n* Immunotherapy to stimulate the immune system to fight the cancer\\n\\n**Prevention:**\\n\\n* Quitting tobacco use\\n* Limiting alcohol intake\\n* Maintaining good oral hygiene\\n* Getting vaccinated against HPV\\n* Avoiding excessive sun exposure on the lips\\n* Regular dental check-ups')"
            ]
          },
          "metadata": {},
          "execution_count": 22
        }
      ]
    },
    {
      "cell_type": "markdown",
      "source": [
        "# **RESULT EVALUATION**"
      ],
      "metadata": {
        "id": "ZOnw_rHskpLT"
      }
    },
    {
      "cell_type": "markdown",
      "source": [
        "## **Using Langchain QAGenerateChain**\n",
        "\n",
        "> **have to pass the whole data to LLM to generate question and answer, llm use is maximum with this process , aditional token cost**"
      ],
      "metadata": {
        "id": "Ib23SMJee1Sn"
      }
    },
    {
      "cell_type": "code",
      "source": [
        "from langchain.evaluation.qa import QAGenerateChain\n",
        "from langchain.chains import RetrievalQA\n",
        "example_gen_chain = QAGenerateChain.from_llm(llm)"
      ],
      "metadata": {
        "id": "UBqWijS2F5Od"
      },
      "execution_count": null,
      "outputs": []
    },
    {
      "cell_type": "code",
      "source": [
        "\n",
        "new_examples = example_gen_chain.apply_and_parse(\n",
        "    [{\"doc\": t} for t in final_data[:10]]\n",
        ")\n"
      ],
      "metadata": {
        "id": "nFrej6aoF9Em"
      },
      "execution_count": null,
      "outputs": []
    },
    {
      "cell_type": "code",
      "source": [
        "# new_examples = [i['qa_pairs'] for i in new_examples]\n",
        "new_examples[:9]"
      ],
      "metadata": {
        "id": "aOP0fSA1a9PP",
        "colab": {
          "base_uri": "https://localhost:8080/"
        },
        "outputId": "a1342a4f-6c14-40b4-d9a9-8f85daa2ad2f"
      },
      "execution_count": null,
      "outputs": [
        {
          "output_type": "execute_result",
          "data": {
            "text/plain": [
              "[{'query': 'What is the primary mandate of the National Cancer Grid (NCG) in India?',\n",
              "  'answer': 'The primary mandate of the National Cancer Grid (NCG) in India is to work towards uniform standards of patient care across India by adopting evidence-based cancer prevention, screening, and management guidelines that can be implemented across the country.'},\n",
              " {'query': 'What are some of the challenges associated with adopting and implementing screening guidelines for oral, breast, and cervical cancers in LMIC settings?',\n",
              "  'answer': 'Some of the challenges associated with adopting and implementing screening guidelines for oral, breast, and cervical cancers in LMIC settings include large disparities and variations in the availability and access to healthcare resources. These challenges pose unique problems, such as the cost of administration, training of manpower, access to screening facilities, follow-up management, and adequate linkages for confirmatory diagnosis and subsequent treatment.'},\n",
              " {'query': 'What is the main objective of the National Cancer Grid (NCG) in India?',\n",
              "  'answer': 'The National Cancer Grid (NCG) aims to provide evidence-based resource-stratified guidelines for cancer control in India. This includes developing screening, diagnosis, and management protocols for common cancers that are suitable for different levels of health resource settings, considering the complexities involved in delivering population-based cancer screening programs and the diversity of health system capabilities within different regions in India.'},\n",
              " {'query': 'What are the primary screening methods for secondary prevention of cervical cancer, as per the National Cancer Grid (NCG) India guidelines?',\n",
              "  'answer': 'The primary screening methods for secondary prevention of cervical cancer, according to the NCG India guidelines, are:'},\n",
              " {'query': 'What are the different methods used for cervical cancer screening, and where are these screenings typically conducted?',\n",
              "  'answer': 'The methods used for cervical cancer screening include visual inspection with acetic acid (VIA) and human papillomavirus (HPV) DNA testing. These screenings are typically conducted at health & wellness centers, primary health centers (PHC), community health centers (CHC), district hospitals (DH), and private health care facilities.'},\n",
              " {'query': 'What is the recommended follow-up for women with negative results from triage and diagnostic steps?',\n",
              "  'answer': 'Follow-up in 12 months.'},\n",
              " {'query': 'What are the recommended follow-up intervals after undergoing Loop Electrosurgical Excision Procedure (LEEP)?',\n",
              "  'answer': 'Follow-up is recommended at one month and twelve months post-treatment for all settings.'},\n",
              " {'query': 'In what settings is conventional digital mammography available for screening?',\n",
              "  'answer': 'Conventional digital mammography is available for screening in primary health centers (PHC), community health centers (CHC), district hospitals (DH), and tertiary health care settings. It is also available in private health care facilities if mammography facilities are available.'},\n",
              " {'query': 'According to the document, what is the recommended frequency of mammography screening for women who are 75 years of age or older?',\n",
              "  'answer': 'For women aged 75 or older, the document recommends exiting screening.'}]"
            ]
          },
          "metadata": {},
          "execution_count": 28
        }
      ]
    },
    {
      "cell_type": "code",
      "source": [
        "qa_stuff = RetrievalQA.from_chain_type(\n",
        "    llm=llm,\n",
        "    chain_type=\"stuff\",\n",
        "    retriever=retriever,\n",
        "    verbose=True\n",
        ")"
      ],
      "metadata": {
        "id": "pVJZBRJcGuvk"
      },
      "execution_count": null,
      "outputs": []
    },
    {
      "cell_type": "code",
      "source": [
        "qa_refine = RetrievalQA.from_chain_type(\n",
        "    llm=llm,\n",
        "    chain_type=\"refine\",\n",
        "    retriever=retriever,\n",
        "    verbose=True\n",
        ")"
      ],
      "metadata": {
        "id": "8kGuEngDHCx8"
      },
      "execution_count": null,
      "outputs": []
    },
    {
      "cell_type": "code",
      "source": [
        "predictions_stuff = qa_stuff.batch(new_examples)\n",
        "predictions_refine = qa_refine.batch(new_examples)"
      ],
      "metadata": {
        "id": "m-RQNt1cHQas"
      },
      "execution_count": null,
      "outputs": []
    },
    {
      "cell_type": "code",
      "source": [
        "from langchain.evaluation.qa import QAEvalChain\n",
        "eval_chain = QAEvalChain.from_llm(llm)\n",
        "graded_outputs_stuff = eval_chain.evaluate(new_examples, predictions_stuff)\n",
        "graded_outputs_refine = eval_chain.evaluate(new_examples, predictions_refine)"
      ],
      "metadata": {
        "id": "fFCYjenEHTY3"
      },
      "execution_count": null,
      "outputs": []
    },
    {
      "cell_type": "code",
      "source": [
        "for i, eg in enumerate(new_examples):\n",
        "    print(f\"Example {i}:\")\n",
        "    print(\"Question: \" + predictions_stuff[i]['query'])\n",
        "    print(\"Real Answer: \" + predictions_stuff[i]['answer'])\n",
        "    print(\"Predicted Answer: \" + predictions_stuff[i]['result'])\n",
        "    print(\"Predicted Grade: \" + graded_outputs_stuff[i]['results'])\n",
        "    print('*'*20)\n",
        "    if i == 5:\n",
        "      break\n"
      ],
      "metadata": {
        "id": "CtISHC9RHbVy",
        "colab": {
          "base_uri": "https://localhost:8080/"
        },
        "outputId": "99864c5e-aff8-4e92-8441-c185e0d92994"
      },
      "execution_count": null,
      "outputs": [
        {
          "output_type": "stream",
          "name": "stdout",
          "text": [
            "Example 0:\n",
            "Question: Who is the head of the Publication & Information department responsible for this document?\n",
            "Real Answer: Dr. Neeraj Tandon\n",
            "Predicted Answer: I cannot find the answer to your question in the context you provided.\n",
            "Predicted Grade: CORRECT\n",
            "********************\n",
            "Example 1:\n",
            "Question: What is the purpose of the consensus document for the management of epithelial ovarian cancer?\n",
            "Real Answer: The consensus document aims to provide clear, consistent, succinct, and evidence-based guidance for clinicians in managing epithelial ovarian cancer. It serves as a reference for healthcare professionals to make informed decisions regarding the diagnosis, treatment, and follow-up care of patients with this type of cancer.\n",
            "Predicted Answer: The purpose of the consensus document for the management of epithelial ovarian cancer is to provide clear, consistent, succinct, evidence-based guidance for the management of epithelial ovarian cancer.\n",
            "Predicted Grade: CORRECT\n",
            "********************\n",
            "Example 2:\n",
            "Question: What is the primary purpose of the consensus document referenced in the text?\n",
            "Real Answer: The primary purpose of the consensus document is to provide clear, consistent, succinct, and evidence-based guidance for the management of various cancers, including epithelial ovarian cancer.\n",
            "Predicted Answer: The primary purpose of the consensus document is to provide clear, consistent, succinct, and evidence-based guidance for the management of various cancers, including epithelial ovarian cancer.\n",
            "Predicted Grade: CORRECT\n",
            "********************\n",
            "Example 3:\n",
            "Question: What is the purpose of this document?\n",
            "Real Answer: The purpose of this document is to serve as a consensus document for the management of epithelial ovarian cancer, providing guidance to clinicians in complex decision-making.\n",
            "Predicted Answer: The purpose of this document is to provide clear, consistent, succinct, evidence-based guidance for the management of epithelial ovarian cancer.\n",
            "Predicted Grade: CORRECT\n",
            "********************\n",
            "Example 4:\n",
            "Question: What are the specific cancer sites selected for the development of the consensus document?\n",
            "Real Answer: The selected cancer sites are lung, breast, oesophagus, cervix, uterus, stomach, gall bladder, soft tissue sarcoma and osteo - sarcoma, tongue, acute myeloid leukemia, acute lymphoblastic leukaemia, cll, non hodgkin ’ s lymphoma - high grade, non hodgkin ’ s lymphoma - low grade, hodgkin ’ s disease, multiple myeloma, myelodysplastic syndrome, pediatric lymphoma, pancreatic cancer, hepatocellular carcinoma, neuroendocrine tumours and ovarian cancer.\n",
            "Predicted Answer:  guidelines. consensus guidelines are not endorsements of the indian council of medical research. the views expressed are those of the committees constituted for the formulation of the guidelines.\n",
            "Predicted Grade: INCORRECT\n",
            "********************\n"
          ]
        }
      ]
    },
    {
      "cell_type": "code",
      "source": [
        "for i, eg in enumerate(new_examples):\n",
        "    print(f\"Example {i}:\")\n",
        "    print(\"Question: \" + predictions_refine[i]['query'])\n",
        "    print(\"Real Answer: \" + predictions_refine[i]['answer'])\n",
        "    print(\"Predicted Answer: \" + predictions_refine[i]['result'])\n",
        "    print(\"Predicted Grade: \" + graded_outputs_refine[i]['results'])\n",
        "    print('*'*20)\n",
        "    if i == 5:\n",
        "      break\n"
      ],
      "metadata": {
        "id": "uM_-NDCSg4n3"
      },
      "execution_count": null,
      "outputs": []
    },
    {
      "cell_type": "code",
      "source": [
        "total_examples = len(new_examples)\n",
        "correct_predictions_stuff = 0\n",
        "correct_predictions_refine = 0\n",
        "\n",
        "for i, eg in enumerate(new_examples):\n",
        "    # Assuming 'CORRECT' indicates correct prediction in the graded output\n",
        "    actual_label_stuff = graded_outputs_stuff[i]['results'] == 'CORRECT'\n",
        "    actual_label_refine = graded_outputs_refine[i]['results'] == 'CORRECT'\n",
        "\n",
        "\n",
        "\n",
        "    if actual_label_stuff:\n",
        "        correct_predictions_stuff += 1\n",
        "    if actual_label_refine:\n",
        "        correct_predictions_refine += 1\n",
        "\n",
        "accuracy_stuff = correct_predictions_stuff / total_examples * 100 if total_examples > 0 else 0\n",
        "accuracy_refine = correct_predictions_refine / total_examples * 100 if total_examples > 0 else 0\n",
        "\n",
        "\n",
        "print(f'Accuracy_stuff_method: {accuracy_stuff}% & Accuracy_refine_method: {accuracy_refine}%')\n"
      ],
      "metadata": {
        "colab": {
          "base_uri": "https://localhost:8080/"
        },
        "id": "R0XSFlaweIzW",
        "outputId": "6a4a4390-1c2e-47c8-9c0b-e775af0d8130"
      },
      "execution_count": null,
      "outputs": [
        {
          "output_type": "stream",
          "name": "stdout",
          "text": [
            "Accuracy: 80.0%\n"
          ]
        }
      ]
    },
    {
      "cell_type": "markdown",
      "source": [
        "## **Using RAGAS**"
      ],
      "metadata": {
        "id": "IG5M3CjnZGHz"
      }
    },
    {
      "cell_type": "code",
      "source": [
        "import ragas"
      ],
      "metadata": {
        "id": "S5K83UTuFVPK"
      },
      "execution_count": 3,
      "outputs": []
    }
  ]
}