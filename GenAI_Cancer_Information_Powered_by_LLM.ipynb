{
  "nbformat": 4,
  "nbformat_minor": 0,
  "metadata": {
    "colab": {
      "provenance": [],
      "collapsed_sections": [
        "eO_38z9L82LS"
      ],
      "authorship_tag": "ABX9TyPsvyTTsCRAVDXf4YJNrxT0",
      "include_colab_link": true
    },
    "kernelspec": {
      "name": "python3",
      "display_name": "Python 3"
    },
    "language_info": {
      "name": "python"
    },
    "widgets": {
      "application/vnd.jupyter.widget-state+json": {
        "3e7cd617dcfd42e7a1b112d20fb8d7bf": {
          "model_module": "@jupyter-widgets/controls",
          "model_name": "HBoxModel",
          "model_module_version": "1.5.0",
          "state": {
            "_dom_classes": [],
            "_model_module": "@jupyter-widgets/controls",
            "_model_module_version": "1.5.0",
            "_model_name": "HBoxModel",
            "_view_count": null,
            "_view_module": "@jupyter-widgets/controls",
            "_view_module_version": "1.5.0",
            "_view_name": "HBoxView",
            "box_style": "",
            "children": [
              "IPY_MODEL_8ca7465da570434f8bfea7701315c8ea",
              "IPY_MODEL_a5a9d48c262d433397a3d8d2c4a553ba",
              "IPY_MODEL_fc4b5ef8c6574066a7140a268b41130f"
            ],
            "layout": "IPY_MODEL_8d5cbbbfdd83450ea19882312fec768b"
          }
        },
        "8ca7465da570434f8bfea7701315c8ea": {
          "model_module": "@jupyter-widgets/controls",
          "model_name": "HTMLModel",
          "model_module_version": "1.5.0",
          "state": {
            "_dom_classes": [],
            "_model_module": "@jupyter-widgets/controls",
            "_model_module_version": "1.5.0",
            "_model_name": "HTMLModel",
            "_view_count": null,
            "_view_module": "@jupyter-widgets/controls",
            "_view_module_version": "1.5.0",
            "_view_name": "HTMLView",
            "description": "",
            "description_tooltip": null,
            "layout": "IPY_MODEL_7c943864ae4144b88f67fac9a2460680",
            "placeholder": "​",
            "style": "IPY_MODEL_480d29cfb3e54bb39d336c1176aaf0bd",
            "value": "modules.json: 100%"
          }
        },
        "a5a9d48c262d433397a3d8d2c4a553ba": {
          "model_module": "@jupyter-widgets/controls",
          "model_name": "FloatProgressModel",
          "model_module_version": "1.5.0",
          "state": {
            "_dom_classes": [],
            "_model_module": "@jupyter-widgets/controls",
            "_model_module_version": "1.5.0",
            "_model_name": "FloatProgressModel",
            "_view_count": null,
            "_view_module": "@jupyter-widgets/controls",
            "_view_module_version": "1.5.0",
            "_view_name": "ProgressView",
            "bar_style": "success",
            "description": "",
            "description_tooltip": null,
            "layout": "IPY_MODEL_0b14be7b08524999beaf34235e3c07bb",
            "max": 349,
            "min": 0,
            "orientation": "horizontal",
            "style": "IPY_MODEL_2e1399b17c6a4eeeaa2023da786f5050",
            "value": 349
          }
        },
        "fc4b5ef8c6574066a7140a268b41130f": {
          "model_module": "@jupyter-widgets/controls",
          "model_name": "HTMLModel",
          "model_module_version": "1.5.0",
          "state": {
            "_dom_classes": [],
            "_model_module": "@jupyter-widgets/controls",
            "_model_module_version": "1.5.0",
            "_model_name": "HTMLModel",
            "_view_count": null,
            "_view_module": "@jupyter-widgets/controls",
            "_view_module_version": "1.5.0",
            "_view_name": "HTMLView",
            "description": "",
            "description_tooltip": null,
            "layout": "IPY_MODEL_6469ef49a0d446a884f45e59f29cb28d",
            "placeholder": "​",
            "style": "IPY_MODEL_6e2426e5ad364dd19a23568c0cde62fe",
            "value": " 349/349 [00:00&lt;00:00, 7.62kB/s]"
          }
        },
        "8d5cbbbfdd83450ea19882312fec768b": {
          "model_module": "@jupyter-widgets/base",
          "model_name": "LayoutModel",
          "model_module_version": "1.2.0",
          "state": {
            "_model_module": "@jupyter-widgets/base",
            "_model_module_version": "1.2.0",
            "_model_name": "LayoutModel",
            "_view_count": null,
            "_view_module": "@jupyter-widgets/base",
            "_view_module_version": "1.2.0",
            "_view_name": "LayoutView",
            "align_content": null,
            "align_items": null,
            "align_self": null,
            "border": null,
            "bottom": null,
            "display": null,
            "flex": null,
            "flex_flow": null,
            "grid_area": null,
            "grid_auto_columns": null,
            "grid_auto_flow": null,
            "grid_auto_rows": null,
            "grid_column": null,
            "grid_gap": null,
            "grid_row": null,
            "grid_template_areas": null,
            "grid_template_columns": null,
            "grid_template_rows": null,
            "height": null,
            "justify_content": null,
            "justify_items": null,
            "left": null,
            "margin": null,
            "max_height": null,
            "max_width": null,
            "min_height": null,
            "min_width": null,
            "object_fit": null,
            "object_position": null,
            "order": null,
            "overflow": null,
            "overflow_x": null,
            "overflow_y": null,
            "padding": null,
            "right": null,
            "top": null,
            "visibility": null,
            "width": null
          }
        },
        "7c943864ae4144b88f67fac9a2460680": {
          "model_module": "@jupyter-widgets/base",
          "model_name": "LayoutModel",
          "model_module_version": "1.2.0",
          "state": {
            "_model_module": "@jupyter-widgets/base",
            "_model_module_version": "1.2.0",
            "_model_name": "LayoutModel",
            "_view_count": null,
            "_view_module": "@jupyter-widgets/base",
            "_view_module_version": "1.2.0",
            "_view_name": "LayoutView",
            "align_content": null,
            "align_items": null,
            "align_self": null,
            "border": null,
            "bottom": null,
            "display": null,
            "flex": null,
            "flex_flow": null,
            "grid_area": null,
            "grid_auto_columns": null,
            "grid_auto_flow": null,
            "grid_auto_rows": null,
            "grid_column": null,
            "grid_gap": null,
            "grid_row": null,
            "grid_template_areas": null,
            "grid_template_columns": null,
            "grid_template_rows": null,
            "height": null,
            "justify_content": null,
            "justify_items": null,
            "left": null,
            "margin": null,
            "max_height": null,
            "max_width": null,
            "min_height": null,
            "min_width": null,
            "object_fit": null,
            "object_position": null,
            "order": null,
            "overflow": null,
            "overflow_x": null,
            "overflow_y": null,
            "padding": null,
            "right": null,
            "top": null,
            "visibility": null,
            "width": null
          }
        },
        "480d29cfb3e54bb39d336c1176aaf0bd": {
          "model_module": "@jupyter-widgets/controls",
          "model_name": "DescriptionStyleModel",
          "model_module_version": "1.5.0",
          "state": {
            "_model_module": "@jupyter-widgets/controls",
            "_model_module_version": "1.5.0",
            "_model_name": "DescriptionStyleModel",
            "_view_count": null,
            "_view_module": "@jupyter-widgets/base",
            "_view_module_version": "1.2.0",
            "_view_name": "StyleView",
            "description_width": ""
          }
        },
        "0b14be7b08524999beaf34235e3c07bb": {
          "model_module": "@jupyter-widgets/base",
          "model_name": "LayoutModel",
          "model_module_version": "1.2.0",
          "state": {
            "_model_module": "@jupyter-widgets/base",
            "_model_module_version": "1.2.0",
            "_model_name": "LayoutModel",
            "_view_count": null,
            "_view_module": "@jupyter-widgets/base",
            "_view_module_version": "1.2.0",
            "_view_name": "LayoutView",
            "align_content": null,
            "align_items": null,
            "align_self": null,
            "border": null,
            "bottom": null,
            "display": null,
            "flex": null,
            "flex_flow": null,
            "grid_area": null,
            "grid_auto_columns": null,
            "grid_auto_flow": null,
            "grid_auto_rows": null,
            "grid_column": null,
            "grid_gap": null,
            "grid_row": null,
            "grid_template_areas": null,
            "grid_template_columns": null,
            "grid_template_rows": null,
            "height": null,
            "justify_content": null,
            "justify_items": null,
            "left": null,
            "margin": null,
            "max_height": null,
            "max_width": null,
            "min_height": null,
            "min_width": null,
            "object_fit": null,
            "object_position": null,
            "order": null,
            "overflow": null,
            "overflow_x": null,
            "overflow_y": null,
            "padding": null,
            "right": null,
            "top": null,
            "visibility": null,
            "width": null
          }
        },
        "2e1399b17c6a4eeeaa2023da786f5050": {
          "model_module": "@jupyter-widgets/controls",
          "model_name": "ProgressStyleModel",
          "model_module_version": "1.5.0",
          "state": {
            "_model_module": "@jupyter-widgets/controls",
            "_model_module_version": "1.5.0",
            "_model_name": "ProgressStyleModel",
            "_view_count": null,
            "_view_module": "@jupyter-widgets/base",
            "_view_module_version": "1.2.0",
            "_view_name": "StyleView",
            "bar_color": null,
            "description_width": ""
          }
        },
        "6469ef49a0d446a884f45e59f29cb28d": {
          "model_module": "@jupyter-widgets/base",
          "model_name": "LayoutModel",
          "model_module_version": "1.2.0",
          "state": {
            "_model_module": "@jupyter-widgets/base",
            "_model_module_version": "1.2.0",
            "_model_name": "LayoutModel",
            "_view_count": null,
            "_view_module": "@jupyter-widgets/base",
            "_view_module_version": "1.2.0",
            "_view_name": "LayoutView",
            "align_content": null,
            "align_items": null,
            "align_self": null,
            "border": null,
            "bottom": null,
            "display": null,
            "flex": null,
            "flex_flow": null,
            "grid_area": null,
            "grid_auto_columns": null,
            "grid_auto_flow": null,
            "grid_auto_rows": null,
            "grid_column": null,
            "grid_gap": null,
            "grid_row": null,
            "grid_template_areas": null,
            "grid_template_columns": null,
            "grid_template_rows": null,
            "height": null,
            "justify_content": null,
            "justify_items": null,
            "left": null,
            "margin": null,
            "max_height": null,
            "max_width": null,
            "min_height": null,
            "min_width": null,
            "object_fit": null,
            "object_position": null,
            "order": null,
            "overflow": null,
            "overflow_x": null,
            "overflow_y": null,
            "padding": null,
            "right": null,
            "top": null,
            "visibility": null,
            "width": null
          }
        },
        "6e2426e5ad364dd19a23568c0cde62fe": {
          "model_module": "@jupyter-widgets/controls",
          "model_name": "DescriptionStyleModel",
          "model_module_version": "1.5.0",
          "state": {
            "_model_module": "@jupyter-widgets/controls",
            "_model_module_version": "1.5.0",
            "_model_name": "DescriptionStyleModel",
            "_view_count": null,
            "_view_module": "@jupyter-widgets/base",
            "_view_module_version": "1.2.0",
            "_view_name": "StyleView",
            "description_width": ""
          }
        },
        "726caedb99e449f4a29fb7e0bd8a8bf1": {
          "model_module": "@jupyter-widgets/controls",
          "model_name": "HBoxModel",
          "model_module_version": "1.5.0",
          "state": {
            "_dom_classes": [],
            "_model_module": "@jupyter-widgets/controls",
            "_model_module_version": "1.5.0",
            "_model_name": "HBoxModel",
            "_view_count": null,
            "_view_module": "@jupyter-widgets/controls",
            "_view_module_version": "1.5.0",
            "_view_name": "HBoxView",
            "box_style": "",
            "children": [
              "IPY_MODEL_4f17d56bb2bc447e86322fa7658a581f",
              "IPY_MODEL_df99ae040fe8460b82670d3906f3bb74",
              "IPY_MODEL_88f85cef6e4c434ba7ad3812d153bf9e"
            ],
            "layout": "IPY_MODEL_40f0c861305f4b5fbae93e569d17a459"
          }
        },
        "4f17d56bb2bc447e86322fa7658a581f": {
          "model_module": "@jupyter-widgets/controls",
          "model_name": "HTMLModel",
          "model_module_version": "1.5.0",
          "state": {
            "_dom_classes": [],
            "_model_module": "@jupyter-widgets/controls",
            "_model_module_version": "1.5.0",
            "_model_name": "HTMLModel",
            "_view_count": null,
            "_view_module": "@jupyter-widgets/controls",
            "_view_module_version": "1.5.0",
            "_view_name": "HTMLView",
            "description": "",
            "description_tooltip": null,
            "layout": "IPY_MODEL_e015f0bf724a401fbf263236a705a99f",
            "placeholder": "​",
            "style": "IPY_MODEL_df8fdc898ab841a89a06449c17f3632f",
            "value": "config_sentence_transformers.json: 100%"
          }
        },
        "df99ae040fe8460b82670d3906f3bb74": {
          "model_module": "@jupyter-widgets/controls",
          "model_name": "FloatProgressModel",
          "model_module_version": "1.5.0",
          "state": {
            "_dom_classes": [],
            "_model_module": "@jupyter-widgets/controls",
            "_model_module_version": "1.5.0",
            "_model_name": "FloatProgressModel",
            "_view_count": null,
            "_view_module": "@jupyter-widgets/controls",
            "_view_module_version": "1.5.0",
            "_view_name": "ProgressView",
            "bar_style": "success",
            "description": "",
            "description_tooltip": null,
            "layout": "IPY_MODEL_577e466dcfce4331a742b677ddfeabf5",
            "max": 116,
            "min": 0,
            "orientation": "horizontal",
            "style": "IPY_MODEL_39fc8ffd844041148fdd55adb6613c72",
            "value": 116
          }
        },
        "88f85cef6e4c434ba7ad3812d153bf9e": {
          "model_module": "@jupyter-widgets/controls",
          "model_name": "HTMLModel",
          "model_module_version": "1.5.0",
          "state": {
            "_dom_classes": [],
            "_model_module": "@jupyter-widgets/controls",
            "_model_module_version": "1.5.0",
            "_model_name": "HTMLModel",
            "_view_count": null,
            "_view_module": "@jupyter-widgets/controls",
            "_view_module_version": "1.5.0",
            "_view_name": "HTMLView",
            "description": "",
            "description_tooltip": null,
            "layout": "IPY_MODEL_1a23ca186f38436c84469a574bf98071",
            "placeholder": "​",
            "style": "IPY_MODEL_83d6900d27074b60a1d4be5cc0fcc64a",
            "value": " 116/116 [00:00&lt;00:00, 2.96kB/s]"
          }
        },
        "40f0c861305f4b5fbae93e569d17a459": {
          "model_module": "@jupyter-widgets/base",
          "model_name": "LayoutModel",
          "model_module_version": "1.2.0",
          "state": {
            "_model_module": "@jupyter-widgets/base",
            "_model_module_version": "1.2.0",
            "_model_name": "LayoutModel",
            "_view_count": null,
            "_view_module": "@jupyter-widgets/base",
            "_view_module_version": "1.2.0",
            "_view_name": "LayoutView",
            "align_content": null,
            "align_items": null,
            "align_self": null,
            "border": null,
            "bottom": null,
            "display": null,
            "flex": null,
            "flex_flow": null,
            "grid_area": null,
            "grid_auto_columns": null,
            "grid_auto_flow": null,
            "grid_auto_rows": null,
            "grid_column": null,
            "grid_gap": null,
            "grid_row": null,
            "grid_template_areas": null,
            "grid_template_columns": null,
            "grid_template_rows": null,
            "height": null,
            "justify_content": null,
            "justify_items": null,
            "left": null,
            "margin": null,
            "max_height": null,
            "max_width": null,
            "min_height": null,
            "min_width": null,
            "object_fit": null,
            "object_position": null,
            "order": null,
            "overflow": null,
            "overflow_x": null,
            "overflow_y": null,
            "padding": null,
            "right": null,
            "top": null,
            "visibility": null,
            "width": null
          }
        },
        "e015f0bf724a401fbf263236a705a99f": {
          "model_module": "@jupyter-widgets/base",
          "model_name": "LayoutModel",
          "model_module_version": "1.2.0",
          "state": {
            "_model_module": "@jupyter-widgets/base",
            "_model_module_version": "1.2.0",
            "_model_name": "LayoutModel",
            "_view_count": null,
            "_view_module": "@jupyter-widgets/base",
            "_view_module_version": "1.2.0",
            "_view_name": "LayoutView",
            "align_content": null,
            "align_items": null,
            "align_self": null,
            "border": null,
            "bottom": null,
            "display": null,
            "flex": null,
            "flex_flow": null,
            "grid_area": null,
            "grid_auto_columns": null,
            "grid_auto_flow": null,
            "grid_auto_rows": null,
            "grid_column": null,
            "grid_gap": null,
            "grid_row": null,
            "grid_template_areas": null,
            "grid_template_columns": null,
            "grid_template_rows": null,
            "height": null,
            "justify_content": null,
            "justify_items": null,
            "left": null,
            "margin": null,
            "max_height": null,
            "max_width": null,
            "min_height": null,
            "min_width": null,
            "object_fit": null,
            "object_position": null,
            "order": null,
            "overflow": null,
            "overflow_x": null,
            "overflow_y": null,
            "padding": null,
            "right": null,
            "top": null,
            "visibility": null,
            "width": null
          }
        },
        "df8fdc898ab841a89a06449c17f3632f": {
          "model_module": "@jupyter-widgets/controls",
          "model_name": "DescriptionStyleModel",
          "model_module_version": "1.5.0",
          "state": {
            "_model_module": "@jupyter-widgets/controls",
            "_model_module_version": "1.5.0",
            "_model_name": "DescriptionStyleModel",
            "_view_count": null,
            "_view_module": "@jupyter-widgets/base",
            "_view_module_version": "1.2.0",
            "_view_name": "StyleView",
            "description_width": ""
          }
        },
        "577e466dcfce4331a742b677ddfeabf5": {
          "model_module": "@jupyter-widgets/base",
          "model_name": "LayoutModel",
          "model_module_version": "1.2.0",
          "state": {
            "_model_module": "@jupyter-widgets/base",
            "_model_module_version": "1.2.0",
            "_model_name": "LayoutModel",
            "_view_count": null,
            "_view_module": "@jupyter-widgets/base",
            "_view_module_version": "1.2.0",
            "_view_name": "LayoutView",
            "align_content": null,
            "align_items": null,
            "align_self": null,
            "border": null,
            "bottom": null,
            "display": null,
            "flex": null,
            "flex_flow": null,
            "grid_area": null,
            "grid_auto_columns": null,
            "grid_auto_flow": null,
            "grid_auto_rows": null,
            "grid_column": null,
            "grid_gap": null,
            "grid_row": null,
            "grid_template_areas": null,
            "grid_template_columns": null,
            "grid_template_rows": null,
            "height": null,
            "justify_content": null,
            "justify_items": null,
            "left": null,
            "margin": null,
            "max_height": null,
            "max_width": null,
            "min_height": null,
            "min_width": null,
            "object_fit": null,
            "object_position": null,
            "order": null,
            "overflow": null,
            "overflow_x": null,
            "overflow_y": null,
            "padding": null,
            "right": null,
            "top": null,
            "visibility": null,
            "width": null
          }
        },
        "39fc8ffd844041148fdd55adb6613c72": {
          "model_module": "@jupyter-widgets/controls",
          "model_name": "ProgressStyleModel",
          "model_module_version": "1.5.0",
          "state": {
            "_model_module": "@jupyter-widgets/controls",
            "_model_module_version": "1.5.0",
            "_model_name": "ProgressStyleModel",
            "_view_count": null,
            "_view_module": "@jupyter-widgets/base",
            "_view_module_version": "1.2.0",
            "_view_name": "StyleView",
            "bar_color": null,
            "description_width": ""
          }
        },
        "1a23ca186f38436c84469a574bf98071": {
          "model_module": "@jupyter-widgets/base",
          "model_name": "LayoutModel",
          "model_module_version": "1.2.0",
          "state": {
            "_model_module": "@jupyter-widgets/base",
            "_model_module_version": "1.2.0",
            "_model_name": "LayoutModel",
            "_view_count": null,
            "_view_module": "@jupyter-widgets/base",
            "_view_module_version": "1.2.0",
            "_view_name": "LayoutView",
            "align_content": null,
            "align_items": null,
            "align_self": null,
            "border": null,
            "bottom": null,
            "display": null,
            "flex": null,
            "flex_flow": null,
            "grid_area": null,
            "grid_auto_columns": null,
            "grid_auto_flow": null,
            "grid_auto_rows": null,
            "grid_column": null,
            "grid_gap": null,
            "grid_row": null,
            "grid_template_areas": null,
            "grid_template_columns": null,
            "grid_template_rows": null,
            "height": null,
            "justify_content": null,
            "justify_items": null,
            "left": null,
            "margin": null,
            "max_height": null,
            "max_width": null,
            "min_height": null,
            "min_width": null,
            "object_fit": null,
            "object_position": null,
            "order": null,
            "overflow": null,
            "overflow_x": null,
            "overflow_y": null,
            "padding": null,
            "right": null,
            "top": null,
            "visibility": null,
            "width": null
          }
        },
        "83d6900d27074b60a1d4be5cc0fcc64a": {
          "model_module": "@jupyter-widgets/controls",
          "model_name": "DescriptionStyleModel",
          "model_module_version": "1.5.0",
          "state": {
            "_model_module": "@jupyter-widgets/controls",
            "_model_module_version": "1.5.0",
            "_model_name": "DescriptionStyleModel",
            "_view_count": null,
            "_view_module": "@jupyter-widgets/base",
            "_view_module_version": "1.2.0",
            "_view_name": "StyleView",
            "description_width": ""
          }
        },
        "5350c71bb41b49a69755c987c09993db": {
          "model_module": "@jupyter-widgets/controls",
          "model_name": "HBoxModel",
          "model_module_version": "1.5.0",
          "state": {
            "_dom_classes": [],
            "_model_module": "@jupyter-widgets/controls",
            "_model_module_version": "1.5.0",
            "_model_name": "HBoxModel",
            "_view_count": null,
            "_view_module": "@jupyter-widgets/controls",
            "_view_module_version": "1.5.0",
            "_view_name": "HBoxView",
            "box_style": "",
            "children": [
              "IPY_MODEL_0570d7cc9c074c969d4ae3fdde8fcbed",
              "IPY_MODEL_85f15045cd234d8788ad1bf278a8bd55",
              "IPY_MODEL_2803990a1953495d94d28de5904ac89f"
            ],
            "layout": "IPY_MODEL_ecacc21e282c4a2eb678e0b2bbb0fdc7"
          }
        },
        "0570d7cc9c074c969d4ae3fdde8fcbed": {
          "model_module": "@jupyter-widgets/controls",
          "model_name": "HTMLModel",
          "model_module_version": "1.5.0",
          "state": {
            "_dom_classes": [],
            "_model_module": "@jupyter-widgets/controls",
            "_model_module_version": "1.5.0",
            "_model_name": "HTMLModel",
            "_view_count": null,
            "_view_module": "@jupyter-widgets/controls",
            "_view_module_version": "1.5.0",
            "_view_name": "HTMLView",
            "description": "",
            "description_tooltip": null,
            "layout": "IPY_MODEL_efe96a60bde94b67954c5375da4c7331",
            "placeholder": "​",
            "style": "IPY_MODEL_62bd0b6d134b429c9be1bd765799146e",
            "value": "README.md: 100%"
          }
        },
        "85f15045cd234d8788ad1bf278a8bd55": {
          "model_module": "@jupyter-widgets/controls",
          "model_name": "FloatProgressModel",
          "model_module_version": "1.5.0",
          "state": {
            "_dom_classes": [],
            "_model_module": "@jupyter-widgets/controls",
            "_model_module_version": "1.5.0",
            "_model_name": "FloatProgressModel",
            "_view_count": null,
            "_view_module": "@jupyter-widgets/controls",
            "_view_module_version": "1.5.0",
            "_view_name": "ProgressView",
            "bar_style": "success",
            "description": "",
            "description_tooltip": null,
            "layout": "IPY_MODEL_38e3ea1cd73c4a198ed8cc6986c3a54a",
            "max": 10621,
            "min": 0,
            "orientation": "horizontal",
            "style": "IPY_MODEL_51bfb884bc3c4f009e4a91e30a9a0e03",
            "value": 10621
          }
        },
        "2803990a1953495d94d28de5904ac89f": {
          "model_module": "@jupyter-widgets/controls",
          "model_name": "HTMLModel",
          "model_module_version": "1.5.0",
          "state": {
            "_dom_classes": [],
            "_model_module": "@jupyter-widgets/controls",
            "_model_module_version": "1.5.0",
            "_model_name": "HTMLModel",
            "_view_count": null,
            "_view_module": "@jupyter-widgets/controls",
            "_view_module_version": "1.5.0",
            "_view_name": "HTMLView",
            "description": "",
            "description_tooltip": null,
            "layout": "IPY_MODEL_f64f185b76264049b1224b8e7c786e0e",
            "placeholder": "​",
            "style": "IPY_MODEL_1d746d736a614897a52b5cf99302717c",
            "value": " 10.6k/10.6k [00:00&lt;00:00, 151kB/s]"
          }
        },
        "ecacc21e282c4a2eb678e0b2bbb0fdc7": {
          "model_module": "@jupyter-widgets/base",
          "model_name": "LayoutModel",
          "model_module_version": "1.2.0",
          "state": {
            "_model_module": "@jupyter-widgets/base",
            "_model_module_version": "1.2.0",
            "_model_name": "LayoutModel",
            "_view_count": null,
            "_view_module": "@jupyter-widgets/base",
            "_view_module_version": "1.2.0",
            "_view_name": "LayoutView",
            "align_content": null,
            "align_items": null,
            "align_self": null,
            "border": null,
            "bottom": null,
            "display": null,
            "flex": null,
            "flex_flow": null,
            "grid_area": null,
            "grid_auto_columns": null,
            "grid_auto_flow": null,
            "grid_auto_rows": null,
            "grid_column": null,
            "grid_gap": null,
            "grid_row": null,
            "grid_template_areas": null,
            "grid_template_columns": null,
            "grid_template_rows": null,
            "height": null,
            "justify_content": null,
            "justify_items": null,
            "left": null,
            "margin": null,
            "max_height": null,
            "max_width": null,
            "min_height": null,
            "min_width": null,
            "object_fit": null,
            "object_position": null,
            "order": null,
            "overflow": null,
            "overflow_x": null,
            "overflow_y": null,
            "padding": null,
            "right": null,
            "top": null,
            "visibility": null,
            "width": null
          }
        },
        "efe96a60bde94b67954c5375da4c7331": {
          "model_module": "@jupyter-widgets/base",
          "model_name": "LayoutModel",
          "model_module_version": "1.2.0",
          "state": {
            "_model_module": "@jupyter-widgets/base",
            "_model_module_version": "1.2.0",
            "_model_name": "LayoutModel",
            "_view_count": null,
            "_view_module": "@jupyter-widgets/base",
            "_view_module_version": "1.2.0",
            "_view_name": "LayoutView",
            "align_content": null,
            "align_items": null,
            "align_self": null,
            "border": null,
            "bottom": null,
            "display": null,
            "flex": null,
            "flex_flow": null,
            "grid_area": null,
            "grid_auto_columns": null,
            "grid_auto_flow": null,
            "grid_auto_rows": null,
            "grid_column": null,
            "grid_gap": null,
            "grid_row": null,
            "grid_template_areas": null,
            "grid_template_columns": null,
            "grid_template_rows": null,
            "height": null,
            "justify_content": null,
            "justify_items": null,
            "left": null,
            "margin": null,
            "max_height": null,
            "max_width": null,
            "min_height": null,
            "min_width": null,
            "object_fit": null,
            "object_position": null,
            "order": null,
            "overflow": null,
            "overflow_x": null,
            "overflow_y": null,
            "padding": null,
            "right": null,
            "top": null,
            "visibility": null,
            "width": null
          }
        },
        "62bd0b6d134b429c9be1bd765799146e": {
          "model_module": "@jupyter-widgets/controls",
          "model_name": "DescriptionStyleModel",
          "model_module_version": "1.5.0",
          "state": {
            "_model_module": "@jupyter-widgets/controls",
            "_model_module_version": "1.5.0",
            "_model_name": "DescriptionStyleModel",
            "_view_count": null,
            "_view_module": "@jupyter-widgets/base",
            "_view_module_version": "1.2.0",
            "_view_name": "StyleView",
            "description_width": ""
          }
        },
        "38e3ea1cd73c4a198ed8cc6986c3a54a": {
          "model_module": "@jupyter-widgets/base",
          "model_name": "LayoutModel",
          "model_module_version": "1.2.0",
          "state": {
            "_model_module": "@jupyter-widgets/base",
            "_model_module_version": "1.2.0",
            "_model_name": "LayoutModel",
            "_view_count": null,
            "_view_module": "@jupyter-widgets/base",
            "_view_module_version": "1.2.0",
            "_view_name": "LayoutView",
            "align_content": null,
            "align_items": null,
            "align_self": null,
            "border": null,
            "bottom": null,
            "display": null,
            "flex": null,
            "flex_flow": null,
            "grid_area": null,
            "grid_auto_columns": null,
            "grid_auto_flow": null,
            "grid_auto_rows": null,
            "grid_column": null,
            "grid_gap": null,
            "grid_row": null,
            "grid_template_areas": null,
            "grid_template_columns": null,
            "grid_template_rows": null,
            "height": null,
            "justify_content": null,
            "justify_items": null,
            "left": null,
            "margin": null,
            "max_height": null,
            "max_width": null,
            "min_height": null,
            "min_width": null,
            "object_fit": null,
            "object_position": null,
            "order": null,
            "overflow": null,
            "overflow_x": null,
            "overflow_y": null,
            "padding": null,
            "right": null,
            "top": null,
            "visibility": null,
            "width": null
          }
        },
        "51bfb884bc3c4f009e4a91e30a9a0e03": {
          "model_module": "@jupyter-widgets/controls",
          "model_name": "ProgressStyleModel",
          "model_module_version": "1.5.0",
          "state": {
            "_model_module": "@jupyter-widgets/controls",
            "_model_module_version": "1.5.0",
            "_model_name": "ProgressStyleModel",
            "_view_count": null,
            "_view_module": "@jupyter-widgets/base",
            "_view_module_version": "1.2.0",
            "_view_name": "StyleView",
            "bar_color": null,
            "description_width": ""
          }
        },
        "f64f185b76264049b1224b8e7c786e0e": {
          "model_module": "@jupyter-widgets/base",
          "model_name": "LayoutModel",
          "model_module_version": "1.2.0",
          "state": {
            "_model_module": "@jupyter-widgets/base",
            "_model_module_version": "1.2.0",
            "_model_name": "LayoutModel",
            "_view_count": null,
            "_view_module": "@jupyter-widgets/base",
            "_view_module_version": "1.2.0",
            "_view_name": "LayoutView",
            "align_content": null,
            "align_items": null,
            "align_self": null,
            "border": null,
            "bottom": null,
            "display": null,
            "flex": null,
            "flex_flow": null,
            "grid_area": null,
            "grid_auto_columns": null,
            "grid_auto_flow": null,
            "grid_auto_rows": null,
            "grid_column": null,
            "grid_gap": null,
            "grid_row": null,
            "grid_template_areas": null,
            "grid_template_columns": null,
            "grid_template_rows": null,
            "height": null,
            "justify_content": null,
            "justify_items": null,
            "left": null,
            "margin": null,
            "max_height": null,
            "max_width": null,
            "min_height": null,
            "min_width": null,
            "object_fit": null,
            "object_position": null,
            "order": null,
            "overflow": null,
            "overflow_x": null,
            "overflow_y": null,
            "padding": null,
            "right": null,
            "top": null,
            "visibility": null,
            "width": null
          }
        },
        "1d746d736a614897a52b5cf99302717c": {
          "model_module": "@jupyter-widgets/controls",
          "model_name": "DescriptionStyleModel",
          "model_module_version": "1.5.0",
          "state": {
            "_model_module": "@jupyter-widgets/controls",
            "_model_module_version": "1.5.0",
            "_model_name": "DescriptionStyleModel",
            "_view_count": null,
            "_view_module": "@jupyter-widgets/base",
            "_view_module_version": "1.2.0",
            "_view_name": "StyleView",
            "description_width": ""
          }
        },
        "62235ad31b6e4a94b3cef7c24b08fe68": {
          "model_module": "@jupyter-widgets/controls",
          "model_name": "HBoxModel",
          "model_module_version": "1.5.0",
          "state": {
            "_dom_classes": [],
            "_model_module": "@jupyter-widgets/controls",
            "_model_module_version": "1.5.0",
            "_model_name": "HBoxModel",
            "_view_count": null,
            "_view_module": "@jupyter-widgets/controls",
            "_view_module_version": "1.5.0",
            "_view_name": "HBoxView",
            "box_style": "",
            "children": [
              "IPY_MODEL_3baae8cfd58f4c7da38405c4def7d60b",
              "IPY_MODEL_325af7c9b05f448c91df119147a5079b",
              "IPY_MODEL_56eae8458124453987a2fd37afcde5b1"
            ],
            "layout": "IPY_MODEL_bc41eba9bf024b5d9c72a7815d54efb8"
          }
        },
        "3baae8cfd58f4c7da38405c4def7d60b": {
          "model_module": "@jupyter-widgets/controls",
          "model_name": "HTMLModel",
          "model_module_version": "1.5.0",
          "state": {
            "_dom_classes": [],
            "_model_module": "@jupyter-widgets/controls",
            "_model_module_version": "1.5.0",
            "_model_name": "HTMLModel",
            "_view_count": null,
            "_view_module": "@jupyter-widgets/controls",
            "_view_module_version": "1.5.0",
            "_view_name": "HTMLView",
            "description": "",
            "description_tooltip": null,
            "layout": "IPY_MODEL_562e5297893b477587554f3804ec844a",
            "placeholder": "​",
            "style": "IPY_MODEL_1c03d477c8f9406dbf561e4c328c5db0",
            "value": "sentence_bert_config.json: 100%"
          }
        },
        "325af7c9b05f448c91df119147a5079b": {
          "model_module": "@jupyter-widgets/controls",
          "model_name": "FloatProgressModel",
          "model_module_version": "1.5.0",
          "state": {
            "_dom_classes": [],
            "_model_module": "@jupyter-widgets/controls",
            "_model_module_version": "1.5.0",
            "_model_name": "FloatProgressModel",
            "_view_count": null,
            "_view_module": "@jupyter-widgets/controls",
            "_view_module_version": "1.5.0",
            "_view_name": "ProgressView",
            "bar_style": "success",
            "description": "",
            "description_tooltip": null,
            "layout": "IPY_MODEL_653830e8c6884f37b3df9e9b634b2710",
            "max": 53,
            "min": 0,
            "orientation": "horizontal",
            "style": "IPY_MODEL_8dbd92771c5b47f08216823ac3753fb5",
            "value": 53
          }
        },
        "56eae8458124453987a2fd37afcde5b1": {
          "model_module": "@jupyter-widgets/controls",
          "model_name": "HTMLModel",
          "model_module_version": "1.5.0",
          "state": {
            "_dom_classes": [],
            "_model_module": "@jupyter-widgets/controls",
            "_model_module_version": "1.5.0",
            "_model_name": "HTMLModel",
            "_view_count": null,
            "_view_module": "@jupyter-widgets/controls",
            "_view_module_version": "1.5.0",
            "_view_name": "HTMLView",
            "description": "",
            "description_tooltip": null,
            "layout": "IPY_MODEL_fe2352ade1084afd92d3fb2f0e0a0c86",
            "placeholder": "​",
            "style": "IPY_MODEL_476f44183b8f4db0aeecf65006fac2b3",
            "value": " 53.0/53.0 [00:00&lt;00:00, 882B/s]"
          }
        },
        "bc41eba9bf024b5d9c72a7815d54efb8": {
          "model_module": "@jupyter-widgets/base",
          "model_name": "LayoutModel",
          "model_module_version": "1.2.0",
          "state": {
            "_model_module": "@jupyter-widgets/base",
            "_model_module_version": "1.2.0",
            "_model_name": "LayoutModel",
            "_view_count": null,
            "_view_module": "@jupyter-widgets/base",
            "_view_module_version": "1.2.0",
            "_view_name": "LayoutView",
            "align_content": null,
            "align_items": null,
            "align_self": null,
            "border": null,
            "bottom": null,
            "display": null,
            "flex": null,
            "flex_flow": null,
            "grid_area": null,
            "grid_auto_columns": null,
            "grid_auto_flow": null,
            "grid_auto_rows": null,
            "grid_column": null,
            "grid_gap": null,
            "grid_row": null,
            "grid_template_areas": null,
            "grid_template_columns": null,
            "grid_template_rows": null,
            "height": null,
            "justify_content": null,
            "justify_items": null,
            "left": null,
            "margin": null,
            "max_height": null,
            "max_width": null,
            "min_height": null,
            "min_width": null,
            "object_fit": null,
            "object_position": null,
            "order": null,
            "overflow": null,
            "overflow_x": null,
            "overflow_y": null,
            "padding": null,
            "right": null,
            "top": null,
            "visibility": null,
            "width": null
          }
        },
        "562e5297893b477587554f3804ec844a": {
          "model_module": "@jupyter-widgets/base",
          "model_name": "LayoutModel",
          "model_module_version": "1.2.0",
          "state": {
            "_model_module": "@jupyter-widgets/base",
            "_model_module_version": "1.2.0",
            "_model_name": "LayoutModel",
            "_view_count": null,
            "_view_module": "@jupyter-widgets/base",
            "_view_module_version": "1.2.0",
            "_view_name": "LayoutView",
            "align_content": null,
            "align_items": null,
            "align_self": null,
            "border": null,
            "bottom": null,
            "display": null,
            "flex": null,
            "flex_flow": null,
            "grid_area": null,
            "grid_auto_columns": null,
            "grid_auto_flow": null,
            "grid_auto_rows": null,
            "grid_column": null,
            "grid_gap": null,
            "grid_row": null,
            "grid_template_areas": null,
            "grid_template_columns": null,
            "grid_template_rows": null,
            "height": null,
            "justify_content": null,
            "justify_items": null,
            "left": null,
            "margin": null,
            "max_height": null,
            "max_width": null,
            "min_height": null,
            "min_width": null,
            "object_fit": null,
            "object_position": null,
            "order": null,
            "overflow": null,
            "overflow_x": null,
            "overflow_y": null,
            "padding": null,
            "right": null,
            "top": null,
            "visibility": null,
            "width": null
          }
        },
        "1c03d477c8f9406dbf561e4c328c5db0": {
          "model_module": "@jupyter-widgets/controls",
          "model_name": "DescriptionStyleModel",
          "model_module_version": "1.5.0",
          "state": {
            "_model_module": "@jupyter-widgets/controls",
            "_model_module_version": "1.5.0",
            "_model_name": "DescriptionStyleModel",
            "_view_count": null,
            "_view_module": "@jupyter-widgets/base",
            "_view_module_version": "1.2.0",
            "_view_name": "StyleView",
            "description_width": ""
          }
        },
        "653830e8c6884f37b3df9e9b634b2710": {
          "model_module": "@jupyter-widgets/base",
          "model_name": "LayoutModel",
          "model_module_version": "1.2.0",
          "state": {
            "_model_module": "@jupyter-widgets/base",
            "_model_module_version": "1.2.0",
            "_model_name": "LayoutModel",
            "_view_count": null,
            "_view_module": "@jupyter-widgets/base",
            "_view_module_version": "1.2.0",
            "_view_name": "LayoutView",
            "align_content": null,
            "align_items": null,
            "align_self": null,
            "border": null,
            "bottom": null,
            "display": null,
            "flex": null,
            "flex_flow": null,
            "grid_area": null,
            "grid_auto_columns": null,
            "grid_auto_flow": null,
            "grid_auto_rows": null,
            "grid_column": null,
            "grid_gap": null,
            "grid_row": null,
            "grid_template_areas": null,
            "grid_template_columns": null,
            "grid_template_rows": null,
            "height": null,
            "justify_content": null,
            "justify_items": null,
            "left": null,
            "margin": null,
            "max_height": null,
            "max_width": null,
            "min_height": null,
            "min_width": null,
            "object_fit": null,
            "object_position": null,
            "order": null,
            "overflow": null,
            "overflow_x": null,
            "overflow_y": null,
            "padding": null,
            "right": null,
            "top": null,
            "visibility": null,
            "width": null
          }
        },
        "8dbd92771c5b47f08216823ac3753fb5": {
          "model_module": "@jupyter-widgets/controls",
          "model_name": "ProgressStyleModel",
          "model_module_version": "1.5.0",
          "state": {
            "_model_module": "@jupyter-widgets/controls",
            "_model_module_version": "1.5.0",
            "_model_name": "ProgressStyleModel",
            "_view_count": null,
            "_view_module": "@jupyter-widgets/base",
            "_view_module_version": "1.2.0",
            "_view_name": "StyleView",
            "bar_color": null,
            "description_width": ""
          }
        },
        "fe2352ade1084afd92d3fb2f0e0a0c86": {
          "model_module": "@jupyter-widgets/base",
          "model_name": "LayoutModel",
          "model_module_version": "1.2.0",
          "state": {
            "_model_module": "@jupyter-widgets/base",
            "_model_module_version": "1.2.0",
            "_model_name": "LayoutModel",
            "_view_count": null,
            "_view_module": "@jupyter-widgets/base",
            "_view_module_version": "1.2.0",
            "_view_name": "LayoutView",
            "align_content": null,
            "align_items": null,
            "align_self": null,
            "border": null,
            "bottom": null,
            "display": null,
            "flex": null,
            "flex_flow": null,
            "grid_area": null,
            "grid_auto_columns": null,
            "grid_auto_flow": null,
            "grid_auto_rows": null,
            "grid_column": null,
            "grid_gap": null,
            "grid_row": null,
            "grid_template_areas": null,
            "grid_template_columns": null,
            "grid_template_rows": null,
            "height": null,
            "justify_content": null,
            "justify_items": null,
            "left": null,
            "margin": null,
            "max_height": null,
            "max_width": null,
            "min_height": null,
            "min_width": null,
            "object_fit": null,
            "object_position": null,
            "order": null,
            "overflow": null,
            "overflow_x": null,
            "overflow_y": null,
            "padding": null,
            "right": null,
            "top": null,
            "visibility": null,
            "width": null
          }
        },
        "476f44183b8f4db0aeecf65006fac2b3": {
          "model_module": "@jupyter-widgets/controls",
          "model_name": "DescriptionStyleModel",
          "model_module_version": "1.5.0",
          "state": {
            "_model_module": "@jupyter-widgets/controls",
            "_model_module_version": "1.5.0",
            "_model_name": "DescriptionStyleModel",
            "_view_count": null,
            "_view_module": "@jupyter-widgets/base",
            "_view_module_version": "1.2.0",
            "_view_name": "StyleView",
            "description_width": ""
          }
        },
        "d785e58d17dd4ca080d70d1e0c0dca7d": {
          "model_module": "@jupyter-widgets/controls",
          "model_name": "HBoxModel",
          "model_module_version": "1.5.0",
          "state": {
            "_dom_classes": [],
            "_model_module": "@jupyter-widgets/controls",
            "_model_module_version": "1.5.0",
            "_model_name": "HBoxModel",
            "_view_count": null,
            "_view_module": "@jupyter-widgets/controls",
            "_view_module_version": "1.5.0",
            "_view_name": "HBoxView",
            "box_style": "",
            "children": [
              "IPY_MODEL_a7f5f9aa4d134b08b320f5b6045952fd",
              "IPY_MODEL_91f1d7968a884559891194098cc46c68",
              "IPY_MODEL_dcb17066b0e74c50ae8869bfd85d9026"
            ],
            "layout": "IPY_MODEL_5f5733f2a90e44d7991c8010177d34ab"
          }
        },
        "a7f5f9aa4d134b08b320f5b6045952fd": {
          "model_module": "@jupyter-widgets/controls",
          "model_name": "HTMLModel",
          "model_module_version": "1.5.0",
          "state": {
            "_dom_classes": [],
            "_model_module": "@jupyter-widgets/controls",
            "_model_module_version": "1.5.0",
            "_model_name": "HTMLModel",
            "_view_count": null,
            "_view_module": "@jupyter-widgets/controls",
            "_view_module_version": "1.5.0",
            "_view_name": "HTMLView",
            "description": "",
            "description_tooltip": null,
            "layout": "IPY_MODEL_5d7cb0821e80482aade06dcc101c54a2",
            "placeholder": "​",
            "style": "IPY_MODEL_4f1581790180411aaf397e0d7eb226fc",
            "value": "config.json: 100%"
          }
        },
        "91f1d7968a884559891194098cc46c68": {
          "model_module": "@jupyter-widgets/controls",
          "model_name": "FloatProgressModel",
          "model_module_version": "1.5.0",
          "state": {
            "_dom_classes": [],
            "_model_module": "@jupyter-widgets/controls",
            "_model_module_version": "1.5.0",
            "_model_name": "FloatProgressModel",
            "_view_count": null,
            "_view_module": "@jupyter-widgets/controls",
            "_view_module_version": "1.5.0",
            "_view_name": "ProgressView",
            "bar_style": "success",
            "description": "",
            "description_tooltip": null,
            "layout": "IPY_MODEL_dd6a7c7203b44365b6e7027754002d35",
            "max": 571,
            "min": 0,
            "orientation": "horizontal",
            "style": "IPY_MODEL_ac785eec6fdc43938a2b2e17a4ca9f4e",
            "value": 571
          }
        },
        "dcb17066b0e74c50ae8869bfd85d9026": {
          "model_module": "@jupyter-widgets/controls",
          "model_name": "HTMLModel",
          "model_module_version": "1.5.0",
          "state": {
            "_dom_classes": [],
            "_model_module": "@jupyter-widgets/controls",
            "_model_module_version": "1.5.0",
            "_model_name": "HTMLModel",
            "_view_count": null,
            "_view_module": "@jupyter-widgets/controls",
            "_view_module_version": "1.5.0",
            "_view_name": "HTMLView",
            "description": "",
            "description_tooltip": null,
            "layout": "IPY_MODEL_29bc4f2970b44a61a641bc3a03313dd4",
            "placeholder": "​",
            "style": "IPY_MODEL_bf4c4f68a52147aa8009c4782ec0a769",
            "value": " 571/571 [00:00&lt;00:00, 13.6kB/s]"
          }
        },
        "5f5733f2a90e44d7991c8010177d34ab": {
          "model_module": "@jupyter-widgets/base",
          "model_name": "LayoutModel",
          "model_module_version": "1.2.0",
          "state": {
            "_model_module": "@jupyter-widgets/base",
            "_model_module_version": "1.2.0",
            "_model_name": "LayoutModel",
            "_view_count": null,
            "_view_module": "@jupyter-widgets/base",
            "_view_module_version": "1.2.0",
            "_view_name": "LayoutView",
            "align_content": null,
            "align_items": null,
            "align_self": null,
            "border": null,
            "bottom": null,
            "display": null,
            "flex": null,
            "flex_flow": null,
            "grid_area": null,
            "grid_auto_columns": null,
            "grid_auto_flow": null,
            "grid_auto_rows": null,
            "grid_column": null,
            "grid_gap": null,
            "grid_row": null,
            "grid_template_areas": null,
            "grid_template_columns": null,
            "grid_template_rows": null,
            "height": null,
            "justify_content": null,
            "justify_items": null,
            "left": null,
            "margin": null,
            "max_height": null,
            "max_width": null,
            "min_height": null,
            "min_width": null,
            "object_fit": null,
            "object_position": null,
            "order": null,
            "overflow": null,
            "overflow_x": null,
            "overflow_y": null,
            "padding": null,
            "right": null,
            "top": null,
            "visibility": null,
            "width": null
          }
        },
        "5d7cb0821e80482aade06dcc101c54a2": {
          "model_module": "@jupyter-widgets/base",
          "model_name": "LayoutModel",
          "model_module_version": "1.2.0",
          "state": {
            "_model_module": "@jupyter-widgets/base",
            "_model_module_version": "1.2.0",
            "_model_name": "LayoutModel",
            "_view_count": null,
            "_view_module": "@jupyter-widgets/base",
            "_view_module_version": "1.2.0",
            "_view_name": "LayoutView",
            "align_content": null,
            "align_items": null,
            "align_self": null,
            "border": null,
            "bottom": null,
            "display": null,
            "flex": null,
            "flex_flow": null,
            "grid_area": null,
            "grid_auto_columns": null,
            "grid_auto_flow": null,
            "grid_auto_rows": null,
            "grid_column": null,
            "grid_gap": null,
            "grid_row": null,
            "grid_template_areas": null,
            "grid_template_columns": null,
            "grid_template_rows": null,
            "height": null,
            "justify_content": null,
            "justify_items": null,
            "left": null,
            "margin": null,
            "max_height": null,
            "max_width": null,
            "min_height": null,
            "min_width": null,
            "object_fit": null,
            "object_position": null,
            "order": null,
            "overflow": null,
            "overflow_x": null,
            "overflow_y": null,
            "padding": null,
            "right": null,
            "top": null,
            "visibility": null,
            "width": null
          }
        },
        "4f1581790180411aaf397e0d7eb226fc": {
          "model_module": "@jupyter-widgets/controls",
          "model_name": "DescriptionStyleModel",
          "model_module_version": "1.5.0",
          "state": {
            "_model_module": "@jupyter-widgets/controls",
            "_model_module_version": "1.5.0",
            "_model_name": "DescriptionStyleModel",
            "_view_count": null,
            "_view_module": "@jupyter-widgets/base",
            "_view_module_version": "1.2.0",
            "_view_name": "StyleView",
            "description_width": ""
          }
        },
        "dd6a7c7203b44365b6e7027754002d35": {
          "model_module": "@jupyter-widgets/base",
          "model_name": "LayoutModel",
          "model_module_version": "1.2.0",
          "state": {
            "_model_module": "@jupyter-widgets/base",
            "_model_module_version": "1.2.0",
            "_model_name": "LayoutModel",
            "_view_count": null,
            "_view_module": "@jupyter-widgets/base",
            "_view_module_version": "1.2.0",
            "_view_name": "LayoutView",
            "align_content": null,
            "align_items": null,
            "align_self": null,
            "border": null,
            "bottom": null,
            "display": null,
            "flex": null,
            "flex_flow": null,
            "grid_area": null,
            "grid_auto_columns": null,
            "grid_auto_flow": null,
            "grid_auto_rows": null,
            "grid_column": null,
            "grid_gap": null,
            "grid_row": null,
            "grid_template_areas": null,
            "grid_template_columns": null,
            "grid_template_rows": null,
            "height": null,
            "justify_content": null,
            "justify_items": null,
            "left": null,
            "margin": null,
            "max_height": null,
            "max_width": null,
            "min_height": null,
            "min_width": null,
            "object_fit": null,
            "object_position": null,
            "order": null,
            "overflow": null,
            "overflow_x": null,
            "overflow_y": null,
            "padding": null,
            "right": null,
            "top": null,
            "visibility": null,
            "width": null
          }
        },
        "ac785eec6fdc43938a2b2e17a4ca9f4e": {
          "model_module": "@jupyter-widgets/controls",
          "model_name": "ProgressStyleModel",
          "model_module_version": "1.5.0",
          "state": {
            "_model_module": "@jupyter-widgets/controls",
            "_model_module_version": "1.5.0",
            "_model_name": "ProgressStyleModel",
            "_view_count": null,
            "_view_module": "@jupyter-widgets/base",
            "_view_module_version": "1.2.0",
            "_view_name": "StyleView",
            "bar_color": null,
            "description_width": ""
          }
        },
        "29bc4f2970b44a61a641bc3a03313dd4": {
          "model_module": "@jupyter-widgets/base",
          "model_name": "LayoutModel",
          "model_module_version": "1.2.0",
          "state": {
            "_model_module": "@jupyter-widgets/base",
            "_model_module_version": "1.2.0",
            "_model_name": "LayoutModel",
            "_view_count": null,
            "_view_module": "@jupyter-widgets/base",
            "_view_module_version": "1.2.0",
            "_view_name": "LayoutView",
            "align_content": null,
            "align_items": null,
            "align_self": null,
            "border": null,
            "bottom": null,
            "display": null,
            "flex": null,
            "flex_flow": null,
            "grid_area": null,
            "grid_auto_columns": null,
            "grid_auto_flow": null,
            "grid_auto_rows": null,
            "grid_column": null,
            "grid_gap": null,
            "grid_row": null,
            "grid_template_areas": null,
            "grid_template_columns": null,
            "grid_template_rows": null,
            "height": null,
            "justify_content": null,
            "justify_items": null,
            "left": null,
            "margin": null,
            "max_height": null,
            "max_width": null,
            "min_height": null,
            "min_width": null,
            "object_fit": null,
            "object_position": null,
            "order": null,
            "overflow": null,
            "overflow_x": null,
            "overflow_y": null,
            "padding": null,
            "right": null,
            "top": null,
            "visibility": null,
            "width": null
          }
        },
        "bf4c4f68a52147aa8009c4782ec0a769": {
          "model_module": "@jupyter-widgets/controls",
          "model_name": "DescriptionStyleModel",
          "model_module_version": "1.5.0",
          "state": {
            "_model_module": "@jupyter-widgets/controls",
            "_model_module_version": "1.5.0",
            "_model_name": "DescriptionStyleModel",
            "_view_count": null,
            "_view_module": "@jupyter-widgets/base",
            "_view_module_version": "1.2.0",
            "_view_name": "StyleView",
            "description_width": ""
          }
        },
        "f1d0d13b89f142849a044d473623009c": {
          "model_module": "@jupyter-widgets/controls",
          "model_name": "HBoxModel",
          "model_module_version": "1.5.0",
          "state": {
            "_dom_classes": [],
            "_model_module": "@jupyter-widgets/controls",
            "_model_module_version": "1.5.0",
            "_model_name": "HBoxModel",
            "_view_count": null,
            "_view_module": "@jupyter-widgets/controls",
            "_view_module_version": "1.5.0",
            "_view_name": "HBoxView",
            "box_style": "",
            "children": [
              "IPY_MODEL_def0b7b8a5544502a3b32dd05853329f",
              "IPY_MODEL_73ed5a5fad494cad812703f618443fcf",
              "IPY_MODEL_01de1a53505e494aa7c4ab704e32769d"
            ],
            "layout": "IPY_MODEL_c0adffa3ffca4b059debd3a17244259a"
          }
        },
        "def0b7b8a5544502a3b32dd05853329f": {
          "model_module": "@jupyter-widgets/controls",
          "model_name": "HTMLModel",
          "model_module_version": "1.5.0",
          "state": {
            "_dom_classes": [],
            "_model_module": "@jupyter-widgets/controls",
            "_model_module_version": "1.5.0",
            "_model_name": "HTMLModel",
            "_view_count": null,
            "_view_module": "@jupyter-widgets/controls",
            "_view_module_version": "1.5.0",
            "_view_name": "HTMLView",
            "description": "",
            "description_tooltip": null,
            "layout": "IPY_MODEL_61a3f94bc79e46359bc5ca0d5956b1d0",
            "placeholder": "​",
            "style": "IPY_MODEL_c9c0b5d651094563b103dea6569536c6",
            "value": "pytorch_model.bin: 100%"
          }
        },
        "73ed5a5fad494cad812703f618443fcf": {
          "model_module": "@jupyter-widgets/controls",
          "model_name": "FloatProgressModel",
          "model_module_version": "1.5.0",
          "state": {
            "_dom_classes": [],
            "_model_module": "@jupyter-widgets/controls",
            "_model_module_version": "1.5.0",
            "_model_name": "FloatProgressModel",
            "_view_count": null,
            "_view_module": "@jupyter-widgets/controls",
            "_view_module_version": "1.5.0",
            "_view_name": "ProgressView",
            "bar_style": "success",
            "description": "",
            "description_tooltip": null,
            "layout": "IPY_MODEL_970c784b733a4811ae5a6160470a72d6",
            "max": 438011953,
            "min": 0,
            "orientation": "horizontal",
            "style": "IPY_MODEL_79595f7611c1427ca43a9d7a6c443651",
            "value": 438011953
          }
        },
        "01de1a53505e494aa7c4ab704e32769d": {
          "model_module": "@jupyter-widgets/controls",
          "model_name": "HTMLModel",
          "model_module_version": "1.5.0",
          "state": {
            "_dom_classes": [],
            "_model_module": "@jupyter-widgets/controls",
            "_model_module_version": "1.5.0",
            "_model_name": "HTMLModel",
            "_view_count": null,
            "_view_module": "@jupyter-widgets/controls",
            "_view_module_version": "1.5.0",
            "_view_name": "HTMLView",
            "description": "",
            "description_tooltip": null,
            "layout": "IPY_MODEL_7126dfe509c347a2a60da4326723cb2a",
            "placeholder": "​",
            "style": "IPY_MODEL_46ff4c6664b24a47be89092f2e485fef",
            "value": " 438M/438M [00:05&lt;00:00, 43.4MB/s]"
          }
        },
        "c0adffa3ffca4b059debd3a17244259a": {
          "model_module": "@jupyter-widgets/base",
          "model_name": "LayoutModel",
          "model_module_version": "1.2.0",
          "state": {
            "_model_module": "@jupyter-widgets/base",
            "_model_module_version": "1.2.0",
            "_model_name": "LayoutModel",
            "_view_count": null,
            "_view_module": "@jupyter-widgets/base",
            "_view_module_version": "1.2.0",
            "_view_name": "LayoutView",
            "align_content": null,
            "align_items": null,
            "align_self": null,
            "border": null,
            "bottom": null,
            "display": null,
            "flex": null,
            "flex_flow": null,
            "grid_area": null,
            "grid_auto_columns": null,
            "grid_auto_flow": null,
            "grid_auto_rows": null,
            "grid_column": null,
            "grid_gap": null,
            "grid_row": null,
            "grid_template_areas": null,
            "grid_template_columns": null,
            "grid_template_rows": null,
            "height": null,
            "justify_content": null,
            "justify_items": null,
            "left": null,
            "margin": null,
            "max_height": null,
            "max_width": null,
            "min_height": null,
            "min_width": null,
            "object_fit": null,
            "object_position": null,
            "order": null,
            "overflow": null,
            "overflow_x": null,
            "overflow_y": null,
            "padding": null,
            "right": null,
            "top": null,
            "visibility": null,
            "width": null
          }
        },
        "61a3f94bc79e46359bc5ca0d5956b1d0": {
          "model_module": "@jupyter-widgets/base",
          "model_name": "LayoutModel",
          "model_module_version": "1.2.0",
          "state": {
            "_model_module": "@jupyter-widgets/base",
            "_model_module_version": "1.2.0",
            "_model_name": "LayoutModel",
            "_view_count": null,
            "_view_module": "@jupyter-widgets/base",
            "_view_module_version": "1.2.0",
            "_view_name": "LayoutView",
            "align_content": null,
            "align_items": null,
            "align_self": null,
            "border": null,
            "bottom": null,
            "display": null,
            "flex": null,
            "flex_flow": null,
            "grid_area": null,
            "grid_auto_columns": null,
            "grid_auto_flow": null,
            "grid_auto_rows": null,
            "grid_column": null,
            "grid_gap": null,
            "grid_row": null,
            "grid_template_areas": null,
            "grid_template_columns": null,
            "grid_template_rows": null,
            "height": null,
            "justify_content": null,
            "justify_items": null,
            "left": null,
            "margin": null,
            "max_height": null,
            "max_width": null,
            "min_height": null,
            "min_width": null,
            "object_fit": null,
            "object_position": null,
            "order": null,
            "overflow": null,
            "overflow_x": null,
            "overflow_y": null,
            "padding": null,
            "right": null,
            "top": null,
            "visibility": null,
            "width": null
          }
        },
        "c9c0b5d651094563b103dea6569536c6": {
          "model_module": "@jupyter-widgets/controls",
          "model_name": "DescriptionStyleModel",
          "model_module_version": "1.5.0",
          "state": {
            "_model_module": "@jupyter-widgets/controls",
            "_model_module_version": "1.5.0",
            "_model_name": "DescriptionStyleModel",
            "_view_count": null,
            "_view_module": "@jupyter-widgets/base",
            "_view_module_version": "1.2.0",
            "_view_name": "StyleView",
            "description_width": ""
          }
        },
        "970c784b733a4811ae5a6160470a72d6": {
          "model_module": "@jupyter-widgets/base",
          "model_name": "LayoutModel",
          "model_module_version": "1.2.0",
          "state": {
            "_model_module": "@jupyter-widgets/base",
            "_model_module_version": "1.2.0",
            "_model_name": "LayoutModel",
            "_view_count": null,
            "_view_module": "@jupyter-widgets/base",
            "_view_module_version": "1.2.0",
            "_view_name": "LayoutView",
            "align_content": null,
            "align_items": null,
            "align_self": null,
            "border": null,
            "bottom": null,
            "display": null,
            "flex": null,
            "flex_flow": null,
            "grid_area": null,
            "grid_auto_columns": null,
            "grid_auto_flow": null,
            "grid_auto_rows": null,
            "grid_column": null,
            "grid_gap": null,
            "grid_row": null,
            "grid_template_areas": null,
            "grid_template_columns": null,
            "grid_template_rows": null,
            "height": null,
            "justify_content": null,
            "justify_items": null,
            "left": null,
            "margin": null,
            "max_height": null,
            "max_width": null,
            "min_height": null,
            "min_width": null,
            "object_fit": null,
            "object_position": null,
            "order": null,
            "overflow": null,
            "overflow_x": null,
            "overflow_y": null,
            "padding": null,
            "right": null,
            "top": null,
            "visibility": null,
            "width": null
          }
        },
        "79595f7611c1427ca43a9d7a6c443651": {
          "model_module": "@jupyter-widgets/controls",
          "model_name": "ProgressStyleModel",
          "model_module_version": "1.5.0",
          "state": {
            "_model_module": "@jupyter-widgets/controls",
            "_model_module_version": "1.5.0",
            "_model_name": "ProgressStyleModel",
            "_view_count": null,
            "_view_module": "@jupyter-widgets/base",
            "_view_module_version": "1.2.0",
            "_view_name": "StyleView",
            "bar_color": null,
            "description_width": ""
          }
        },
        "7126dfe509c347a2a60da4326723cb2a": {
          "model_module": "@jupyter-widgets/base",
          "model_name": "LayoutModel",
          "model_module_version": "1.2.0",
          "state": {
            "_model_module": "@jupyter-widgets/base",
            "_model_module_version": "1.2.0",
            "_model_name": "LayoutModel",
            "_view_count": null,
            "_view_module": "@jupyter-widgets/base",
            "_view_module_version": "1.2.0",
            "_view_name": "LayoutView",
            "align_content": null,
            "align_items": null,
            "align_self": null,
            "border": null,
            "bottom": null,
            "display": null,
            "flex": null,
            "flex_flow": null,
            "grid_area": null,
            "grid_auto_columns": null,
            "grid_auto_flow": null,
            "grid_auto_rows": null,
            "grid_column": null,
            "grid_gap": null,
            "grid_row": null,
            "grid_template_areas": null,
            "grid_template_columns": null,
            "grid_template_rows": null,
            "height": null,
            "justify_content": null,
            "justify_items": null,
            "left": null,
            "margin": null,
            "max_height": null,
            "max_width": null,
            "min_height": null,
            "min_width": null,
            "object_fit": null,
            "object_position": null,
            "order": null,
            "overflow": null,
            "overflow_x": null,
            "overflow_y": null,
            "padding": null,
            "right": null,
            "top": null,
            "visibility": null,
            "width": null
          }
        },
        "46ff4c6664b24a47be89092f2e485fef": {
          "model_module": "@jupyter-widgets/controls",
          "model_name": "DescriptionStyleModel",
          "model_module_version": "1.5.0",
          "state": {
            "_model_module": "@jupyter-widgets/controls",
            "_model_module_version": "1.5.0",
            "_model_name": "DescriptionStyleModel",
            "_view_count": null,
            "_view_module": "@jupyter-widgets/base",
            "_view_module_version": "1.2.0",
            "_view_name": "StyleView",
            "description_width": ""
          }
        },
        "73c5ae98bab242f2a6a821d73d549c1e": {
          "model_module": "@jupyter-widgets/controls",
          "model_name": "HBoxModel",
          "model_module_version": "1.5.0",
          "state": {
            "_dom_classes": [],
            "_model_module": "@jupyter-widgets/controls",
            "_model_module_version": "1.5.0",
            "_model_name": "HBoxModel",
            "_view_count": null,
            "_view_module": "@jupyter-widgets/controls",
            "_view_module_version": "1.5.0",
            "_view_name": "HBoxView",
            "box_style": "",
            "children": [
              "IPY_MODEL_f3b8ed82725a47caa83c1aeea9c4cd0b",
              "IPY_MODEL_01f60e306bfb4d23bf05f098615abcac",
              "IPY_MODEL_453cd9e329264b01a54a4b55becc2162"
            ],
            "layout": "IPY_MODEL_abd278a8524b412c9b38ed040ea68259"
          }
        },
        "f3b8ed82725a47caa83c1aeea9c4cd0b": {
          "model_module": "@jupyter-widgets/controls",
          "model_name": "HTMLModel",
          "model_module_version": "1.5.0",
          "state": {
            "_dom_classes": [],
            "_model_module": "@jupyter-widgets/controls",
            "_model_module_version": "1.5.0",
            "_model_name": "HTMLModel",
            "_view_count": null,
            "_view_module": "@jupyter-widgets/controls",
            "_view_module_version": "1.5.0",
            "_view_name": "HTMLView",
            "description": "",
            "description_tooltip": null,
            "layout": "IPY_MODEL_4f87a320ef914a9ea4474cea0707d66c",
            "placeholder": "​",
            "style": "IPY_MODEL_a439f6f5a504412a9f68834ba2f7dfe7",
            "value": "tokenizer_config.json: 100%"
          }
        },
        "01f60e306bfb4d23bf05f098615abcac": {
          "model_module": "@jupyter-widgets/controls",
          "model_name": "FloatProgressModel",
          "model_module_version": "1.5.0",
          "state": {
            "_dom_classes": [],
            "_model_module": "@jupyter-widgets/controls",
            "_model_module_version": "1.5.0",
            "_model_name": "FloatProgressModel",
            "_view_count": null,
            "_view_module": "@jupyter-widgets/controls",
            "_view_module_version": "1.5.0",
            "_view_name": "ProgressView",
            "bar_style": "success",
            "description": "",
            "description_tooltip": null,
            "layout": "IPY_MODEL_4ed7dc3c9d704e23a214f539d2a4d560",
            "max": 363,
            "min": 0,
            "orientation": "horizontal",
            "style": "IPY_MODEL_d089a908d27e48d9b2841fd0eb8ac387",
            "value": 363
          }
        },
        "453cd9e329264b01a54a4b55becc2162": {
          "model_module": "@jupyter-widgets/controls",
          "model_name": "HTMLModel",
          "model_module_version": "1.5.0",
          "state": {
            "_dom_classes": [],
            "_model_module": "@jupyter-widgets/controls",
            "_model_module_version": "1.5.0",
            "_model_name": "HTMLModel",
            "_view_count": null,
            "_view_module": "@jupyter-widgets/controls",
            "_view_module_version": "1.5.0",
            "_view_name": "HTMLView",
            "description": "",
            "description_tooltip": null,
            "layout": "IPY_MODEL_59784952538a4cc984f08a81592119f8",
            "placeholder": "​",
            "style": "IPY_MODEL_5de591ee2b0341158323734be53a30cf",
            "value": " 363/363 [00:00&lt;00:00, 11.6kB/s]"
          }
        },
        "abd278a8524b412c9b38ed040ea68259": {
          "model_module": "@jupyter-widgets/base",
          "model_name": "LayoutModel",
          "model_module_version": "1.2.0",
          "state": {
            "_model_module": "@jupyter-widgets/base",
            "_model_module_version": "1.2.0",
            "_model_name": "LayoutModel",
            "_view_count": null,
            "_view_module": "@jupyter-widgets/base",
            "_view_module_version": "1.2.0",
            "_view_name": "LayoutView",
            "align_content": null,
            "align_items": null,
            "align_self": null,
            "border": null,
            "bottom": null,
            "display": null,
            "flex": null,
            "flex_flow": null,
            "grid_area": null,
            "grid_auto_columns": null,
            "grid_auto_flow": null,
            "grid_auto_rows": null,
            "grid_column": null,
            "grid_gap": null,
            "grid_row": null,
            "grid_template_areas": null,
            "grid_template_columns": null,
            "grid_template_rows": null,
            "height": null,
            "justify_content": null,
            "justify_items": null,
            "left": null,
            "margin": null,
            "max_height": null,
            "max_width": null,
            "min_height": null,
            "min_width": null,
            "object_fit": null,
            "object_position": null,
            "order": null,
            "overflow": null,
            "overflow_x": null,
            "overflow_y": null,
            "padding": null,
            "right": null,
            "top": null,
            "visibility": null,
            "width": null
          }
        },
        "4f87a320ef914a9ea4474cea0707d66c": {
          "model_module": "@jupyter-widgets/base",
          "model_name": "LayoutModel",
          "model_module_version": "1.2.0",
          "state": {
            "_model_module": "@jupyter-widgets/base",
            "_model_module_version": "1.2.0",
            "_model_name": "LayoutModel",
            "_view_count": null,
            "_view_module": "@jupyter-widgets/base",
            "_view_module_version": "1.2.0",
            "_view_name": "LayoutView",
            "align_content": null,
            "align_items": null,
            "align_self": null,
            "border": null,
            "bottom": null,
            "display": null,
            "flex": null,
            "flex_flow": null,
            "grid_area": null,
            "grid_auto_columns": null,
            "grid_auto_flow": null,
            "grid_auto_rows": null,
            "grid_column": null,
            "grid_gap": null,
            "grid_row": null,
            "grid_template_areas": null,
            "grid_template_columns": null,
            "grid_template_rows": null,
            "height": null,
            "justify_content": null,
            "justify_items": null,
            "left": null,
            "margin": null,
            "max_height": null,
            "max_width": null,
            "min_height": null,
            "min_width": null,
            "object_fit": null,
            "object_position": null,
            "order": null,
            "overflow": null,
            "overflow_x": null,
            "overflow_y": null,
            "padding": null,
            "right": null,
            "top": null,
            "visibility": null,
            "width": null
          }
        },
        "a439f6f5a504412a9f68834ba2f7dfe7": {
          "model_module": "@jupyter-widgets/controls",
          "model_name": "DescriptionStyleModel",
          "model_module_version": "1.5.0",
          "state": {
            "_model_module": "@jupyter-widgets/controls",
            "_model_module_version": "1.5.0",
            "_model_name": "DescriptionStyleModel",
            "_view_count": null,
            "_view_module": "@jupyter-widgets/base",
            "_view_module_version": "1.2.0",
            "_view_name": "StyleView",
            "description_width": ""
          }
        },
        "4ed7dc3c9d704e23a214f539d2a4d560": {
          "model_module": "@jupyter-widgets/base",
          "model_name": "LayoutModel",
          "model_module_version": "1.2.0",
          "state": {
            "_model_module": "@jupyter-widgets/base",
            "_model_module_version": "1.2.0",
            "_model_name": "LayoutModel",
            "_view_count": null,
            "_view_module": "@jupyter-widgets/base",
            "_view_module_version": "1.2.0",
            "_view_name": "LayoutView",
            "align_content": null,
            "align_items": null,
            "align_self": null,
            "border": null,
            "bottom": null,
            "display": null,
            "flex": null,
            "flex_flow": null,
            "grid_area": null,
            "grid_auto_columns": null,
            "grid_auto_flow": null,
            "grid_auto_rows": null,
            "grid_column": null,
            "grid_gap": null,
            "grid_row": null,
            "grid_template_areas": null,
            "grid_template_columns": null,
            "grid_template_rows": null,
            "height": null,
            "justify_content": null,
            "justify_items": null,
            "left": null,
            "margin": null,
            "max_height": null,
            "max_width": null,
            "min_height": null,
            "min_width": null,
            "object_fit": null,
            "object_position": null,
            "order": null,
            "overflow": null,
            "overflow_x": null,
            "overflow_y": null,
            "padding": null,
            "right": null,
            "top": null,
            "visibility": null,
            "width": null
          }
        },
        "d089a908d27e48d9b2841fd0eb8ac387": {
          "model_module": "@jupyter-widgets/controls",
          "model_name": "ProgressStyleModel",
          "model_module_version": "1.5.0",
          "state": {
            "_model_module": "@jupyter-widgets/controls",
            "_model_module_version": "1.5.0",
            "_model_name": "ProgressStyleModel",
            "_view_count": null,
            "_view_module": "@jupyter-widgets/base",
            "_view_module_version": "1.2.0",
            "_view_name": "StyleView",
            "bar_color": null,
            "description_width": ""
          }
        },
        "59784952538a4cc984f08a81592119f8": {
          "model_module": "@jupyter-widgets/base",
          "model_name": "LayoutModel",
          "model_module_version": "1.2.0",
          "state": {
            "_model_module": "@jupyter-widgets/base",
            "_model_module_version": "1.2.0",
            "_model_name": "LayoutModel",
            "_view_count": null,
            "_view_module": "@jupyter-widgets/base",
            "_view_module_version": "1.2.0",
            "_view_name": "LayoutView",
            "align_content": null,
            "align_items": null,
            "align_self": null,
            "border": null,
            "bottom": null,
            "display": null,
            "flex": null,
            "flex_flow": null,
            "grid_area": null,
            "grid_auto_columns": null,
            "grid_auto_flow": null,
            "grid_auto_rows": null,
            "grid_column": null,
            "grid_gap": null,
            "grid_row": null,
            "grid_template_areas": null,
            "grid_template_columns": null,
            "grid_template_rows": null,
            "height": null,
            "justify_content": null,
            "justify_items": null,
            "left": null,
            "margin": null,
            "max_height": null,
            "max_width": null,
            "min_height": null,
            "min_width": null,
            "object_fit": null,
            "object_position": null,
            "order": null,
            "overflow": null,
            "overflow_x": null,
            "overflow_y": null,
            "padding": null,
            "right": null,
            "top": null,
            "visibility": null,
            "width": null
          }
        },
        "5de591ee2b0341158323734be53a30cf": {
          "model_module": "@jupyter-widgets/controls",
          "model_name": "DescriptionStyleModel",
          "model_module_version": "1.5.0",
          "state": {
            "_model_module": "@jupyter-widgets/controls",
            "_model_module_version": "1.5.0",
            "_model_name": "DescriptionStyleModel",
            "_view_count": null,
            "_view_module": "@jupyter-widgets/base",
            "_view_module_version": "1.2.0",
            "_view_name": "StyleView",
            "description_width": ""
          }
        },
        "3efe3bafdb9345b2a779d802b8c53476": {
          "model_module": "@jupyter-widgets/controls",
          "model_name": "HBoxModel",
          "model_module_version": "1.5.0",
          "state": {
            "_dom_classes": [],
            "_model_module": "@jupyter-widgets/controls",
            "_model_module_version": "1.5.0",
            "_model_name": "HBoxModel",
            "_view_count": null,
            "_view_module": "@jupyter-widgets/controls",
            "_view_module_version": "1.5.0",
            "_view_name": "HBoxView",
            "box_style": "",
            "children": [
              "IPY_MODEL_1cf7ba1391d74e9d97669f81d9a8efa3",
              "IPY_MODEL_fb76fcdf792946e09c8123db04298a4f",
              "IPY_MODEL_2b36c99043ac477ba49207ed2b033633"
            ],
            "layout": "IPY_MODEL_1aa1cc6f70bf48418e584ba0fbfbd50f"
          }
        },
        "1cf7ba1391d74e9d97669f81d9a8efa3": {
          "model_module": "@jupyter-widgets/controls",
          "model_name": "HTMLModel",
          "model_module_version": "1.5.0",
          "state": {
            "_dom_classes": [],
            "_model_module": "@jupyter-widgets/controls",
            "_model_module_version": "1.5.0",
            "_model_name": "HTMLModel",
            "_view_count": null,
            "_view_module": "@jupyter-widgets/controls",
            "_view_module_version": "1.5.0",
            "_view_name": "HTMLView",
            "description": "",
            "description_tooltip": null,
            "layout": "IPY_MODEL_d7b042eb33fc444abf91dcbda44ae5d7",
            "placeholder": "​",
            "style": "IPY_MODEL_6d543e8c786940d3948d499abf778007",
            "value": "vocab.txt: 100%"
          }
        },
        "fb76fcdf792946e09c8123db04298a4f": {
          "model_module": "@jupyter-widgets/controls",
          "model_name": "FloatProgressModel",
          "model_module_version": "1.5.0",
          "state": {
            "_dom_classes": [],
            "_model_module": "@jupyter-widgets/controls",
            "_model_module_version": "1.5.0",
            "_model_name": "FloatProgressModel",
            "_view_count": null,
            "_view_module": "@jupyter-widgets/controls",
            "_view_module_version": "1.5.0",
            "_view_name": "ProgressView",
            "bar_style": "success",
            "description": "",
            "description_tooltip": null,
            "layout": "IPY_MODEL_697f6a778f9f4ee4a512687ae835166b",
            "max": 231536,
            "min": 0,
            "orientation": "horizontal",
            "style": "IPY_MODEL_191e75e83baf4377b1966ce7fab2a1c7",
            "value": 231536
          }
        },
        "2b36c99043ac477ba49207ed2b033633": {
          "model_module": "@jupyter-widgets/controls",
          "model_name": "HTMLModel",
          "model_module_version": "1.5.0",
          "state": {
            "_dom_classes": [],
            "_model_module": "@jupyter-widgets/controls",
            "_model_module_version": "1.5.0",
            "_model_name": "HTMLModel",
            "_view_count": null,
            "_view_module": "@jupyter-widgets/controls",
            "_view_module_version": "1.5.0",
            "_view_name": "HTMLView",
            "description": "",
            "description_tooltip": null,
            "layout": "IPY_MODEL_b95c8771c37a457ca8e426d858f29efd",
            "placeholder": "​",
            "style": "IPY_MODEL_74bb51ca7e3046d9a40eb686ef866317",
            "value": " 232k/232k [00:00&lt;00:00, 4.27MB/s]"
          }
        },
        "1aa1cc6f70bf48418e584ba0fbfbd50f": {
          "model_module": "@jupyter-widgets/base",
          "model_name": "LayoutModel",
          "model_module_version": "1.2.0",
          "state": {
            "_model_module": "@jupyter-widgets/base",
            "_model_module_version": "1.2.0",
            "_model_name": "LayoutModel",
            "_view_count": null,
            "_view_module": "@jupyter-widgets/base",
            "_view_module_version": "1.2.0",
            "_view_name": "LayoutView",
            "align_content": null,
            "align_items": null,
            "align_self": null,
            "border": null,
            "bottom": null,
            "display": null,
            "flex": null,
            "flex_flow": null,
            "grid_area": null,
            "grid_auto_columns": null,
            "grid_auto_flow": null,
            "grid_auto_rows": null,
            "grid_column": null,
            "grid_gap": null,
            "grid_row": null,
            "grid_template_areas": null,
            "grid_template_columns": null,
            "grid_template_rows": null,
            "height": null,
            "justify_content": null,
            "justify_items": null,
            "left": null,
            "margin": null,
            "max_height": null,
            "max_width": null,
            "min_height": null,
            "min_width": null,
            "object_fit": null,
            "object_position": null,
            "order": null,
            "overflow": null,
            "overflow_x": null,
            "overflow_y": null,
            "padding": null,
            "right": null,
            "top": null,
            "visibility": null,
            "width": null
          }
        },
        "d7b042eb33fc444abf91dcbda44ae5d7": {
          "model_module": "@jupyter-widgets/base",
          "model_name": "LayoutModel",
          "model_module_version": "1.2.0",
          "state": {
            "_model_module": "@jupyter-widgets/base",
            "_model_module_version": "1.2.0",
            "_model_name": "LayoutModel",
            "_view_count": null,
            "_view_module": "@jupyter-widgets/base",
            "_view_module_version": "1.2.0",
            "_view_name": "LayoutView",
            "align_content": null,
            "align_items": null,
            "align_self": null,
            "border": null,
            "bottom": null,
            "display": null,
            "flex": null,
            "flex_flow": null,
            "grid_area": null,
            "grid_auto_columns": null,
            "grid_auto_flow": null,
            "grid_auto_rows": null,
            "grid_column": null,
            "grid_gap": null,
            "grid_row": null,
            "grid_template_areas": null,
            "grid_template_columns": null,
            "grid_template_rows": null,
            "height": null,
            "justify_content": null,
            "justify_items": null,
            "left": null,
            "margin": null,
            "max_height": null,
            "max_width": null,
            "min_height": null,
            "min_width": null,
            "object_fit": null,
            "object_position": null,
            "order": null,
            "overflow": null,
            "overflow_x": null,
            "overflow_y": null,
            "padding": null,
            "right": null,
            "top": null,
            "visibility": null,
            "width": null
          }
        },
        "6d543e8c786940d3948d499abf778007": {
          "model_module": "@jupyter-widgets/controls",
          "model_name": "DescriptionStyleModel",
          "model_module_version": "1.5.0",
          "state": {
            "_model_module": "@jupyter-widgets/controls",
            "_model_module_version": "1.5.0",
            "_model_name": "DescriptionStyleModel",
            "_view_count": null,
            "_view_module": "@jupyter-widgets/base",
            "_view_module_version": "1.2.0",
            "_view_name": "StyleView",
            "description_width": ""
          }
        },
        "697f6a778f9f4ee4a512687ae835166b": {
          "model_module": "@jupyter-widgets/base",
          "model_name": "LayoutModel",
          "model_module_version": "1.2.0",
          "state": {
            "_model_module": "@jupyter-widgets/base",
            "_model_module_version": "1.2.0",
            "_model_name": "LayoutModel",
            "_view_count": null,
            "_view_module": "@jupyter-widgets/base",
            "_view_module_version": "1.2.0",
            "_view_name": "LayoutView",
            "align_content": null,
            "align_items": null,
            "align_self": null,
            "border": null,
            "bottom": null,
            "display": null,
            "flex": null,
            "flex_flow": null,
            "grid_area": null,
            "grid_auto_columns": null,
            "grid_auto_flow": null,
            "grid_auto_rows": null,
            "grid_column": null,
            "grid_gap": null,
            "grid_row": null,
            "grid_template_areas": null,
            "grid_template_columns": null,
            "grid_template_rows": null,
            "height": null,
            "justify_content": null,
            "justify_items": null,
            "left": null,
            "margin": null,
            "max_height": null,
            "max_width": null,
            "min_height": null,
            "min_width": null,
            "object_fit": null,
            "object_position": null,
            "order": null,
            "overflow": null,
            "overflow_x": null,
            "overflow_y": null,
            "padding": null,
            "right": null,
            "top": null,
            "visibility": null,
            "width": null
          }
        },
        "191e75e83baf4377b1966ce7fab2a1c7": {
          "model_module": "@jupyter-widgets/controls",
          "model_name": "ProgressStyleModel",
          "model_module_version": "1.5.0",
          "state": {
            "_model_module": "@jupyter-widgets/controls",
            "_model_module_version": "1.5.0",
            "_model_name": "ProgressStyleModel",
            "_view_count": null,
            "_view_module": "@jupyter-widgets/base",
            "_view_module_version": "1.2.0",
            "_view_name": "StyleView",
            "bar_color": null,
            "description_width": ""
          }
        },
        "b95c8771c37a457ca8e426d858f29efd": {
          "model_module": "@jupyter-widgets/base",
          "model_name": "LayoutModel",
          "model_module_version": "1.2.0",
          "state": {
            "_model_module": "@jupyter-widgets/base",
            "_model_module_version": "1.2.0",
            "_model_name": "LayoutModel",
            "_view_count": null,
            "_view_module": "@jupyter-widgets/base",
            "_view_module_version": "1.2.0",
            "_view_name": "LayoutView",
            "align_content": null,
            "align_items": null,
            "align_self": null,
            "border": null,
            "bottom": null,
            "display": null,
            "flex": null,
            "flex_flow": null,
            "grid_area": null,
            "grid_auto_columns": null,
            "grid_auto_flow": null,
            "grid_auto_rows": null,
            "grid_column": null,
            "grid_gap": null,
            "grid_row": null,
            "grid_template_areas": null,
            "grid_template_columns": null,
            "grid_template_rows": null,
            "height": null,
            "justify_content": null,
            "justify_items": null,
            "left": null,
            "margin": null,
            "max_height": null,
            "max_width": null,
            "min_height": null,
            "min_width": null,
            "object_fit": null,
            "object_position": null,
            "order": null,
            "overflow": null,
            "overflow_x": null,
            "overflow_y": null,
            "padding": null,
            "right": null,
            "top": null,
            "visibility": null,
            "width": null
          }
        },
        "74bb51ca7e3046d9a40eb686ef866317": {
          "model_module": "@jupyter-widgets/controls",
          "model_name": "DescriptionStyleModel",
          "model_module_version": "1.5.0",
          "state": {
            "_model_module": "@jupyter-widgets/controls",
            "_model_module_version": "1.5.0",
            "_model_name": "DescriptionStyleModel",
            "_view_count": null,
            "_view_module": "@jupyter-widgets/base",
            "_view_module_version": "1.2.0",
            "_view_name": "StyleView",
            "description_width": ""
          }
        },
        "56e007bb91544551997a11611284cc51": {
          "model_module": "@jupyter-widgets/controls",
          "model_name": "HBoxModel",
          "model_module_version": "1.5.0",
          "state": {
            "_dom_classes": [],
            "_model_module": "@jupyter-widgets/controls",
            "_model_module_version": "1.5.0",
            "_model_name": "HBoxModel",
            "_view_count": null,
            "_view_module": "@jupyter-widgets/controls",
            "_view_module_version": "1.5.0",
            "_view_name": "HBoxView",
            "box_style": "",
            "children": [
              "IPY_MODEL_29bd05f32fd84955ac56c4df95efa26d",
              "IPY_MODEL_f4b70209dfa74b28b8c7323f0e4ecd64",
              "IPY_MODEL_86b106db96ca42d8ae217971b96f6c5f"
            ],
            "layout": "IPY_MODEL_83a786b8b563489aa7d380f72a07a0d3"
          }
        },
        "29bd05f32fd84955ac56c4df95efa26d": {
          "model_module": "@jupyter-widgets/controls",
          "model_name": "HTMLModel",
          "model_module_version": "1.5.0",
          "state": {
            "_dom_classes": [],
            "_model_module": "@jupyter-widgets/controls",
            "_model_module_version": "1.5.0",
            "_model_name": "HTMLModel",
            "_view_count": null,
            "_view_module": "@jupyter-widgets/controls",
            "_view_module_version": "1.5.0",
            "_view_name": "HTMLView",
            "description": "",
            "description_tooltip": null,
            "layout": "IPY_MODEL_5f72cfea39754ea0a9eedc7c6277d7a1",
            "placeholder": "​",
            "style": "IPY_MODEL_30a6cfc77b814a97b7bfbedc0ff726a7",
            "value": "tokenizer.json: 100%"
          }
        },
        "f4b70209dfa74b28b8c7323f0e4ecd64": {
          "model_module": "@jupyter-widgets/controls",
          "model_name": "FloatProgressModel",
          "model_module_version": "1.5.0",
          "state": {
            "_dom_classes": [],
            "_model_module": "@jupyter-widgets/controls",
            "_model_module_version": "1.5.0",
            "_model_name": "FloatProgressModel",
            "_view_count": null,
            "_view_module": "@jupyter-widgets/controls",
            "_view_module_version": "1.5.0",
            "_view_name": "ProgressView",
            "bar_style": "success",
            "description": "",
            "description_tooltip": null,
            "layout": "IPY_MODEL_c3c5b7fe81de4fde89a9ca7e494f4cfb",
            "max": 466021,
            "min": 0,
            "orientation": "horizontal",
            "style": "IPY_MODEL_e6adf6b4b36f409eb4a6e0b39c4f346c",
            "value": 466021
          }
        },
        "86b106db96ca42d8ae217971b96f6c5f": {
          "model_module": "@jupyter-widgets/controls",
          "model_name": "HTMLModel",
          "model_module_version": "1.5.0",
          "state": {
            "_dom_classes": [],
            "_model_module": "@jupyter-widgets/controls",
            "_model_module_version": "1.5.0",
            "_model_name": "HTMLModel",
            "_view_count": null,
            "_view_module": "@jupyter-widgets/controls",
            "_view_module_version": "1.5.0",
            "_view_name": "HTMLView",
            "description": "",
            "description_tooltip": null,
            "layout": "IPY_MODEL_f60159b2b0184201a855aba23e4bbe8f",
            "placeholder": "​",
            "style": "IPY_MODEL_fe1d5a4994dd494ebfc75826cf0fff94",
            "value": " 466k/466k [00:00&lt;00:00, 7.05MB/s]"
          }
        },
        "83a786b8b563489aa7d380f72a07a0d3": {
          "model_module": "@jupyter-widgets/base",
          "model_name": "LayoutModel",
          "model_module_version": "1.2.0",
          "state": {
            "_model_module": "@jupyter-widgets/base",
            "_model_module_version": "1.2.0",
            "_model_name": "LayoutModel",
            "_view_count": null,
            "_view_module": "@jupyter-widgets/base",
            "_view_module_version": "1.2.0",
            "_view_name": "LayoutView",
            "align_content": null,
            "align_items": null,
            "align_self": null,
            "border": null,
            "bottom": null,
            "display": null,
            "flex": null,
            "flex_flow": null,
            "grid_area": null,
            "grid_auto_columns": null,
            "grid_auto_flow": null,
            "grid_auto_rows": null,
            "grid_column": null,
            "grid_gap": null,
            "grid_row": null,
            "grid_template_areas": null,
            "grid_template_columns": null,
            "grid_template_rows": null,
            "height": null,
            "justify_content": null,
            "justify_items": null,
            "left": null,
            "margin": null,
            "max_height": null,
            "max_width": null,
            "min_height": null,
            "min_width": null,
            "object_fit": null,
            "object_position": null,
            "order": null,
            "overflow": null,
            "overflow_x": null,
            "overflow_y": null,
            "padding": null,
            "right": null,
            "top": null,
            "visibility": null,
            "width": null
          }
        },
        "5f72cfea39754ea0a9eedc7c6277d7a1": {
          "model_module": "@jupyter-widgets/base",
          "model_name": "LayoutModel",
          "model_module_version": "1.2.0",
          "state": {
            "_model_module": "@jupyter-widgets/base",
            "_model_module_version": "1.2.0",
            "_model_name": "LayoutModel",
            "_view_count": null,
            "_view_module": "@jupyter-widgets/base",
            "_view_module_version": "1.2.0",
            "_view_name": "LayoutView",
            "align_content": null,
            "align_items": null,
            "align_self": null,
            "border": null,
            "bottom": null,
            "display": null,
            "flex": null,
            "flex_flow": null,
            "grid_area": null,
            "grid_auto_columns": null,
            "grid_auto_flow": null,
            "grid_auto_rows": null,
            "grid_column": null,
            "grid_gap": null,
            "grid_row": null,
            "grid_template_areas": null,
            "grid_template_columns": null,
            "grid_template_rows": null,
            "height": null,
            "justify_content": null,
            "justify_items": null,
            "left": null,
            "margin": null,
            "max_height": null,
            "max_width": null,
            "min_height": null,
            "min_width": null,
            "object_fit": null,
            "object_position": null,
            "order": null,
            "overflow": null,
            "overflow_x": null,
            "overflow_y": null,
            "padding": null,
            "right": null,
            "top": null,
            "visibility": null,
            "width": null
          }
        },
        "30a6cfc77b814a97b7bfbedc0ff726a7": {
          "model_module": "@jupyter-widgets/controls",
          "model_name": "DescriptionStyleModel",
          "model_module_version": "1.5.0",
          "state": {
            "_model_module": "@jupyter-widgets/controls",
            "_model_module_version": "1.5.0",
            "_model_name": "DescriptionStyleModel",
            "_view_count": null,
            "_view_module": "@jupyter-widgets/base",
            "_view_module_version": "1.2.0",
            "_view_name": "StyleView",
            "description_width": ""
          }
        },
        "c3c5b7fe81de4fde89a9ca7e494f4cfb": {
          "model_module": "@jupyter-widgets/base",
          "model_name": "LayoutModel",
          "model_module_version": "1.2.0",
          "state": {
            "_model_module": "@jupyter-widgets/base",
            "_model_module_version": "1.2.0",
            "_model_name": "LayoutModel",
            "_view_count": null,
            "_view_module": "@jupyter-widgets/base",
            "_view_module_version": "1.2.0",
            "_view_name": "LayoutView",
            "align_content": null,
            "align_items": null,
            "align_self": null,
            "border": null,
            "bottom": null,
            "display": null,
            "flex": null,
            "flex_flow": null,
            "grid_area": null,
            "grid_auto_columns": null,
            "grid_auto_flow": null,
            "grid_auto_rows": null,
            "grid_column": null,
            "grid_gap": null,
            "grid_row": null,
            "grid_template_areas": null,
            "grid_template_columns": null,
            "grid_template_rows": null,
            "height": null,
            "justify_content": null,
            "justify_items": null,
            "left": null,
            "margin": null,
            "max_height": null,
            "max_width": null,
            "min_height": null,
            "min_width": null,
            "object_fit": null,
            "object_position": null,
            "order": null,
            "overflow": null,
            "overflow_x": null,
            "overflow_y": null,
            "padding": null,
            "right": null,
            "top": null,
            "visibility": null,
            "width": null
          }
        },
        "e6adf6b4b36f409eb4a6e0b39c4f346c": {
          "model_module": "@jupyter-widgets/controls",
          "model_name": "ProgressStyleModel",
          "model_module_version": "1.5.0",
          "state": {
            "_model_module": "@jupyter-widgets/controls",
            "_model_module_version": "1.5.0",
            "_model_name": "ProgressStyleModel",
            "_view_count": null,
            "_view_module": "@jupyter-widgets/base",
            "_view_module_version": "1.2.0",
            "_view_name": "StyleView",
            "bar_color": null,
            "description_width": ""
          }
        },
        "f60159b2b0184201a855aba23e4bbe8f": {
          "model_module": "@jupyter-widgets/base",
          "model_name": "LayoutModel",
          "model_module_version": "1.2.0",
          "state": {
            "_model_module": "@jupyter-widgets/base",
            "_model_module_version": "1.2.0",
            "_model_name": "LayoutModel",
            "_view_count": null,
            "_view_module": "@jupyter-widgets/base",
            "_view_module_version": "1.2.0",
            "_view_name": "LayoutView",
            "align_content": null,
            "align_items": null,
            "align_self": null,
            "border": null,
            "bottom": null,
            "display": null,
            "flex": null,
            "flex_flow": null,
            "grid_area": null,
            "grid_auto_columns": null,
            "grid_auto_flow": null,
            "grid_auto_rows": null,
            "grid_column": null,
            "grid_gap": null,
            "grid_row": null,
            "grid_template_areas": null,
            "grid_template_columns": null,
            "grid_template_rows": null,
            "height": null,
            "justify_content": null,
            "justify_items": null,
            "left": null,
            "margin": null,
            "max_height": null,
            "max_width": null,
            "min_height": null,
            "min_width": null,
            "object_fit": null,
            "object_position": null,
            "order": null,
            "overflow": null,
            "overflow_x": null,
            "overflow_y": null,
            "padding": null,
            "right": null,
            "top": null,
            "visibility": null,
            "width": null
          }
        },
        "fe1d5a4994dd494ebfc75826cf0fff94": {
          "model_module": "@jupyter-widgets/controls",
          "model_name": "DescriptionStyleModel",
          "model_module_version": "1.5.0",
          "state": {
            "_model_module": "@jupyter-widgets/controls",
            "_model_module_version": "1.5.0",
            "_model_name": "DescriptionStyleModel",
            "_view_count": null,
            "_view_module": "@jupyter-widgets/base",
            "_view_module_version": "1.2.0",
            "_view_name": "StyleView",
            "description_width": ""
          }
        },
        "eb927e51ba3a456c95fea567ef5b5dad": {
          "model_module": "@jupyter-widgets/controls",
          "model_name": "HBoxModel",
          "model_module_version": "1.5.0",
          "state": {
            "_dom_classes": [],
            "_model_module": "@jupyter-widgets/controls",
            "_model_module_version": "1.5.0",
            "_model_name": "HBoxModel",
            "_view_count": null,
            "_view_module": "@jupyter-widgets/controls",
            "_view_module_version": "1.5.0",
            "_view_name": "HBoxView",
            "box_style": "",
            "children": [
              "IPY_MODEL_761711b3904d4ab7ae92fcc43c010aa8",
              "IPY_MODEL_bc9b5b04c6ea40dd903d2e2146ce6092",
              "IPY_MODEL_d57c2e86b7894f83a5ea11c92ff7d420"
            ],
            "layout": "IPY_MODEL_e29adcdbd72b4ce2bbf2cacb8212af69"
          }
        },
        "761711b3904d4ab7ae92fcc43c010aa8": {
          "model_module": "@jupyter-widgets/controls",
          "model_name": "HTMLModel",
          "model_module_version": "1.5.0",
          "state": {
            "_dom_classes": [],
            "_model_module": "@jupyter-widgets/controls",
            "_model_module_version": "1.5.0",
            "_model_name": "HTMLModel",
            "_view_count": null,
            "_view_module": "@jupyter-widgets/controls",
            "_view_module_version": "1.5.0",
            "_view_name": "HTMLView",
            "description": "",
            "description_tooltip": null,
            "layout": "IPY_MODEL_ba80f0ed7168408aba9d437ac1af67aa",
            "placeholder": "​",
            "style": "IPY_MODEL_1b34e08e5e804d738347bc98adba5928",
            "value": "special_tokens_map.json: 100%"
          }
        },
        "bc9b5b04c6ea40dd903d2e2146ce6092": {
          "model_module": "@jupyter-widgets/controls",
          "model_name": "FloatProgressModel",
          "model_module_version": "1.5.0",
          "state": {
            "_dom_classes": [],
            "_model_module": "@jupyter-widgets/controls",
            "_model_module_version": "1.5.0",
            "_model_name": "FloatProgressModel",
            "_view_count": null,
            "_view_module": "@jupyter-widgets/controls",
            "_view_module_version": "1.5.0",
            "_view_name": "ProgressView",
            "bar_style": "success",
            "description": "",
            "description_tooltip": null,
            "layout": "IPY_MODEL_8658b026c89d41bebbf618c131a9a1e2",
            "max": 239,
            "min": 0,
            "orientation": "horizontal",
            "style": "IPY_MODEL_01de6d6e574141df91df0b059d51cd04",
            "value": 239
          }
        },
        "d57c2e86b7894f83a5ea11c92ff7d420": {
          "model_module": "@jupyter-widgets/controls",
          "model_name": "HTMLModel",
          "model_module_version": "1.5.0",
          "state": {
            "_dom_classes": [],
            "_model_module": "@jupyter-widgets/controls",
            "_model_module_version": "1.5.0",
            "_model_name": "HTMLModel",
            "_view_count": null,
            "_view_module": "@jupyter-widgets/controls",
            "_view_module_version": "1.5.0",
            "_view_name": "HTMLView",
            "description": "",
            "description_tooltip": null,
            "layout": "IPY_MODEL_a41e2bbd44004ddcb239daba5ab6b992",
            "placeholder": "​",
            "style": "IPY_MODEL_4e4ffa35bfde4c49979e2a3f5946f90a",
            "value": " 239/239 [00:00&lt;00:00, 12.4kB/s]"
          }
        },
        "e29adcdbd72b4ce2bbf2cacb8212af69": {
          "model_module": "@jupyter-widgets/base",
          "model_name": "LayoutModel",
          "model_module_version": "1.2.0",
          "state": {
            "_model_module": "@jupyter-widgets/base",
            "_model_module_version": "1.2.0",
            "_model_name": "LayoutModel",
            "_view_count": null,
            "_view_module": "@jupyter-widgets/base",
            "_view_module_version": "1.2.0",
            "_view_name": "LayoutView",
            "align_content": null,
            "align_items": null,
            "align_self": null,
            "border": null,
            "bottom": null,
            "display": null,
            "flex": null,
            "flex_flow": null,
            "grid_area": null,
            "grid_auto_columns": null,
            "grid_auto_flow": null,
            "grid_auto_rows": null,
            "grid_column": null,
            "grid_gap": null,
            "grid_row": null,
            "grid_template_areas": null,
            "grid_template_columns": null,
            "grid_template_rows": null,
            "height": null,
            "justify_content": null,
            "justify_items": null,
            "left": null,
            "margin": null,
            "max_height": null,
            "max_width": null,
            "min_height": null,
            "min_width": null,
            "object_fit": null,
            "object_position": null,
            "order": null,
            "overflow": null,
            "overflow_x": null,
            "overflow_y": null,
            "padding": null,
            "right": null,
            "top": null,
            "visibility": null,
            "width": null
          }
        },
        "ba80f0ed7168408aba9d437ac1af67aa": {
          "model_module": "@jupyter-widgets/base",
          "model_name": "LayoutModel",
          "model_module_version": "1.2.0",
          "state": {
            "_model_module": "@jupyter-widgets/base",
            "_model_module_version": "1.2.0",
            "_model_name": "LayoutModel",
            "_view_count": null,
            "_view_module": "@jupyter-widgets/base",
            "_view_module_version": "1.2.0",
            "_view_name": "LayoutView",
            "align_content": null,
            "align_items": null,
            "align_self": null,
            "border": null,
            "bottom": null,
            "display": null,
            "flex": null,
            "flex_flow": null,
            "grid_area": null,
            "grid_auto_columns": null,
            "grid_auto_flow": null,
            "grid_auto_rows": null,
            "grid_column": null,
            "grid_gap": null,
            "grid_row": null,
            "grid_template_areas": null,
            "grid_template_columns": null,
            "grid_template_rows": null,
            "height": null,
            "justify_content": null,
            "justify_items": null,
            "left": null,
            "margin": null,
            "max_height": null,
            "max_width": null,
            "min_height": null,
            "min_width": null,
            "object_fit": null,
            "object_position": null,
            "order": null,
            "overflow": null,
            "overflow_x": null,
            "overflow_y": null,
            "padding": null,
            "right": null,
            "top": null,
            "visibility": null,
            "width": null
          }
        },
        "1b34e08e5e804d738347bc98adba5928": {
          "model_module": "@jupyter-widgets/controls",
          "model_name": "DescriptionStyleModel",
          "model_module_version": "1.5.0",
          "state": {
            "_model_module": "@jupyter-widgets/controls",
            "_model_module_version": "1.5.0",
            "_model_name": "DescriptionStyleModel",
            "_view_count": null,
            "_view_module": "@jupyter-widgets/base",
            "_view_module_version": "1.2.0",
            "_view_name": "StyleView",
            "description_width": ""
          }
        },
        "8658b026c89d41bebbf618c131a9a1e2": {
          "model_module": "@jupyter-widgets/base",
          "model_name": "LayoutModel",
          "model_module_version": "1.2.0",
          "state": {
            "_model_module": "@jupyter-widgets/base",
            "_model_module_version": "1.2.0",
            "_model_name": "LayoutModel",
            "_view_count": null,
            "_view_module": "@jupyter-widgets/base",
            "_view_module_version": "1.2.0",
            "_view_name": "LayoutView",
            "align_content": null,
            "align_items": null,
            "align_self": null,
            "border": null,
            "bottom": null,
            "display": null,
            "flex": null,
            "flex_flow": null,
            "grid_area": null,
            "grid_auto_columns": null,
            "grid_auto_flow": null,
            "grid_auto_rows": null,
            "grid_column": null,
            "grid_gap": null,
            "grid_row": null,
            "grid_template_areas": null,
            "grid_template_columns": null,
            "grid_template_rows": null,
            "height": null,
            "justify_content": null,
            "justify_items": null,
            "left": null,
            "margin": null,
            "max_height": null,
            "max_width": null,
            "min_height": null,
            "min_width": null,
            "object_fit": null,
            "object_position": null,
            "order": null,
            "overflow": null,
            "overflow_x": null,
            "overflow_y": null,
            "padding": null,
            "right": null,
            "top": null,
            "visibility": null,
            "width": null
          }
        },
        "01de6d6e574141df91df0b059d51cd04": {
          "model_module": "@jupyter-widgets/controls",
          "model_name": "ProgressStyleModel",
          "model_module_version": "1.5.0",
          "state": {
            "_model_module": "@jupyter-widgets/controls",
            "_model_module_version": "1.5.0",
            "_model_name": "ProgressStyleModel",
            "_view_count": null,
            "_view_module": "@jupyter-widgets/base",
            "_view_module_version": "1.2.0",
            "_view_name": "StyleView",
            "bar_color": null,
            "description_width": ""
          }
        },
        "a41e2bbd44004ddcb239daba5ab6b992": {
          "model_module": "@jupyter-widgets/base",
          "model_name": "LayoutModel",
          "model_module_version": "1.2.0",
          "state": {
            "_model_module": "@jupyter-widgets/base",
            "_model_module_version": "1.2.0",
            "_model_name": "LayoutModel",
            "_view_count": null,
            "_view_module": "@jupyter-widgets/base",
            "_view_module_version": "1.2.0",
            "_view_name": "LayoutView",
            "align_content": null,
            "align_items": null,
            "align_self": null,
            "border": null,
            "bottom": null,
            "display": null,
            "flex": null,
            "flex_flow": null,
            "grid_area": null,
            "grid_auto_columns": null,
            "grid_auto_flow": null,
            "grid_auto_rows": null,
            "grid_column": null,
            "grid_gap": null,
            "grid_row": null,
            "grid_template_areas": null,
            "grid_template_columns": null,
            "grid_template_rows": null,
            "height": null,
            "justify_content": null,
            "justify_items": null,
            "left": null,
            "margin": null,
            "max_height": null,
            "max_width": null,
            "min_height": null,
            "min_width": null,
            "object_fit": null,
            "object_position": null,
            "order": null,
            "overflow": null,
            "overflow_x": null,
            "overflow_y": null,
            "padding": null,
            "right": null,
            "top": null,
            "visibility": null,
            "width": null
          }
        },
        "4e4ffa35bfde4c49979e2a3f5946f90a": {
          "model_module": "@jupyter-widgets/controls",
          "model_name": "DescriptionStyleModel",
          "model_module_version": "1.5.0",
          "state": {
            "_model_module": "@jupyter-widgets/controls",
            "_model_module_version": "1.5.0",
            "_model_name": "DescriptionStyleModel",
            "_view_count": null,
            "_view_module": "@jupyter-widgets/base",
            "_view_module_version": "1.2.0",
            "_view_name": "StyleView",
            "description_width": ""
          }
        },
        "4ec9d509cd644e169ec0e4450d0c55cd": {
          "model_module": "@jupyter-widgets/controls",
          "model_name": "HBoxModel",
          "model_module_version": "1.5.0",
          "state": {
            "_dom_classes": [],
            "_model_module": "@jupyter-widgets/controls",
            "_model_module_version": "1.5.0",
            "_model_name": "HBoxModel",
            "_view_count": null,
            "_view_module": "@jupyter-widgets/controls",
            "_view_module_version": "1.5.0",
            "_view_name": "HBoxView",
            "box_style": "",
            "children": [
              "IPY_MODEL_098f9824ae49470faa4b43fab26b8e4f",
              "IPY_MODEL_c082042c1ec641b1813a5986e73ddca9",
              "IPY_MODEL_a0779f5198cf4da780e5266f4b11d055"
            ],
            "layout": "IPY_MODEL_7a7a9b3f88eb46dfb9b81a503a51b575"
          }
        },
        "098f9824ae49470faa4b43fab26b8e4f": {
          "model_module": "@jupyter-widgets/controls",
          "model_name": "HTMLModel",
          "model_module_version": "1.5.0",
          "state": {
            "_dom_classes": [],
            "_model_module": "@jupyter-widgets/controls",
            "_model_module_version": "1.5.0",
            "_model_name": "HTMLModel",
            "_view_count": null,
            "_view_module": "@jupyter-widgets/controls",
            "_view_module_version": "1.5.0",
            "_view_name": "HTMLView",
            "description": "",
            "description_tooltip": null,
            "layout": "IPY_MODEL_2d5c4b5ed2c9429dad8b617369b4e7db",
            "placeholder": "​",
            "style": "IPY_MODEL_0d2d1f2bf39f4b698a35a5a51a4d397e",
            "value": "1_Pooling/config.json: 100%"
          }
        },
        "c082042c1ec641b1813a5986e73ddca9": {
          "model_module": "@jupyter-widgets/controls",
          "model_name": "FloatProgressModel",
          "model_module_version": "1.5.0",
          "state": {
            "_dom_classes": [],
            "_model_module": "@jupyter-widgets/controls",
            "_model_module_version": "1.5.0",
            "_model_name": "FloatProgressModel",
            "_view_count": null,
            "_view_module": "@jupyter-widgets/controls",
            "_view_module_version": "1.5.0",
            "_view_name": "ProgressView",
            "bar_style": "success",
            "description": "",
            "description_tooltip": null,
            "layout": "IPY_MODEL_e57b023b79c049c7a7bab89933abb3dd",
            "max": 190,
            "min": 0,
            "orientation": "horizontal",
            "style": "IPY_MODEL_9d2c2ce892d548188b5764314cd26dcd",
            "value": 190
          }
        },
        "a0779f5198cf4da780e5266f4b11d055": {
          "model_module": "@jupyter-widgets/controls",
          "model_name": "HTMLModel",
          "model_module_version": "1.5.0",
          "state": {
            "_dom_classes": [],
            "_model_module": "@jupyter-widgets/controls",
            "_model_module_version": "1.5.0",
            "_model_name": "HTMLModel",
            "_view_count": null,
            "_view_module": "@jupyter-widgets/controls",
            "_view_module_version": "1.5.0",
            "_view_name": "HTMLView",
            "description": "",
            "description_tooltip": null,
            "layout": "IPY_MODEL_154020737a5f4867aab7351aedab0262",
            "placeholder": "​",
            "style": "IPY_MODEL_8c8f4575f56e4279b84c8cd85212c8fd",
            "value": " 190/190 [00:00&lt;00:00, 7.07kB/s]"
          }
        },
        "7a7a9b3f88eb46dfb9b81a503a51b575": {
          "model_module": "@jupyter-widgets/base",
          "model_name": "LayoutModel",
          "model_module_version": "1.2.0",
          "state": {
            "_model_module": "@jupyter-widgets/base",
            "_model_module_version": "1.2.0",
            "_model_name": "LayoutModel",
            "_view_count": null,
            "_view_module": "@jupyter-widgets/base",
            "_view_module_version": "1.2.0",
            "_view_name": "LayoutView",
            "align_content": null,
            "align_items": null,
            "align_self": null,
            "border": null,
            "bottom": null,
            "display": null,
            "flex": null,
            "flex_flow": null,
            "grid_area": null,
            "grid_auto_columns": null,
            "grid_auto_flow": null,
            "grid_auto_rows": null,
            "grid_column": null,
            "grid_gap": null,
            "grid_row": null,
            "grid_template_areas": null,
            "grid_template_columns": null,
            "grid_template_rows": null,
            "height": null,
            "justify_content": null,
            "justify_items": null,
            "left": null,
            "margin": null,
            "max_height": null,
            "max_width": null,
            "min_height": null,
            "min_width": null,
            "object_fit": null,
            "object_position": null,
            "order": null,
            "overflow": null,
            "overflow_x": null,
            "overflow_y": null,
            "padding": null,
            "right": null,
            "top": null,
            "visibility": null,
            "width": null
          }
        },
        "2d5c4b5ed2c9429dad8b617369b4e7db": {
          "model_module": "@jupyter-widgets/base",
          "model_name": "LayoutModel",
          "model_module_version": "1.2.0",
          "state": {
            "_model_module": "@jupyter-widgets/base",
            "_model_module_version": "1.2.0",
            "_model_name": "LayoutModel",
            "_view_count": null,
            "_view_module": "@jupyter-widgets/base",
            "_view_module_version": "1.2.0",
            "_view_name": "LayoutView",
            "align_content": null,
            "align_items": null,
            "align_self": null,
            "border": null,
            "bottom": null,
            "display": null,
            "flex": null,
            "flex_flow": null,
            "grid_area": null,
            "grid_auto_columns": null,
            "grid_auto_flow": null,
            "grid_auto_rows": null,
            "grid_column": null,
            "grid_gap": null,
            "grid_row": null,
            "grid_template_areas": null,
            "grid_template_columns": null,
            "grid_template_rows": null,
            "height": null,
            "justify_content": null,
            "justify_items": null,
            "left": null,
            "margin": null,
            "max_height": null,
            "max_width": null,
            "min_height": null,
            "min_width": null,
            "object_fit": null,
            "object_position": null,
            "order": null,
            "overflow": null,
            "overflow_x": null,
            "overflow_y": null,
            "padding": null,
            "right": null,
            "top": null,
            "visibility": null,
            "width": null
          }
        },
        "0d2d1f2bf39f4b698a35a5a51a4d397e": {
          "model_module": "@jupyter-widgets/controls",
          "model_name": "DescriptionStyleModel",
          "model_module_version": "1.5.0",
          "state": {
            "_model_module": "@jupyter-widgets/controls",
            "_model_module_version": "1.5.0",
            "_model_name": "DescriptionStyleModel",
            "_view_count": null,
            "_view_module": "@jupyter-widgets/base",
            "_view_module_version": "1.2.0",
            "_view_name": "StyleView",
            "description_width": ""
          }
        },
        "e57b023b79c049c7a7bab89933abb3dd": {
          "model_module": "@jupyter-widgets/base",
          "model_name": "LayoutModel",
          "model_module_version": "1.2.0",
          "state": {
            "_model_module": "@jupyter-widgets/base",
            "_model_module_version": "1.2.0",
            "_model_name": "LayoutModel",
            "_view_count": null,
            "_view_module": "@jupyter-widgets/base",
            "_view_module_version": "1.2.0",
            "_view_name": "LayoutView",
            "align_content": null,
            "align_items": null,
            "align_self": null,
            "border": null,
            "bottom": null,
            "display": null,
            "flex": null,
            "flex_flow": null,
            "grid_area": null,
            "grid_auto_columns": null,
            "grid_auto_flow": null,
            "grid_auto_rows": null,
            "grid_column": null,
            "grid_gap": null,
            "grid_row": null,
            "grid_template_areas": null,
            "grid_template_columns": null,
            "grid_template_rows": null,
            "height": null,
            "justify_content": null,
            "justify_items": null,
            "left": null,
            "margin": null,
            "max_height": null,
            "max_width": null,
            "min_height": null,
            "min_width": null,
            "object_fit": null,
            "object_position": null,
            "order": null,
            "overflow": null,
            "overflow_x": null,
            "overflow_y": null,
            "padding": null,
            "right": null,
            "top": null,
            "visibility": null,
            "width": null
          }
        },
        "9d2c2ce892d548188b5764314cd26dcd": {
          "model_module": "@jupyter-widgets/controls",
          "model_name": "ProgressStyleModel",
          "model_module_version": "1.5.0",
          "state": {
            "_model_module": "@jupyter-widgets/controls",
            "_model_module_version": "1.5.0",
            "_model_name": "ProgressStyleModel",
            "_view_count": null,
            "_view_module": "@jupyter-widgets/base",
            "_view_module_version": "1.2.0",
            "_view_name": "StyleView",
            "bar_color": null,
            "description_width": ""
          }
        },
        "154020737a5f4867aab7351aedab0262": {
          "model_module": "@jupyter-widgets/base",
          "model_name": "LayoutModel",
          "model_module_version": "1.2.0",
          "state": {
            "_model_module": "@jupyter-widgets/base",
            "_model_module_version": "1.2.0",
            "_model_name": "LayoutModel",
            "_view_count": null,
            "_view_module": "@jupyter-widgets/base",
            "_view_module_version": "1.2.0",
            "_view_name": "LayoutView",
            "align_content": null,
            "align_items": null,
            "align_self": null,
            "border": null,
            "bottom": null,
            "display": null,
            "flex": null,
            "flex_flow": null,
            "grid_area": null,
            "grid_auto_columns": null,
            "grid_auto_flow": null,
            "grid_auto_rows": null,
            "grid_column": null,
            "grid_gap": null,
            "grid_row": null,
            "grid_template_areas": null,
            "grid_template_columns": null,
            "grid_template_rows": null,
            "height": null,
            "justify_content": null,
            "justify_items": null,
            "left": null,
            "margin": null,
            "max_height": null,
            "max_width": null,
            "min_height": null,
            "min_width": null,
            "object_fit": null,
            "object_position": null,
            "order": null,
            "overflow": null,
            "overflow_x": null,
            "overflow_y": null,
            "padding": null,
            "right": null,
            "top": null,
            "visibility": null,
            "width": null
          }
        },
        "8c8f4575f56e4279b84c8cd85212c8fd": {
          "model_module": "@jupyter-widgets/controls",
          "model_name": "DescriptionStyleModel",
          "model_module_version": "1.5.0",
          "state": {
            "_model_module": "@jupyter-widgets/controls",
            "_model_module_version": "1.5.0",
            "_model_name": "DescriptionStyleModel",
            "_view_count": null,
            "_view_module": "@jupyter-widgets/base",
            "_view_module_version": "1.2.0",
            "_view_name": "StyleView",
            "description_width": ""
          }
        }
      }
    }
  },
  "cells": [
    {
      "cell_type": "markdown",
      "metadata": {
        "id": "view-in-github",
        "colab_type": "text"
      },
      "source": [
        "<a href=\"https://colab.research.google.com/github/Ashis-Palai/Cancer_Information_RAG_GenAI/blob/main/GenAI_Cancer_Information_Powered_by_LLM.ipynb\" target=\"_parent\"><img src=\"https://colab.research.google.com/assets/colab-badge.svg\" alt=\"Open In Colab\"/></a>"
      ]
    },
    {
      "cell_type": "code",
      "source": [
        "!curl -O \"https://raw.githubusercontent.com/Ashis-Palai/Cancer_Information_RAG_GenAI/main/requirements.txt\""
      ],
      "metadata": {
        "id": "djpb-4MofY56"
      },
      "execution_count": null,
      "outputs": []
    },
    {
      "cell_type": "markdown",
      "source": [
        "# **DATA EXTRACTION:**\n",
        "\n"
      ],
      "metadata": {
        "id": "AGGL_JFf-49m"
      }
    },
    {
      "cell_type": "markdown",
      "source": [
        "## **Sources**\n",
        "\n",
        "* **Cervical , Breast & Oral Cancers:**\n",
        "\n",
        "\n",
        "> ```\n",
        "https://tmc.gov.in/ncg/docs/PDF/DraftGuidelines/Preventive/3_%20NCG_INDIA_Rev_Preventive%20Oncology_Primary_Care.pdf\n",
        "```\n",
        "\n",
        "\n",
        "* **Ovarian_Cancer:**\n",
        "\n",
        "> ```\n",
        "https://main.icmr.nic.in/sites/default/files/guidelines/Ovarian_Cancer.pdf\n",
        "```\n",
        "\n",
        "\n",
        "* **Generic Information About Cancer**\n",
        "\n",
        ">```\n",
        "https://www.mayoclinic.org/diseases-conditions/cancer/diagnosis-treatment/drc-20370594\n",
        "```\n",
        "\n",
        "\n",
        "\n",
        "* **Breast Cancer:**\n",
        "\n",
        ">```\n",
        "https://www.cancer.org/cancer/types/breast-cancer/screening-tests-and-early-detection.html\n",
        "```\n",
        "\n",
        "\n",
        "\n",
        "\n"
      ],
      "metadata": {
        "id": "ES25Box0--7Z"
      }
    },
    {
      "cell_type": "code",
      "source": [
        "!curl -O \"https://raw.githubusercontent.com/Ashis-Palai/Cancer_Information_RAG_GenAI/main/helper.py\"\n",
        "!curl -O \"https://raw.githubusercontent.com/Ashis-Palai/Cancer_Information_RAG_GenAI/main/requirements.txt\""
      ],
      "metadata": {
        "id": "_-dW0Bbf4BEE",
        "colab": {
          "base_uri": "https://localhost:8080/"
        },
        "outputId": "5ccbcb7b-927c-4488-c5e2-1d3903dc90fe"
      },
      "execution_count": null,
      "outputs": [
        {
          "output_type": "stream",
          "name": "stdout",
          "text": [
            "  % Total    % Received % Xferd  Average Speed   Time    Time     Time  Current\n",
            "                                 Dload  Upload   Total   Spent    Left  Speed\n",
            "100  3168  100  3168    0     0  24318      0 --:--:-- --:--:-- --:--:-- 24369\n",
            "  % Total    % Received % Xferd  Average Speed   Time    Time     Time  Current\n",
            "                                 Dload  Upload   Total   Spent    Left  Speed\n",
            "100   130  100   130    0     0    903      0 --:--:-- --:--:-- --:--:--   909\n"
          ]
        }
      ]
    },
    {
      "cell_type": "code",
      "source": [
        "all_url = [ 'https://www.cancer.org/cancer/types/breast-cancer/screening-tests-and-early-detection.html',\n",
        "'https://www.cancer.org/cancer/types/breast-cancer/screening-tests-and-early-detection/american-cancer-society-recommendations-for-the-early-detection-of-breast-cancer.html',\n",
        "'https://www.cancer.org/cancer/types/breast-cancer/screening-tests-and-early-detection/mammograms.html',\n",
        "'https://www.cancer.org/cancer/types/breast-cancer/screening-tests-and-early-detection/breast-ultrasound.html',\n",
        "'https://www.cancer.org/cancer/types/breast-cancer/screening-tests-and-early-detection/breast-mri-scans.html',\n",
        "'https://www.cancer.org/cancer/types/breast-cancer/screening-tests-and-early-detection/breast-cancer-signs-and-symptoms.html',\n",
        "'https://tmc.gov.in/ncg/docs/PDF/DraftGuidelines/Preventive/3_%20NCG_INDIA_Rev_Preventive%20Oncology_Primary_Care.pdf',\n",
        "'https://main.icmr.nic.in/sites/default/files/guidelines/Ovarian_Cancer.pdf'\n",
        "            ]"
      ],
      "metadata": {
        "id": "UrUQZmsDquJU"
      },
      "execution_count": null,
      "outputs": []
    },
    {
      "cell_type": "code",
      "source": [
        "from helper import extract_headings_and_content , word_wrap\n",
        "for i, url in enumerate(all_url, start=1):\n",
        "    result_message = extract_headings_and_content(url, i)\n",
        "    print(result_message)"
      ],
      "metadata": {
        "id": "t41HJY5I4LgI",
        "colab": {
          "base_uri": "https://localhost:8080/"
        },
        "outputId": "5e2e4adb-6a0c-4712-ba0b-49eafa357aaf"
      },
      "execution_count": null,
      "outputs": [
        {
          "output_type": "stream",
          "name": "stdout",
          "text": [
            "Extraction and saving successful for https://www.cancer.org/cancer/types/breast-cancer/screening-tests-and-early-detection.html. File saved as data/html_data/html_file_1.html\n",
            "Extraction and saving successful for https://www.cancer.org/cancer/types/breast-cancer/screening-tests-and-early-detection/american-cancer-society-recommendations-for-the-early-detection-of-breast-cancer.html. File saved as data/html_data/html_file_2.html\n",
            "Extraction and saving successful for https://www.cancer.org/cancer/types/breast-cancer/screening-tests-and-early-detection/mammograms.html. File saved as data/html_data/html_file_3.html\n",
            "Extraction and saving successful for https://www.cancer.org/cancer/types/breast-cancer/screening-tests-and-early-detection/breast-ultrasound.html. File saved as data/html_data/html_file_4.html\n",
            "Extraction and saving successful for https://www.cancer.org/cancer/types/breast-cancer/screening-tests-and-early-detection/breast-mri-scans.html. File saved as data/html_data/html_file_5.html\n",
            "Extraction and saving successful for https://www.cancer.org/cancer/types/breast-cancer/screening-tests-and-early-detection/breast-cancer-signs-and-symptoms.html. File saved as data/html_data/html_file_6.html\n",
            "Extraction and saving successful for https://tmc.gov.in/ncg/docs/PDF/DraftGuidelines/Preventive/3_%20NCG_INDIA_Rev_Preventive%20Oncology_Primary_Care.pdf. File saved as data/pdf_data/pdf_file_7.pdf\n",
            "Extraction and saving successful for https://main.icmr.nic.in/sites/default/files/guidelines/Ovarian_Cancer.pdf. File saved as data/pdf_data/pdf_file_8.pdf\n"
          ]
        }
      ]
    },
    {
      "cell_type": "markdown",
      "source": [
        "# **DATA TRANSFORMATION USING LANGCHAIN**"
      ],
      "metadata": {
        "id": "eO_38z9L82LS"
      }
    },
    {
      "cell_type": "code",
      "source": [
        "from langchain_community.document_loaders import PyPDFLoader , UnstructuredHTMLLoader\n",
        "from langchain.text_splitter import RecursiveCharacterTextSplitter , SentenceTransformersTokenTextSplitter\n",
        "import glob"
      ],
      "metadata": {
        "id": "Xzc7Qj5oYBRL"
      },
      "execution_count": null,
      "outputs": []
    },
    {
      "cell_type": "code",
      "source": [
        "\n",
        "\n",
        "base_path = '/content/data'\n",
        "\n",
        "# List all HTML files\n",
        "html_files = glob.glob(f\"{base_path}/html*/*.html\")\n",
        "\n",
        "# List all PDF files\n",
        "pdf_files = glob.glob(f\"{base_path}/pdf*/*.pdf\")\n",
        "\n",
        "\n",
        "all_results = [PyPDFLoader(file).load() if file.endswith(\".pdf\") else UnstructuredHTMLLoader(file).load() for file in pdf_files + html_files]\n",
        "\n"
      ],
      "metadata": {
        "id": "4nCsp8cbGR7V"
      },
      "execution_count": null,
      "outputs": []
    },
    {
      "cell_type": "code",
      "source": [
        "total_pages = sum([len(i) for i in all_results ])\n",
        "total_pages"
      ],
      "metadata": {
        "colab": {
          "base_uri": "https://localhost:8080/"
        },
        "id": "fMuVsRcKBeo7",
        "outputId": "73e5a9e1-55f1-45d9-cb9b-9687f32db0ff"
      },
      "execution_count": null,
      "outputs": [
        {
          "output_type": "execute_result",
          "data": {
            "text/plain": [
              "107"
            ]
          },
          "metadata": {},
          "execution_count": 7
        }
      ]
    },
    {
      "cell_type": "code",
      "source": [
        "all_text_data = [j.page_content.strip() for i in all_results for j  in i]"
      ],
      "metadata": {
        "id": "aCheBKMHD6G-"
      },
      "execution_count": null,
      "outputs": []
    },
    {
      "cell_type": "code",
      "source": [
        "len(all_text_data)"
      ],
      "metadata": {
        "colab": {
          "base_uri": "https://localhost:8080/"
        },
        "id": "JRAeA1_eEk91",
        "outputId": "8ec22ee5-005e-4d2e-ee45-62e46515a046"
      },
      "execution_count": null,
      "outputs": [
        {
          "output_type": "execute_result",
          "data": {
            "text/plain": [
              "107"
            ]
          },
          "metadata": {},
          "execution_count": 9
        }
      ]
    },
    {
      "cell_type": "code",
      "source": [
        "all_text_data = [ i for i in all_text_data if i] # To exclude the blank pages"
      ],
      "metadata": {
        "id": "M0zj_oQpElBc"
      },
      "execution_count": null,
      "outputs": []
    },
    {
      "cell_type": "code",
      "source": [
        "len(all_text_data)"
      ],
      "metadata": {
        "colab": {
          "base_uri": "https://localhost:8080/"
        },
        "id": "OijspTiyExGI",
        "outputId": "5dbbf831-91c7-4e9e-fadc-5827b3e38e7e"
      },
      "execution_count": null,
      "outputs": [
        {
          "output_type": "execute_result",
          "data": {
            "text/plain": [
              "102"
            ]
          },
          "metadata": {},
          "execution_count": 11
        }
      ]
    },
    {
      "cell_type": "code",
      "source": [
        "splitter_1 =  RecursiveCharacterTextSplitter(\n",
        "    separators= ['\\n\\n\\n\\n\\n','\\n\\n\\n\\n','\\n\\n\\n','\\n\\n','\\n','.',',',' '],\n",
        "    chunk_size = 1000 ,chunk_overlap = 100)\n",
        "\n",
        "splitter_2 = SentenceTransformersTokenTextSplitter(tokens_per_chunk=256,chunk_overlap=10)"
      ],
      "metadata": {
        "id": "Arp8boOxvI_W",
        "colab": {
          "base_uri": "https://localhost:8080/",
          "referenced_widgets": [
            "3e7cd617dcfd42e7a1b112d20fb8d7bf",
            "8ca7465da570434f8bfea7701315c8ea",
            "a5a9d48c262d433397a3d8d2c4a553ba",
            "fc4b5ef8c6574066a7140a268b41130f",
            "8d5cbbbfdd83450ea19882312fec768b",
            "7c943864ae4144b88f67fac9a2460680",
            "480d29cfb3e54bb39d336c1176aaf0bd",
            "0b14be7b08524999beaf34235e3c07bb",
            "2e1399b17c6a4eeeaa2023da786f5050",
            "6469ef49a0d446a884f45e59f29cb28d",
            "6e2426e5ad364dd19a23568c0cde62fe",
            "726caedb99e449f4a29fb7e0bd8a8bf1",
            "4f17d56bb2bc447e86322fa7658a581f",
            "df99ae040fe8460b82670d3906f3bb74",
            "88f85cef6e4c434ba7ad3812d153bf9e",
            "40f0c861305f4b5fbae93e569d17a459",
            "e015f0bf724a401fbf263236a705a99f",
            "df8fdc898ab841a89a06449c17f3632f",
            "577e466dcfce4331a742b677ddfeabf5",
            "39fc8ffd844041148fdd55adb6613c72",
            "1a23ca186f38436c84469a574bf98071",
            "83d6900d27074b60a1d4be5cc0fcc64a",
            "5350c71bb41b49a69755c987c09993db",
            "0570d7cc9c074c969d4ae3fdde8fcbed",
            "85f15045cd234d8788ad1bf278a8bd55",
            "2803990a1953495d94d28de5904ac89f",
            "ecacc21e282c4a2eb678e0b2bbb0fdc7",
            "efe96a60bde94b67954c5375da4c7331",
            "62bd0b6d134b429c9be1bd765799146e",
            "38e3ea1cd73c4a198ed8cc6986c3a54a",
            "51bfb884bc3c4f009e4a91e30a9a0e03",
            "f64f185b76264049b1224b8e7c786e0e",
            "1d746d736a614897a52b5cf99302717c",
            "62235ad31b6e4a94b3cef7c24b08fe68",
            "3baae8cfd58f4c7da38405c4def7d60b",
            "325af7c9b05f448c91df119147a5079b",
            "56eae8458124453987a2fd37afcde5b1",
            "bc41eba9bf024b5d9c72a7815d54efb8",
            "562e5297893b477587554f3804ec844a",
            "1c03d477c8f9406dbf561e4c328c5db0",
            "653830e8c6884f37b3df9e9b634b2710",
            "8dbd92771c5b47f08216823ac3753fb5",
            "fe2352ade1084afd92d3fb2f0e0a0c86",
            "476f44183b8f4db0aeecf65006fac2b3",
            "d785e58d17dd4ca080d70d1e0c0dca7d",
            "a7f5f9aa4d134b08b320f5b6045952fd",
            "91f1d7968a884559891194098cc46c68",
            "dcb17066b0e74c50ae8869bfd85d9026",
            "5f5733f2a90e44d7991c8010177d34ab",
            "5d7cb0821e80482aade06dcc101c54a2",
            "4f1581790180411aaf397e0d7eb226fc",
            "dd6a7c7203b44365b6e7027754002d35",
            "ac785eec6fdc43938a2b2e17a4ca9f4e",
            "29bc4f2970b44a61a641bc3a03313dd4",
            "bf4c4f68a52147aa8009c4782ec0a769",
            "f1d0d13b89f142849a044d473623009c",
            "def0b7b8a5544502a3b32dd05853329f",
            "73ed5a5fad494cad812703f618443fcf",
            "01de1a53505e494aa7c4ab704e32769d",
            "c0adffa3ffca4b059debd3a17244259a",
            "61a3f94bc79e46359bc5ca0d5956b1d0",
            "c9c0b5d651094563b103dea6569536c6",
            "970c784b733a4811ae5a6160470a72d6",
            "79595f7611c1427ca43a9d7a6c443651",
            "7126dfe509c347a2a60da4326723cb2a",
            "46ff4c6664b24a47be89092f2e485fef",
            "73c5ae98bab242f2a6a821d73d549c1e",
            "f3b8ed82725a47caa83c1aeea9c4cd0b",
            "01f60e306bfb4d23bf05f098615abcac",
            "453cd9e329264b01a54a4b55becc2162",
            "abd278a8524b412c9b38ed040ea68259",
            "4f87a320ef914a9ea4474cea0707d66c",
            "a439f6f5a504412a9f68834ba2f7dfe7",
            "4ed7dc3c9d704e23a214f539d2a4d560",
            "d089a908d27e48d9b2841fd0eb8ac387",
            "59784952538a4cc984f08a81592119f8",
            "5de591ee2b0341158323734be53a30cf",
            "3efe3bafdb9345b2a779d802b8c53476",
            "1cf7ba1391d74e9d97669f81d9a8efa3",
            "fb76fcdf792946e09c8123db04298a4f",
            "2b36c99043ac477ba49207ed2b033633",
            "1aa1cc6f70bf48418e584ba0fbfbd50f",
            "d7b042eb33fc444abf91dcbda44ae5d7",
            "6d543e8c786940d3948d499abf778007",
            "697f6a778f9f4ee4a512687ae835166b",
            "191e75e83baf4377b1966ce7fab2a1c7",
            "b95c8771c37a457ca8e426d858f29efd",
            "74bb51ca7e3046d9a40eb686ef866317",
            "56e007bb91544551997a11611284cc51",
            "29bd05f32fd84955ac56c4df95efa26d",
            "f4b70209dfa74b28b8c7323f0e4ecd64",
            "86b106db96ca42d8ae217971b96f6c5f",
            "83a786b8b563489aa7d380f72a07a0d3",
            "5f72cfea39754ea0a9eedc7c6277d7a1",
            "30a6cfc77b814a97b7bfbedc0ff726a7",
            "c3c5b7fe81de4fde89a9ca7e494f4cfb",
            "e6adf6b4b36f409eb4a6e0b39c4f346c",
            "f60159b2b0184201a855aba23e4bbe8f",
            "fe1d5a4994dd494ebfc75826cf0fff94",
            "eb927e51ba3a456c95fea567ef5b5dad",
            "761711b3904d4ab7ae92fcc43c010aa8",
            "bc9b5b04c6ea40dd903d2e2146ce6092",
            "d57c2e86b7894f83a5ea11c92ff7d420",
            "e29adcdbd72b4ce2bbf2cacb8212af69",
            "ba80f0ed7168408aba9d437ac1af67aa",
            "1b34e08e5e804d738347bc98adba5928",
            "8658b026c89d41bebbf618c131a9a1e2",
            "01de6d6e574141df91df0b059d51cd04",
            "a41e2bbd44004ddcb239daba5ab6b992",
            "4e4ffa35bfde4c49979e2a3f5946f90a",
            "4ec9d509cd644e169ec0e4450d0c55cd",
            "098f9824ae49470faa4b43fab26b8e4f",
            "c082042c1ec641b1813a5986e73ddca9",
            "a0779f5198cf4da780e5266f4b11d055",
            "7a7a9b3f88eb46dfb9b81a503a51b575",
            "2d5c4b5ed2c9429dad8b617369b4e7db",
            "0d2d1f2bf39f4b698a35a5a51a4d397e",
            "e57b023b79c049c7a7bab89933abb3dd",
            "9d2c2ce892d548188b5764314cd26dcd",
            "154020737a5f4867aab7351aedab0262",
            "8c8f4575f56e4279b84c8cd85212c8fd"
          ]
        },
        "outputId": "3648da86-ef7b-4add-e7a4-8b812cfcfb1e"
      },
      "execution_count": null,
      "outputs": [
        {
          "output_type": "display_data",
          "data": {
            "text/plain": [
              "modules.json:   0%|          | 0.00/349 [00:00<?, ?B/s]"
            ],
            "application/vnd.jupyter.widget-view+json": {
              "version_major": 2,
              "version_minor": 0,
              "model_id": "3e7cd617dcfd42e7a1b112d20fb8d7bf"
            }
          },
          "metadata": {}
        },
        {
          "output_type": "display_data",
          "data": {
            "text/plain": [
              "config_sentence_transformers.json:   0%|          | 0.00/116 [00:00<?, ?B/s]"
            ],
            "application/vnd.jupyter.widget-view+json": {
              "version_major": 2,
              "version_minor": 0,
              "model_id": "726caedb99e449f4a29fb7e0bd8a8bf1"
            }
          },
          "metadata": {}
        },
        {
          "output_type": "display_data",
          "data": {
            "text/plain": [
              "README.md:   0%|          | 0.00/10.6k [00:00<?, ?B/s]"
            ],
            "application/vnd.jupyter.widget-view+json": {
              "version_major": 2,
              "version_minor": 0,
              "model_id": "5350c71bb41b49a69755c987c09993db"
            }
          },
          "metadata": {}
        },
        {
          "output_type": "display_data",
          "data": {
            "text/plain": [
              "sentence_bert_config.json:   0%|          | 0.00/53.0 [00:00<?, ?B/s]"
            ],
            "application/vnd.jupyter.widget-view+json": {
              "version_major": 2,
              "version_minor": 0,
              "model_id": "62235ad31b6e4a94b3cef7c24b08fe68"
            }
          },
          "metadata": {}
        },
        {
          "output_type": "display_data",
          "data": {
            "text/plain": [
              "config.json:   0%|          | 0.00/571 [00:00<?, ?B/s]"
            ],
            "application/vnd.jupyter.widget-view+json": {
              "version_major": 2,
              "version_minor": 0,
              "model_id": "d785e58d17dd4ca080d70d1e0c0dca7d"
            }
          },
          "metadata": {}
        },
        {
          "output_type": "display_data",
          "data": {
            "text/plain": [
              "pytorch_model.bin:   0%|          | 0.00/438M [00:00<?, ?B/s]"
            ],
            "application/vnd.jupyter.widget-view+json": {
              "version_major": 2,
              "version_minor": 0,
              "model_id": "f1d0d13b89f142849a044d473623009c"
            }
          },
          "metadata": {}
        },
        {
          "output_type": "display_data",
          "data": {
            "text/plain": [
              "tokenizer_config.json:   0%|          | 0.00/363 [00:00<?, ?B/s]"
            ],
            "application/vnd.jupyter.widget-view+json": {
              "version_major": 2,
              "version_minor": 0,
              "model_id": "73c5ae98bab242f2a6a821d73d549c1e"
            }
          },
          "metadata": {}
        },
        {
          "output_type": "display_data",
          "data": {
            "text/plain": [
              "vocab.txt:   0%|          | 0.00/232k [00:00<?, ?B/s]"
            ],
            "application/vnd.jupyter.widget-view+json": {
              "version_major": 2,
              "version_minor": 0,
              "model_id": "3efe3bafdb9345b2a779d802b8c53476"
            }
          },
          "metadata": {}
        },
        {
          "output_type": "display_data",
          "data": {
            "text/plain": [
              "tokenizer.json:   0%|          | 0.00/466k [00:00<?, ?B/s]"
            ],
            "application/vnd.jupyter.widget-view+json": {
              "version_major": 2,
              "version_minor": 0,
              "model_id": "56e007bb91544551997a11611284cc51"
            }
          },
          "metadata": {}
        },
        {
          "output_type": "display_data",
          "data": {
            "text/plain": [
              "special_tokens_map.json:   0%|          | 0.00/239 [00:00<?, ?B/s]"
            ],
            "application/vnd.jupyter.widget-view+json": {
              "version_major": 2,
              "version_minor": 0,
              "model_id": "eb927e51ba3a456c95fea567ef5b5dad"
            }
          },
          "metadata": {}
        },
        {
          "output_type": "display_data",
          "data": {
            "text/plain": [
              "1_Pooling/config.json:   0%|          | 0.00/190 [00:00<?, ?B/s]"
            ],
            "application/vnd.jupyter.widget-view+json": {
              "version_major": 2,
              "version_minor": 0,
              "model_id": "4ec9d509cd644e169ec0e4450d0c55cd"
            }
          },
          "metadata": {}
        }
      ]
    },
    {
      "cell_type": "code",
      "source": [
        "prefinal_data = splitter_1.split_text('\\n'.join(all_text_data))\n",
        "len(prefinal_data)"
      ],
      "metadata": {
        "colab": {
          "base_uri": "https://localhost:8080/"
        },
        "id": "rzY58-t8JmlE",
        "outputId": "9e22df79-9ee6-4fb3-d710-f7023f8f32a6"
      },
      "execution_count": null,
      "outputs": [
        {
          "output_type": "execute_result",
          "data": {
            "text/plain": [
              "313"
            ]
          },
          "metadata": {},
          "execution_count": 13
        }
      ]
    },
    {
      "cell_type": "code",
      "source": [
        "final_data = []\n",
        "[final_data.extend(splitter_2.split_text(text)) for text in prefinal_data]\n",
        "\n",
        "len(final_data)"
      ],
      "metadata": {
        "colab": {
          "base_uri": "https://localhost:8080/"
        },
        "id": "f0aTQij4FJiu",
        "outputId": "c722aed0-6036-4395-ff83-d17ef4cf1221"
      },
      "execution_count": null,
      "outputs": [
        {
          "output_type": "execute_result",
          "data": {
            "text/plain": [
              "385"
            ]
          },
          "metadata": {},
          "execution_count": 14
        }
      ]
    },
    {
      "cell_type": "code",
      "source": [
        "prefinal_data[0]"
      ],
      "metadata": {
        "colab": {
          "base_uri": "https://localhost:8080/"
        },
        "id": "PYudNGo8yukF",
        "outputId": "8f7836c3-ea45-4968-c8e0-636bd8802532"
      },
      "execution_count": null,
      "outputs": [
        {
          "output_type": "execute_result",
          "data": {
            "text/plain": [
              "'Coordinated by:\\nDivision of Non Communicable Diseases\\nIndian Council of Medical Research  \\nAnsari Nagar, New Delhi – 110029\\n2019CONSENSUS DOCUMENT FOR\\nMANAGEMENT OF\\nEPITHELIAL OVARIAN CANCER\\nPrepared as an outcome of ICMR Subcommittee on\\nEpithelial Ovarian Cancer\\nProf. Balram Bhargava  \\nSecretary,  \\nDepartment of Health Research  \\nand Director General, ICMR\\nPublished in 2019\\nHead (Publication & Information) : Dr. Neeraj Tandon\\nCompiled & Edited by: Dr. Hemant Tongaonkar & Dr. Tanvir Kaur\\nProduction Controller : Mr. JN Mathur \\nPublished by the Division of Publication and Information on behalf of the Secretary DHR & DG, ICMR,  \\nNew Delhi. \\nDesigned & Printed at M/s Royal Offset Printers, A-89/1, Naraina Industrial Area, Phase-I, New Delhi-110028  \\nMobile: 9811622258Disclaimer\\nThis consensus document represents the current thinking of experts on the topic based on available \\nevidence. This has been developed by national experts in the field and does not in any way bind'"
            ],
            "application/vnd.google.colaboratory.intrinsic+json": {
              "type": "string"
            }
          },
          "metadata": {},
          "execution_count": 15
        }
      ]
    },
    {
      "cell_type": "code",
      "source": [
        "final_data[0]"
      ],
      "metadata": {
        "colab": {
          "base_uri": "https://localhost:8080/"
        },
        "id": "Om16llrQz8el",
        "outputId": "0a5e24bd-4941-49bf-c427-fdbf793a6b5b"
      },
      "execution_count": null,
      "outputs": [
        {
          "output_type": "execute_result",
          "data": {
            "text/plain": [
              "'coordinated by : division of non communicable diseases indian council of medical research ansari nagar, new delhi – 110029 2019consensus document for management of epithelial ovarian cancer prepared as an outcome of icmr subcommittee on epithelial ovarian cancer prof. balram bhargava secretary, department of health research and director general, icmr published in 2019 head ( publication & information ) : dr. neeraj tandon compiled & edited by : dr. hemant tongaonkar & dr. tanvir kaur production controller : mr. jn mathur published by the division of publication and information on behalf of the secretary dhr & dg, icmr, new delhi. designed & printed at m / s royal offset printers, a - 89 / 1, naraina industrial area, phase - i, new delhi - 110028 mobile : 9811622258disclaimer this consensus document represents the current thinking of experts on the topic based on available evidence. this has been developed by national experts in the field and does not in any way bind'"
            ],
            "application/vnd.google.colaboratory.intrinsic+json": {
              "type": "string"
            }
          },
          "metadata": {},
          "execution_count": 16
        }
      ]
    },
    {
      "cell_type": "markdown",
      "source": [
        "# **DATA LOADING**"
      ],
      "metadata": {
        "id": "MY9-TLHYaqS5"
      }
    },
    {
      "cell_type": "markdown",
      "source": [
        "## **Embedding : GooglePalmEmbeddings**"
      ],
      "metadata": {
        "id": "ZKvuiDZfb3Dl"
      }
    },
    {
      "cell_type": "code",
      "source": [
        "from langchain_community.embeddings import GooglePalmEmbeddings\n",
        "from google.colab import userdata\n",
        "PINECONE_API_KEY = userdata.get('PINECONE_API_KEY')\n",
        "GOOGLE_API_KEY = userdata.get('GOOGLE_API_KEY')"
      ],
      "metadata": {
        "id": "YvrIqfISdfD9"
      },
      "execution_count": null,
      "outputs": []
    },
    {
      "cell_type": "code",
      "source": [
        "emb = GooglePalmEmbeddings(model_name='models/embedding-gecko-001',google_api_key=GOOGLE_API_KEY)\n",
        "print(f\"Out put dimension: {len(emb.embed_query('Hi How are you?'))}\")"
      ],
      "metadata": {
        "colab": {
          "base_uri": "https://localhost:8080/",
          "height": 35
        },
        "id": "3lZXdAB3bvtT",
        "outputId": "234e62be-d920-4d88-c633-c4e834db584e"
      },
      "execution_count": null,
      "outputs": [
        {
          "output_type": "stream",
          "name": "stdout",
          "text": [
            "Out put dimension: 768\n"
          ]
        }
      ]
    },
    {
      "cell_type": "markdown",
      "source": [
        "## **Data Base : Pinecone Vector DB**"
      ],
      "metadata": {
        "id": "iLnrF4ByeXq9"
      }
    },
    {
      "cell_type": "code",
      "source": [
        "from pinecone import Pinecone, ServerlessSpec, PodSpec\n",
        "\n",
        "\n",
        "p = Pinecone(api_key= PINECONE_API_KEY)"
      ],
      "metadata": {
        "id": "liNRni2IeWpL"
      },
      "execution_count": null,
      "outputs": []
    },
    {
      "cell_type": "code",
      "source": [
        "# p.create_index('cancer-retrieval',\n",
        "#               dimension=768,\n",
        "#               metric='cosine',\n",
        "#               spec = PodSpec(environment='gcp-starter',\n",
        "#                              pod_type='starter',\n",
        "#                              pods = 1))\n",
        "# index =  p.Index('cancer-retrieval')"
      ],
      "metadata": {
        "id": "9W1ngoDGfj5s"
      },
      "execution_count": null,
      "outputs": []
    },
    {
      "cell_type": "code",
      "source": [
        "index =  p.Index('cancer-retrieval')"
      ],
      "metadata": {
        "id": "ssiNaNZSgr17"
      },
      "execution_count": null,
      "outputs": []
    },
    {
      "cell_type": "code",
      "source": [
        "index.describe_index_stats()"
      ],
      "metadata": {
        "colab": {
          "base_uri": "https://localhost:8080/"
        },
        "id": "HxZWJobjfmNS",
        "outputId": "083bb00c-6cc1-4780-d2c5-3e258d2532a4"
      },
      "execution_count": null,
      "outputs": [
        {
          "output_type": "execute_result",
          "data": {
            "text/plain": [
              "{'dimension': 768,\n",
              " 'index_fullness': 0.0,\n",
              " 'namespaces': {},\n",
              " 'total_vector_count': 0}"
            ]
          },
          "metadata": {},
          "execution_count": 23
        }
      ]
    },
    {
      "cell_type": "code",
      "source": [
        "total_vector = index.describe_index_stats()['total_vector_count']"
      ],
      "metadata": {
        "id": "3DulwHBvIUBI"
      },
      "execution_count": null,
      "outputs": []
    },
    {
      "cell_type": "code",
      "source": [
        "(final_data[200])"
      ],
      "metadata": {
        "colab": {
          "base_uri": "https://localhost:8080/",
          "height": 163
        },
        "id": "iGco0KTDhMPX",
        "outputId": "9720592b-430f-4971-c135-e88ce4cf6c85"
      },
      "execution_count": null,
      "outputs": [
        {
          "output_type": "execute_result",
          "data": {
            "text/plain": [
              "'survival among the study participants in both groups ( p =. 0001 ). in subset analysis, patients with stage iiic disease and metastatic tumour < 45 mm had better survival than those with stage iv disease or larger > 45 mm tumours. other significant prognostic factors included : histological type ( p =. 0003 ), largest tumor size at randomization ( p =. 0008 ) and disease stage ( iiic vs. iv ) ( p =. 0008 ). the results of this study provide support for the use of nact / interval surgery in advanced ovarian cancer, but do not detract from the need for optimal surgery since this was still the strongest predictor of outcome. many critics of the eortc study have cited better optimal reduction rates and pfs / os with primary debulking surgery ( pds ) from single institution american series, compared to the pds arm of eortc study, thereby questioning the quality of surgery in this trial ( 5 ) however, this trial only accrued higher risk'"
            ],
            "application/vnd.google.colaboratory.intrinsic+json": {
              "type": "string"
            }
          },
          "metadata": {},
          "execution_count": 27
        }
      ]
    },
    {
      "cell_type": "code",
      "source": [
        "embeddings = emb.embed_documents(final_data)"
      ],
      "metadata": {
        "id": "-A30QydpKveT"
      },
      "execution_count": null,
      "outputs": []
    },
    {
      "cell_type": "code",
      "source": [
        "final_db_data =[]\n",
        "for i,j in enumerate(final_data):\n",
        "  final_db_data.append({'id':str(total_vector + i),'values':embeddings[i],'metadata':{'text':j}})"
      ],
      "metadata": {
        "id": "MYMt-1ztHtdM"
      },
      "execution_count": 42,
      "outputs": []
    },
    {
      "cell_type": "code",
      "source": [
        "index.upsert(final_db_data)"
      ],
      "metadata": {
        "colab": {
          "base_uri": "https://localhost:8080/"
        },
        "id": "Uorp8t31M9Kx",
        "outputId": "07bfebd5-c68d-4c28-fc02-d310f0f40769"
      },
      "execution_count": 43,
      "outputs": [
        {
          "output_type": "execute_result",
          "data": {
            "text/plain": [
              "{'upserted_count': 385}"
            ]
          },
          "metadata": {},
          "execution_count": 43
        }
      ]
    },
    {
      "cell_type": "code",
      "source": [
        "index.describe_index_stats()"
      ],
      "metadata": {
        "id": "4CarPve-M-Vw",
        "colab": {
          "base_uri": "https://localhost:8080/"
        },
        "outputId": "8dd8997a-506b-43ae-9c76-a0d871e1c0ab"
      },
      "execution_count": 44,
      "outputs": [
        {
          "output_type": "execute_result",
          "data": {
            "text/plain": [
              "{'dimension': 768,\n",
              " 'index_fullness': 0.00385,\n",
              " 'namespaces': {'': {'vector_count': 385}},\n",
              " 'total_vector_count': 385}"
            ]
          },
          "metadata": {},
          "execution_count": 44
        }
      ]
    },
    {
      "cell_type": "code",
      "source": [],
      "metadata": {
        "id": "xrKAPGPtP0hx"
      },
      "execution_count": null,
      "outputs": []
    },
    {
      "cell_type": "markdown",
      "source": [
        "# **DATA VERIFICATION AFTER LOADING**"
      ],
      "metadata": {
        "id": "oIzPgduJe9RS"
      }
    },
    {
      "cell_type": "code",
      "source": [
        "from langchain_community.embeddings import GooglePalmEmbeddings\n",
        "from google.colab import userdata\n",
        "from pinecone import Pinecone\n",
        "\n",
        "PINECONE_API_KEY = userdata.get('PINECONE_API_KEY')\n",
        "GOOGLE_API_KEY = userdata.get('GOOGLE_API_KEY')\n",
        "\n",
        "p = Pinecone(api_key=PINECONE_API_KEY)\n",
        "index = p.Index('cancer-retrieval')"
      ],
      "metadata": {
        "id": "kIyoCUI4fVbq"
      },
      "execution_count": 49,
      "outputs": []
    },
    {
      "cell_type": "code",
      "source": [
        "index.describe_index_stats()"
      ],
      "metadata": {
        "colab": {
          "base_uri": "https://localhost:8080/"
        },
        "id": "6C9fVGoAgNOh",
        "outputId": "2f2e16aa-4831-4726-bc89-dd88a20b885d"
      },
      "execution_count": 50,
      "outputs": [
        {
          "output_type": "execute_result",
          "data": {
            "text/plain": [
              "{'dimension': 768,\n",
              " 'index_fullness': 0.00385,\n",
              " 'namespaces': {'': {'vector_count': 385}},\n",
              " 'total_vector_count': 385}"
            ]
          },
          "metadata": {},
          "execution_count": 50
        }
      ]
    },
    {
      "cell_type": "code",
      "source": [
        "query = ' Oral Cancer?'\n",
        "embed = emb.embed_query(query)\n",
        "res = index.query(vector=embed, top_k=15, include_metadata=True)\n",
        "text = [r['metadata']['text'] for r in res['matches']]\n",
        "print(word_wrap('\\n'.join(text)))\n",
        "\n"
      ],
      "metadata": {
        "colab": {
          "base_uri": "https://localhost:8080/",
          "height": 1000
        },
        "id": "TqE8Y9Z4gfGy",
        "outputId": "126ff37a-70df-49a5-ba27-952ef29d165e"
      },
      "execution_count": 57,
      "outputs": [
        {
          "output_type": "stream",
          "name": "stdout",
          "text": [
            "and neck cancer epidemiology consortium. cancer epidem iol biomar kers\n",
            "prev. 20 09 ; 18 : 541 - 550. 3. wen cp, tsai mk, chung ws, et al.\n",
            "cancer risks from betel quid chewing beyond oral cancer : a multiple -\n",
            "site carcinogen when acting with smo king. cancer causes control. 2010\n",
            "; 21 : 1427 - 1435. 4. kreimer ar, clifford gm, boyle p, franceschi s.\n",
            "human papillomavi rus types in head and neck squamous cell carcinomas\n",
            "worldwide : a systematic review. cancer epidemiol biomar kers prev 2005\n",
            "; 14 : 467 – 475. 5. r. sankaranaraya nan. screening for cancer in low\n",
            "- and middle - income countries. annals of global health 2014 ; 80 :\n",
            "412 - 417 6. screeni ng for oral cancer and prec ancer. a report of the\n",
            "uk wor king group on screeni ng for oral cancer and precancer.\n",
            "community dental health 1993 ; 10 : 1 - 89 7. war nakulasuriya s,\n",
            "pindborg jj. reliability of oral precancer screening by primary heal th\n",
            "care workers\n",
            "histopathology : negative histopatholoy : moderate /\n",
            "severe dysplasia / malignancy referral to a tertiary care centre for\n",
            "further management 6 - 12 months follow up for lesion status / confirm\n",
            "tobacco cessation no change / progression regression 24 national cancer\n",
            "grid : resource stratified guidelines _ 2019 / preventive oncology\n",
            "page24 references : oral cancer screening 1. ferlay j, colombet m,\n",
            "soerjomataram i, mathers c, parkin dm, pineros m, zn aor a, bray f.\n",
            "estim ating the global ca ncer incidence and mortality in 2018 :\n",
            "globocan sources and met hods. int j cancer. 2018 oct 23. doi : 10.\n",
            "1002 / ijc. 31937 2. hashibe m, brennan p, chuang sc, et al.\n",
            "interaction between tobacco and alcohol use and the risk of head and\n",
            "neck cancer : pooled analysis in the international head and neck cancer\n",
            "epidemiology consortium. cancer epidem iol biomar kers prev. 20 09 ; 18\n",
            ": 541 - 550.\n",
            "23 national cancer grid : resource stratified guidelines _\n",
            "2019 / preventive oncology page23 chart : oral cancer screening high\n",
            "risk population based screening at risk population : use of tobacco /\n",
            "alcohol / areca nut / mixed use ( all age groups ) oral cancer\n",
            "screening by oral visual inspection ( ovi ) at sc / phc screen positive\n",
            "criteria : 1. leucoplakia 2. erythroplakia 3. oral submucous fibrosis\n",
            "4. non healing ulcers 5. suspicious cancerous growth in oral cavity ovi\n",
            "negative ovi positive counselling for tobacco cessation evaluation by\n",
            "doctor at phc / chc ( including dentist ) ovi negative normal findings\n",
            "potentially malignant lesion / malignant lesion counselling for tobacco\n",
            "/ alcohol cessation by primary healthcare worker / ncd nurse diagnosis\n",
            "by oral punch / excision biopsy at chc / dh return to routine screening\n",
            "at 3 – 5 years histopathology : negative histopatholoy : moderate /\n",
            "severe dysplasia / malignancy\n",
            "smo king, alcohol use, smokeless tobacco\n",
            "use, and hpv infection are the major risk factors for oral cavity\n",
            "cancer. smo keless tobacco products and betel quid with or without toba\n",
            "cco are the major risk factors for oral cavity cancer in india and\n",
            "other neighbouring countries. human papillomavir us ( hpv ) has been\n",
            "shown to be another independent risk factor for oral squam ous cell\n",
            "carcino mas ( oscc ) of the base of the tongue, tonsils, pharynx, and\n",
            "laryn x. despite the general accessibility of the oral cavity during\n",
            "physical examination, many malig nancies are not diagnosed until late\n",
            "stages of diseas e. early detection of oral cancer and their precursors\n",
            "is the key to reducing the high mortal ity rate attributable to oral\n",
            "cancer. oral cancer screening the screening tests or diagnos tic aids\n",
            "used to improve early detection and diag nosis of oral precancers and\n",
            "cancers which are avail able for oral cancer, some of which have\n",
            "been\n",
            "19. lord sj, lei w, craft p, et al. a systematic review of the\n",
            "effectiveness of magnetic resonance ima ging ( mri ) as an addition to\n",
            "mammography and ultraso und in screening young women at high risk of\n",
            "breast cancer. eur j ca ncer 2007 ; 43, 13 : 1905 - 17. 20 national\n",
            "cancer grid : resource stratified guidelines _ 2019 / preventive\n",
            "oncology page28 oral canc er scre ening oral cancer is an important\n",
            "public health problem with increasing incidence and late - stage prese\n",
            "ntation. cancers of the mouth, pharynx and larynx taken together are\n",
            "the seventh most commonly occurring type of cancer worldwide. india\n",
            "reported lip, oral cavity cancer at asir of 9. 1 for both sexes combine\n",
            "a n d 1 3. 9 for men. oral cancer thus accounts as the highest\n",
            "incidence of malign ancy in males and the second highest in females in\n",
            "india. smo king, alcohol use, smokeless tobacco use, and hpv infection\n",
            "are the major risk factors for\n",
            "precancers and cancers which are avail\n",
            "able for oral cancer, some of which have been practi ced and studied\n",
            "for many years while others have recently become comm ercially availa\n",
            "ble include oral visual exam ination, exfoliative cytology, vital\n",
            "tissue staining ( toluidine blue, methylene blue ), visuali zation\n",
            "adjuncts ( vizilite plus with tblue, vizilite, microlux dl, oras coptic\n",
            "dk, velsc ope ), and oral cdx brush biopsy. oral visual inspection (\n",
            "0vi ) a conventional oral visual inspecti on ( 0vi ) of the oral\n",
            "cavity, using normal ( incan desce nt ) light, has long been the\n",
            "standard method for oral cancer screening. the uk working group on 21\n",
            "national cancer grid : resource stratified guidelines _ 2019 /\n",
            "preventive oncology page21 screening for oral cancer and precancer in\n",
            "1990's had concluded that the most suitable screening for oral cancer\n",
            "and precancer is a thorough and methodical examination in good\n",
            "25\n",
            "national cancer grid : resource stratified guidelines _ 2019 /\n",
            "preventive oncology page25 16. mehrotra r, singh mk, pandya s, singh m.\n",
            "the use of an oral brush biopsy without compu ter - assisted analysis\n",
            "in the evaluation of oral lesions : a study of 94 patients. oral surg\n",
            "oral med oral pathol oral radiol endod 2008 ; 106 : 246 - 53. 17.\n",
            "elango kj, anandkrishnan n, suresh a et al. mouth self - exami nation\n",
            "to improve oral cancer awareness and early detection in a high - risk\n",
            "population. oral oncol. 2011 ; 47 : 620 - 4. 18. epstein jb, guneri p.\n",
            "the adjunctive role of toluidine blue in detecti on of oral premali\n",
            "gnant and mali gnant lesions. curr opin otolaryng ol head neck surg.\n",
            "2009 ; 17 : 79 - 87. 19. chen, y. w., j. s. lin, j. h. j. fong et al.\n",
            "use of methylene blue as a diagnostic aid in early detection of oral\n",
            "cancer and precancerous lesions. br j oral max illofac surg 2007 ; 45\n",
            ":\n",
            "early findings from a community - based, cluster - randomized,\n",
            "controlled oral cancer screening trial in kerala, india. the triva\n",
            "ndrum oral cancer screen ing study group. cancer 2000 ; 88 : 664 – 73\n",
            "12. sankaranaray anan r, ramadas k, thomas g, et al. effect of\n",
            "screening on oral cancer mortality in kerala, india : a cluster\n",
            "randomised controlled trial. lancet 2005 ; 365 : 1927e33. 13. subram\n",
            "anian s, sankaranaraya nan r, bapat b, et al. cost - effectiveness of\n",
            "oral cancer screening : results from a cluster randomi zed controlled\n",
            "trial in india. bull world health organ 2009 ; 87 : 200e6. 14. eisen d,\n",
            "frist s. the relevance of the high positive predictive value of the\n",
            "oral brush biopsy. oral oncol 2005 ; 41 : 753 – 5. 15. scully c, bagan\n",
            "jv, hopper c, epstein jb. oral cancer : current and future diagnostic\n",
            "techn iques. am j dent. 2008 ; 21 : 199 – 209. 25 national cancer grid\n",
            ": resource stratified guidelines _ 2019 / preventive oncology\n",
            "screening\n",
            "for oral cancer and precancer is a thorough and methodical examination\n",
            "in good lighti ng of the mucosal surfaces of the oral cavity. a meta -\n",
            "analysis of four studies of ovi conducted in devel oping countries\n",
            "using heal th care auxiliari es as screeners showed an overall\n",
            "sensitivity of 0. 85 ( 95 % ci 0. 73, 0. 92 ) and spec ificity of 0. 97\n",
            "( 95 % ci 0. 93, 0. 98 ) indicating a satisfactory test performa nce\n",
            "for an oral exami nation. resul ts of community - based cluster\n",
            "randomized controll ed intervention trial in trivandrum district,\n",
            "kerala, south india, showed significant 34 % redu ction in oral cancer\n",
            "mortality among users of tobacco or alcohol, or both and a much higher\n",
            "reduction in those compl ying with all rounds of screening in a\n",
            "randomized trial in india. although ovi could be considered as an\n",
            "effective as a screening test, there are still many prob lems with this\n",
            "approach since, the vast\n",
            "2007 ; 45 : 590 - 591. 20. mark w. lingen,\n",
            "john r. kalmar, theodore karrison et al. critical evaluation of diag\n",
            "nostic aids for the detection of or al cancer. oral oncol. 2008 ; 44 :\n",
            "10 – 22. 21. brocklehurst p, kujan o, o'malley la et al. screeni ng\n",
            "prog rammes for the early dete ction and preve ntion of oral cancer.\n",
            "cochra ne database syst rev. 2013 extracted information\n",
            "heal th care\n",
            "workers in sri lanka. comm unity dent health 1990 ; 7 ( 1 ) : 73 – 9. [\n",
            "pubmed : 2357611 ] 8. mathew b, sankaranarayanan r, sunilkumar kb,\n",
            "kuruvila b, pisani p, nair mk. repro ducibility and validity of oral\n",
            "visual inspection by trained health workers in the detection of oral\n",
            "precancer and cancer. br j cancer 1997 ; 76 ( 3 ) : 390 – 4. [ pubmed :\n",
            "9252209 ] 9. sankaranaray anan r, ramadas k, thara s, et al. long term\n",
            "effect of visual screening on oral cancer incidence and mortality in a\n",
            "randomized trial in kerala, india. oral oncol 2013 ; 49 : 314e21. 10.\n",
            "ramadas k, sankaranarayanan r, jacob bj, thomas g, soma nathan t, mahe\n",
            "c, et al. interim results from a cluster random ized controlled oral\n",
            "cancer screening trial in kerala, india. oral oncol 2003 ; 39 : 580 –\n",
            "8. 11. sankaranaray anan r, mathew b, jacob bj, thomas g, somanathan t,\n",
            "pisani p, et\n",
            "naked eye, rather than as true screening tools. effective\n",
            "early detection technologies that are easy to perform clinically in\n",
            "primary care settings combi ned with an increas ed public awareness of\n",
            "oral cancer in general will help attain the goal of decreasing the\n",
            "burden of oral cancer. diagno stic evaluation oral brush cytology :\n",
            "standard exfoli ative oral cytology from the mucosal surface and has\n",
            "been exist ence for a long time but has prov en unreliable so far. oral\n",
            "brush biopsy : brush biopsy was desig ned for evaluating clinical\n",
            "lesions that would not be subjected to standard biopsy due to lack of\n",
            "facilities. several studies have shown encouraging resu lts with oral\n",
            "brush cytology for evalua tion of oral precancerous lesions. this may\n",
            "have application in resource challenged areas and could be a risk free\n",
            "method of evaluating oral lesions. 23 national cancer grid : resource\n",
            "stratified guidelines _ 2019 / preventive oncology\n",
            "effective as a\n",
            "screening test, there are still many prob lems with this approach\n",
            "since, the vast majori ty of the precancer lesions detected are benign\n",
            "and only a small percentage of leukoplakias are prog ressive or beco me\n",
            "malignant thus ovi cannot discriminate between potentially premalign\n",
            "ant lesions and non - progre ssive lesions. mouth self examination (\n",
            "mse ) as an alternative mouth self exami nation ( mse ) was evaluated\n",
            "in a study involving 34, 766 subje cts in india and was found to have\n",
            "low sensitivity of 18 % while the specificity was 99. 9 %. overall\n",
            "awareness about oral cancer and its risk factors after introduction of\n",
            "mse program was over 80 % ; but the complia nce to seek treatment was\n",
            "reported to be very poor at 32 %. the authors concluded that role of\n",
            "health education in susta ined practice of mse needs to be evaluated.\n",
            "adjunctive technologies : there is currently no evide nce to support\n",
            "the use of like, vital\n",
            "more in breast cancer : help us end cancer as we\n",
            "know it, for everyone. : cancer information, answers, and hope.\n",
            "available every minute of every day. : cancer information : cancer\n",
            "prevention & detection understanding cancer signs & symptoms of cancer\n",
            "cancer treatment acs research highlights cancer facts & statistics news\n",
            "and stories glossary for health care professionals acs fundraisers :\n",
            "making strides against breast cancer walks relay for life events\n",
            "american cancer society on campus coaches vs. cancer galas, balls &\n",
            "parties ways to give memorial giving planned giving philanthropy donate\n",
            "a car coupons that give donate by mail or phone about acs : contact us\n",
            "acs in your community employment information for suppliers report fraud\n",
            "or abuse sign up for email our research cancer action network global\n",
            "health policies our volunteers\n",
            "more in breast cancer : help us end\n",
            "cancer as we know it, for everyone. : cancer information, answers, and\n",
            "hope. available every minute of every day. : cancer information :\n",
            "cancer prevention & detection understanding cancer signs & symptoms of\n",
            "cancer cancer treatment acs research highlights cancer facts &\n",
            "statistics news and stories glossary for health care professionals acs\n",
            "fundraisers : making strides against breast cancer walks relay for life\n",
            "events american cancer society on campus coaches vs. cancer galas,\n",
            "balls & parties ways to give memorial giving planned giving\n",
            "philanthropy donate a car coupons that give donate by mail or phone\n",
            "about acs : contact us acs in your community employment information for\n",
            "suppliers report fraud or abuse sign up for email our research cancer\n",
            "action network global health policies our volunteers\n"
          ]
        }
      ]
    },
    {
      "cell_type": "markdown",
      "source": [
        "# **LLM IMPLEMENTATION (GOOGLE GEMINI PRO)**"
      ],
      "metadata": {
        "id": "bFaqVR1aiNWc"
      }
    },
    {
      "cell_type": "code",
      "source": [
        "import langchain\n",
        "from langchain_google_genai import ChatGoogleGenerativeAI\n",
        "\n",
        "temperature = 0.1\n",
        "# max_tokens = 500\n",
        "# Create a ChatGoogleGenerativeAI instance for Gemini\n",
        "llm = ChatGoogleGenerativeAI(\n",
        "    model=\"gemini-pro\",\n",
        "    google_api_key= GOOGLE_API_KEY, temperature=temperature\n",
        ")\n"
      ],
      "metadata": {
        "id": "MnTRBVIAiYQx"
      },
      "execution_count": 73,
      "outputs": []
    },
    {
      "cell_type": "markdown",
      "source": [
        "## **Prompt Construction**"
      ],
      "metadata": {
        "id": "K92JR1ldildg"
      }
    },
    {
      "cell_type": "code",
      "source": [
        "query = ' Oral Cancer?'\n",
        "embed = emb.embed_query(query)\n",
        "res = index.query(vector=embed, top_k=15, include_metadata=True)\n",
        "text = [r['metadata']['text'] for r in res['matches']]\n",
        "context = '\\n'.join(text)\n",
        "prompt = f'''You are an expert health care CANCER information provider specifically  Cervical , Breast, Oral ,Ovarian related Cancers.\n",
        "You will also be given CONTEXT based on this context you have to answer or give brief summary about the question.\n",
        "Make sure you should not give false or Hallucinate or give answer randomly , answer should be combination of your true knowledge and context given.\n",
        "question Is:{query}\n",
        "Context Is:{context}\n",
        "\n",
        "Please give response in below format\n",
        "\"question: {query}\n",
        "Answer: Your Answer will be here\n",
        "Context: {context}\"\n",
        "\n",
        "'''\n",
        "\n",
        "\n",
        "prompt = prompt\n",
        "\n",
        "\n",
        "\n",
        "# Send the prompt to Gemini and get the response\n",
        "response = llm.invoke( prompt)\n",
        "\n"
      ],
      "metadata": {
        "id": "yRvQUu0fiuwu"
      },
      "execution_count": 74,
      "outputs": []
    },
    {
      "cell_type": "code",
      "source": [
        "response"
      ],
      "metadata": {
        "colab": {
          "base_uri": "https://localhost:8080/"
        },
        "id": "GoW9l2qUmeYw",
        "outputId": "88ab40c2-a59f-4afd-bade-2f8708a90b2c"
      },
      "execution_count": 72,
      "outputs": [
        {
          "output_type": "execute_result",
          "data": {
            "text/plain": [
              "AIMessage(content='question: What is Oral Cancer?\\nAnswer: Oral cancer is an important public health problem with increasing incidence and late - stage presentation.\\nContext: Oral cancer is an important public health problem with increasing incidence and late - stage prese ntation. cancers of the mouth, pharynx and larynx taken together are the seventh most commonly occurring type of cancer worldwide.')"
            ]
          },
          "metadata": {},
          "execution_count": 72
        }
      ]
    },
    {
      "cell_type": "code",
      "source": [
        "print(word_wrap(response.content))"
      ],
      "metadata": {
        "colab": {
          "base_uri": "https://localhost:8080/"
        },
        "id": "L69B0pvnme3y",
        "outputId": "a39f08f4-a539-4ff2-fa79-0dac98943859"
      },
      "execution_count": 78,
      "outputs": [
        {
          "output_type": "stream",
          "name": "stdout",
          "text": [
            "question: Oral Cancer?\n",
            "Answer: Oral cancer is an important public\n",
            "health problem with increasing incidence and late-stage presentation.\n",
            "Cancers of the mouth, pharynx, and larynx taken together are the\n",
            "seventh most commonly occurring type of cancer worldwide. India\n",
            "reported lip, oral cavity cancer at ASIR of 9.1 for both sexes combined\n",
            "and 13.9 for men. Oral cancer thus accounts as the highest incidence of\n",
            "malignancy in males and the second highest in females in India.\n",
            "Smoking, alcohol use, smokeless tobacco use, and HPV infection are the\n",
            "major risk factors for oral cavity cancer.\n",
            "Context: and neck cancer\n",
            "epidemiology consortium. cancer epidem iol biomar kers prev. 20 09 ; 18\n",
            ": 541 - 550. 3. wen cp, tsai mk, chung ws, et al. cancer risks from\n",
            "betel quid chewing beyond oral cancer : a multiple - site carcinogen\n",
            "when acting with smo king. cancer causes control. 2010 ; 21 : 1427 -\n",
            "1435. 4. kreimer ar, clifford gm, boyle p, franceschi s. human\n",
            "papillomavi rus types in head and neck squamous cell carcinomas\n",
            "worldwide : a systematic review. cancer epidemiol biomar kers prev 2005\n",
            "; 14 : 467 – 475. 5. r. sankaranaraya nan. screening for cancer in low\n",
            "- and middle - income countries. annals of global health 2014 ; 80 :\n",
            "412 - 417 6. screeni ng for oral cancer and prec ancer. a report of the\n",
            "uk wor king group on screeni ng for oral cancer and precancer.\n",
            "community dental health 1993 ; 10 : 1 - 89 7. war nakulasuriya s,\n",
            "pindborg jj. reliability of oral precancer screening by primary heal th\n",
            "care workers\n",
            "histopathology : negative histopatholoy : moderate /\n",
            "severe dysplasia / malignancy referral to a tertiary care centre for\n",
            "further management 6 - 12 months follow up for lesion status / confirm\n",
            "tobacco cessation no change / progression regression 24 national cancer\n",
            "grid : resource stratified guidelines _ 2019 / preventive oncology\n",
            "page24 references : oral cancer screening 1. ferlay j, colombet m,\n",
            "soerjomataram i, mathers c, parkin dm, pineros m, zn aor a, bray f.\n",
            "estim ating the global ca ncer incidence and mortality in 2018 :\n",
            "globocan sources and met hods. int j cancer. 2018 oct 23. doi : 10.\n",
            "1002 / ijc. 31937 2. hashibe m, brennan p, chuang sc, et al.\n",
            "interaction between tobacco and alcohol use and the risk of head and\n",
            "neck cancer : pooled analysis in the international head and neck cancer\n",
            "epidemiology consortium. cancer epidem iol biomar kers prev. 20 09 ; 18\n",
            ": 541 - 550.\n",
            "23 national cancer grid : resource stratified guidelines _\n",
            "2019 / preventive oncology page23 chart : oral cancer screening high\n",
            "risk population based screening at risk population : use of tobacco /\n",
            "alcohol / areca nut / mixed use ( all age groups ) oral cancer\n",
            "screening by oral visual inspection ( ovi ) at sc / phc screen positive\n",
            "criteria : 1. leucoplakia 2. erythroplakia 3. oral submucous fibrosis\n",
            "4. non healing ulcers 5. suspicious cancerous growth in oral cavity ovi\n",
            "negative ovi positive counselling for tobacco cessation evaluation by\n",
            "doctor at phc / chc ( including dentist ) ovi negative normal findings\n",
            "potentially malignant lesion / malignant lesion counselling for tobacco\n",
            "/ alcohol cessation by primary healthcare worker / ncd nurse diagnosis\n",
            "by oral punch / excision biopsy at chc / dh return to routine screening\n",
            "at 3 – 5 years histopathology : negative histopatholoy : moderate /\n",
            "severe dysplasia / malignancy\n",
            "smo king, alcohol use, smokeless tobacco\n",
            "use, and hpv infection are the major risk factors for oral cavity\n",
            "cancer. smo keless tobacco products and betel quid with or without toba\n",
            "cco are the major risk factors for oral cavity cancer in india and\n",
            "other neighbouring countries. human papillomavir us ( hpv ) has been\n",
            "shown to be another independent risk factor for oral squam ous cell\n",
            "carcino mas ( oscc ) of the base of the tongue, tonsils, pharynx, and\n",
            "laryn x. despite the general accessibility of the oral cavity during\n",
            "physical examination, many malig nancies are not diagnosed until late\n",
            "stages of diseas e. early detection of oral cancer and their precursors\n",
            "is the key to reducing the high mortal ity rate attributable to oral\n",
            "cancer. oral cancer screening the screening tests or diagnos tic aids\n",
            "used to improve early detection and diag nosis of oral precancers and\n",
            "cancers which are avail able for oral cancer, some of which have\n",
            "been\n",
            "19. lord sj, lei w, craft p, et al. a systematic review of the\n",
            "effectiveness of magnetic resonance ima ging ( mri ) as an addition to\n",
            "mammography and ultraso und in screening young women at high risk of\n",
            "breast cancer. eur j ca ncer 2007 ; 43, 13 : 1905 - 17. 20 national\n",
            "cancer grid : resource stratified guidelines _ 2019 / preventive\n",
            "oncology page28 oral canc er scre ening oral cancer is an important\n",
            "public health problem with increasing incidence and late - stage prese\n",
            "ntation. cancers of the mouth, pharynx and larynx taken together are\n",
            "the seventh most commonly occurring type of cancer worldwide. india\n",
            "reported lip, oral cavity cancer at asir of 9. 1 for both sexes combine\n",
            "a n d 1 3. 9 for men. oral cancer thus accounts as the highest\n",
            "incidence of malign ancy in males and the second highest in females in\n",
            "india. smo king, alcohol use, smokeless tobacco use, and hpv infection\n",
            "are the major risk factors for\n",
            "precancers and cancers which are avail\n",
            "able for oral cancer, some of which have been practi ced and studied\n",
            "for many years while others have recently become comm ercially availa\n",
            "ble include oral visual exam ination, exfoliative cytology, vital\n",
            "tissue staining ( toluidine blue, methylene blue ), visuali zation\n",
            "adjuncts ( vizilite plus with tblue, vizilite, microlux dl, oras coptic\n",
            "dk, velsc ope ), and oral cdx brush biopsy. oral visual inspection (\n",
            "0vi ) a conventional oral visual inspecti on ( 0vi ) of the oral\n",
            "cavity, using normal ( incan desce nt ) light, has long been the\n",
            "standard method for oral cancer screening. the uk working group on 21\n",
            "national cancer grid : resource stratified guidelines _ 2019 /\n",
            "preventive oncology page21 screening for oral cancer and precancer in\n",
            "1990's had concluded that the most suitable screening for oral cancer\n",
            "and precancer is a thorough and methodical examination in good\n",
            "25\n",
            "national cancer grid : resource stratified guidelines _ 2019 /\n",
            "preventive oncology page25 16. mehrotra r, singh mk, pandya s, singh m.\n",
            "the use of an oral brush biopsy without compu ter - assisted analysis\n",
            "in the evaluation of oral lesions : a study of 94 patients. oral surg\n",
            "oral med oral pathol oral radiol endod 2008 ; 106 : 246 - 53. 17.\n",
            "elango kj, anandkrishnan n, suresh a et al. mouth self - exami nation\n",
            "to improve oral cancer awareness and early detection in a high - risk\n",
            "population. oral oncol. 2011 ; 47 : 620 - 4. 18. epstein jb, guneri p.\n",
            "the adjunctive role of toluidine blue in detecti on of oral premali\n",
            "gnant and mali gnant lesions. curr opin otolaryng ol head neck surg.\n",
            "2009 ; 17 : 79 - 87. 19. chen, y. w., j. s. lin, j. h. j. fong et al.\n",
            "use of methylene blue as a diagnostic aid in early detection of oral\n",
            "cancer and precancerous lesions. br j oral max illofac surg 2007 ; 45\n",
            ":\n",
            "early findings from a community - based, cluster - randomized,\n",
            "controlled oral cancer screening trial in kerala, india. the triva\n",
            "ndrum oral cancer screen ing study group. cancer 2000 ; 88 : 664 – 73\n",
            "12. sankaranaray anan r, ramadas k, thomas g, et al. effect of\n",
            "screening on oral cancer mortality in kerala, india : a cluster\n",
            "randomised controlled trial. lancet 2005 ; 365 : 1927e33. 13. subram\n",
            "anian s, sankaranaraya nan r, bapat b, et al. cost - effectiveness of\n",
            "oral cancer screening : results from a cluster randomi zed controlled\n",
            "trial in india. bull world health organ 2009 ; 87 : 200e6. 14. eisen d,\n",
            "frist s. the relevance of the high positive predictive value of the\n",
            "oral brush biopsy. oral oncol 2005 ; 41 : 753 – 5. 15. scully c, bagan\n",
            "jv, hopper c, epstein jb. oral cancer : current and future diagnostic\n",
            "techn iques. am j dent. 2008 ;\n"
          ]
        }
      ]
    }
  ]
}